{
 "cells": [
  {
   "cell_type": "markdown",
   "metadata": {},
   "source": [
    "# Load Model"
   ]
  },
  {
   "cell_type": "code",
   "execution_count": 1,
   "metadata": {},
   "outputs": [],
   "source": [
    "from sklearn.model_selection import train_test_split,GridSearchCV\n",
    "from sklearn.pipeline import Pipeline\n",
    "from sklearn.impute import SimpleImputer\n",
    "from sklearn.compose import ColumnTransformer\n",
    "from sklearn.preprocessing import StandardScaler, MinMaxScaler,OneHotEncoder\n",
    "from sklearn.metrics import classification_report\n",
    "from sklearn import metrics\n",
    "\n",
    "from sklearn.neighbors import KNeighborsClassifier\n",
    "from sklearn.tree import DecisionTreeClassifier\n",
    "from sklearn.ensemble import RandomForestClassifier\n",
    "from sklearn.svm import SVC\n",
    "\n",
    "import pandas as pd\n",
    "import matplotlib.pyplot as plt\n",
    "import seaborn as sns\n",
    "\n",
    "import pickle"
   ]
  },
  {
   "cell_type": "code",
   "execution_count": 2,
   "metadata": {},
   "outputs": [],
   "source": [
    "df=pd.read_csv(\"water_potability.csv\")\n",
    "\n",
    "X=df.drop(['Potability'],axis=1)\n",
    "y=df.filter(['Potability'])\n",
    "\n",
    "X_train,X_test,y_train,y_test=train_test_split(X,y,test_size=0.2,random_state=42)\n",
    "X_train,X_val,y_train,y_val=train_test_split(X_train,y_train,test_size=0.25,random_state=42)"
   ]
  },
  {
   "cell_type": "markdown",
   "metadata": {},
   "source": [
    "### Predict Data"
   ]
  },
  {
   "cell_type": "code",
   "execution_count": 3,
   "metadata": {},
   "outputs": [],
   "source": [
    "def UbahAngka(mode, preddata):\n",
    "    x = 0\n",
    "    print(mode)\n",
    "    print('===============')\n",
    "    for i in preddata:\n",
    "        x = x + 1\n",
    "        if i == 0:\n",
    "            print('data :', x, ' ( tidak layak minum )')\n",
    "        else:\n",
    "            print('data :', x,' ( layak minum )')\n",
    "    print(\"\")"
   ]
  },
  {
   "cell_type": "code",
   "execution_count": 4,
   "metadata": {},
   "outputs": [],
   "source": [
    "data = [\n",
    "    [8.62830107406666,185.9267231,31548.00646,7.079462297,333.6395113,342.3556975,18.24836789,62.18868705,5.100857854], #harusnya 0\n",
    "    [9.808258179, 220.0495744, 34132.06798, 9.752750872, 233.8703275, 367.0443791, 13.49866451, 62.95426002, 4.48126124] #harusnya 1\n",
    "]\n",
    "\n",
    "data_test = pd.DataFrame(data,columns = X.columns)"
   ]
  },
  {
   "cell_type": "markdown",
   "metadata": {},
   "source": [
    "## Load 1"
   ]
  },
  {
   "cell_type": "markdown",
   "metadata": {},
   "source": [
    "Model adalah \n",
    "1. simple model yang di training dengan model hyper tuning dan prepocesor standard scaler\n",
    "2. missing data diisi dengan nilai median"
   ]
  },
  {
   "cell_type": "code",
   "execution_count": 5,
   "metadata": {},
   "outputs": [
    {
     "name": "stderr",
     "output_type": "stream",
     "text": [
      "D:\\anaconda\\envs\\jcopdl\\lib\\site-packages\\sklearn\\base.py:318: UserWarning: Trying to unpickle estimator SimpleImputer from version 0.23.2 when using version 0.22. This might lead to breaking code or invalid results. Use at your own risk.\n",
      "  UserWarning)\n",
      "D:\\anaconda\\envs\\jcopdl\\lib\\site-packages\\sklearn\\base.py:318: UserWarning: Trying to unpickle estimator StandardScaler from version 0.23.2 when using version 0.22. This might lead to breaking code or invalid results. Use at your own risk.\n",
      "  UserWarning)\n",
      "D:\\anaconda\\envs\\jcopdl\\lib\\site-packages\\sklearn\\base.py:318: UserWarning: Trying to unpickle estimator Pipeline from version 0.23.2 when using version 0.22. This might lead to breaking code or invalid results. Use at your own risk.\n",
      "  UserWarning)\n",
      "D:\\anaconda\\envs\\jcopdl\\lib\\site-packages\\sklearn\\base.py:318: UserWarning: Trying to unpickle estimator ColumnTransformer from version 0.23.2 when using version 0.22. This might lead to breaking code or invalid results. Use at your own risk.\n",
      "  UserWarning)\n",
      "D:\\anaconda\\envs\\jcopdl\\lib\\site-packages\\sklearn\\base.py:318: UserWarning: Trying to unpickle estimator DecisionTreeClassifier from version 0.23.2 when using version 0.22. This might lead to breaking code or invalid results. Use at your own risk.\n",
      "  UserWarning)\n",
      "D:\\anaconda\\envs\\jcopdl\\lib\\site-packages\\sklearn\\base.py:318: UserWarning: Trying to unpickle estimator RandomForestClassifier from version 0.23.2 when using version 0.22. This might lead to breaking code or invalid results. Use at your own risk.\n",
      "  UserWarning)\n",
      "D:\\anaconda\\envs\\jcopdl\\lib\\site-packages\\sklearn\\base.py:318: UserWarning: Trying to unpickle estimator GridSearchCV from version 0.23.2 when using version 0.22. This might lead to breaking code or invalid results. Use at your own risk.\n",
      "  UserWarning)\n",
      "D:\\anaconda\\envs\\jcopdl\\lib\\site-packages\\sklearn\\base.py:318: UserWarning: Trying to unpickle estimator KNeighborsClassifier from version 0.23.2 when using version 0.22. This might lead to breaking code or invalid results. Use at your own risk.\n",
      "  UserWarning)\n"
     ]
    }
   ],
   "source": [
    "filenameRF = 'model/model_RF.sav'\n",
    "modelRF = pickle.load(open(filenameRF, 'rb'))\n",
    "\n",
    "filenameDT = 'model/model_DT.sav'\n",
    "modelDT = pickle.load(open(filenameDT, 'rb'))\n",
    "\n",
    "filenameKNN = 'model/model_KNN.sav'\n",
    "modelKNN = pickle.load(open(filenameKNN, 'rb'))"
   ]
  },
  {
   "cell_type": "code",
   "execution_count": 6,
   "metadata": {},
   "outputs": [],
   "source": [
    "tuning_terbaikRF=modelRF.best_params_\n",
    "latihan_akurasiRF=modelRF.score(X_train,y_train)\n",
    "ujian_akurasiRF=modelRF.score(X_test,y_test)\n",
    "predRF=modelRF.predict(X_test)\n",
    "reportRF = classification_report(y_test,predRF)\n",
    "\n",
    "# ================================\n",
    "\n",
    "tuning_terbaikDT=modelDT.best_params_\n",
    "latihan_akurasiDT=modelDT.score(X_train,y_train)\n",
    "ujian_akurasiDT=modelDT.score(X_test,y_test)\n",
    "predDT=modelDT.predict(X_test)\n",
    "reportDT = classification_report(y_test,predDT)\n",
    "\n",
    "# ================================\n",
    "\n",
    "tuning_terbaikKNN=modelKNN.best_params_\n",
    "latihan_akurasiKNN=modelKNN.score(X_train,y_train)\n",
    "ujian_akurasiKNN=modelKNN.score(X_test,y_test)\n",
    "predKNN=modelKNN.predict(X_test)\n",
    "reportKNN = classification_report(y_test,predKNN)"
   ]
  },
  {
   "cell_type": "code",
   "execution_count": 7,
   "metadata": {
    "scrolled": true
   },
   "outputs": [
    {
     "name": "stdout",
     "output_type": "stream",
     "text": [
      "Random Forest\n",
      "\n",
      "ini adalah tuning terbaik : {'rf__criterion': 'gini', 'rf__max_depth': 48, 'rf__max_features': 'auto', 'rf__min_samples_leaf': 2, 'rf__n_estimators': 500}\n",
      "ini adalah hasil testing 0.7145038167938931\n",
      "ini adalah hasil training 1.0\n",
      "              precision    recall  f1-score   support\n",
      "\n",
      "           0       0.74      0.88      0.80       429\n",
      "           1       0.63      0.41      0.50       226\n",
      "\n",
      "    accuracy                           0.71       655\n",
      "   macro avg       0.69      0.64      0.65       655\n",
      "weighted avg       0.70      0.71      0.70       655\n",
      "\n",
      "==============================================\n",
      "\n",
      "Decision Tree\n",
      "\n",
      "ini adalah tuning terbaik : {'dt__criterion': 'gini', 'dt__max_depth': 5, 'dt__min_samples_leaf': 2}\n",
      "ini adalah hasil testing 0.6778625954198473\n",
      "ini adalah hasil training 0.6653082017320427\n",
      "              precision    recall  f1-score   support\n",
      "\n",
      "           0       0.69      0.92      0.79       429\n",
      "           1       0.59      0.22      0.32       226\n",
      "\n",
      "    accuracy                           0.68       655\n",
      "   macro avg       0.64      0.57      0.56       655\n",
      "weighted avg       0.66      0.68      0.63       655\n",
      "\n",
      "==============================================\n",
      "\n",
      "K-Narest Neigbhour\n",
      "\n",
      "ini adalah tuning terbaik : {'knn__algorithm': 'auto', 'knn__n_neighbors': 45, 'knn__p': 4}\n",
      "ini adalah hasil testing 0.683969465648855\n",
      "ini adalah hasil training 0.6444218033622007\n",
      "              precision    recall  f1-score   support\n",
      "\n",
      "           0       0.69      0.94      0.80       429\n",
      "           1       0.64      0.19      0.30       226\n",
      "\n",
      "    accuracy                           0.68       655\n",
      "   macro avg       0.66      0.57      0.55       655\n",
      "weighted avg       0.67      0.68      0.62       655\n",
      "\n",
      "==============================================\n",
      "\n"
     ]
    }
   ],
   "source": [
    "print(\"Random Forest\")\n",
    "print(\"\")\n",
    "print('ini adalah tuning terbaik :', tuning_terbaikRF)\n",
    "print('ini adalah hasil testing',ujian_akurasiRF)\n",
    "print('ini adalah hasil training', latihan_akurasiRF)\n",
    "print(reportRF)\n",
    "print('==============================================')\n",
    "print(\"\")\n",
    "\n",
    "print(\"Decision Tree\")\n",
    "print(\"\")\n",
    "print('ini adalah tuning terbaik :', tuning_terbaikDT)\n",
    "print('ini adalah hasil testing',ujian_akurasiDT)\n",
    "print('ini adalah hasil training', latihan_akurasiDT)\n",
    "print(reportDT)\n",
    "print('==============================================')\n",
    "print(\"\")\n",
    "\n",
    "print(\"K-Narest Neigbhour\")\n",
    "print(\"\")\n",
    "print('ini adalah tuning terbaik :', tuning_terbaikKNN)\n",
    "print('ini adalah hasil testing',ujian_akurasiKNN)\n",
    "print('ini adalah hasil training', latihan_akurasiKNN)\n",
    "print(reportKNN)\n",
    "print('==============================================')\n",
    "print(\"\")"
   ]
  },
  {
   "cell_type": "code",
   "execution_count": 8,
   "metadata": {
    "scrolled": false
   },
   "outputs": [
    {
     "name": "stdout",
     "output_type": "stream",
     "text": [
      "Random Forest\n",
      "===============\n",
      "data : 1  ( tidak layak minum )\n",
      "data : 2  ( layak minum )\n",
      "\n",
      "Decision Tree\n",
      "===============\n",
      "data : 1  ( tidak layak minum )\n",
      "data : 2  ( layak minum )\n",
      "\n",
      "K-Narest Neigbhour\n",
      "===============\n",
      "data : 1  ( tidak layak minum )\n",
      "data : 2  ( layak minum )\n",
      "\n"
     ]
    }
   ],
   "source": [
    "preddataRF = modelRF.predict(data_test)\n",
    "preddataDT = modelDT.predict(data_test)\n",
    "preddataKNN = modelKNN.predict(data_test)\n",
    "\n",
    "UbahAngka(\"Random Forest\", preddataRF)\n",
    "UbahAngka(\"Decision Tree\", preddataDT)\n",
    "UbahAngka(\"K-Narest Neigbhour\", preddataKNN)"
   ]
  },
  {
   "cell_type": "markdown",
   "metadata": {},
   "source": [
    "## Load 2"
   ]
  },
  {
   "cell_type": "markdown",
   "metadata": {},
   "source": [
    "Model adalah \n",
    "1. simple model yang di training dengan model hyper tuning dan prepocesor standard scaler\n",
    "2. data sudah di drop missing value"
   ]
  },
  {
   "cell_type": "code",
   "execution_count": 9,
   "metadata": {},
   "outputs": [
    {
     "name": "stderr",
     "output_type": "stream",
     "text": [
      "D:\\anaconda\\envs\\jcopdl\\lib\\site-packages\\sklearn\\base.py:318: UserWarning: Trying to unpickle estimator SimpleImputer from version 0.23.2 when using version 0.22. This might lead to breaking code or invalid results. Use at your own risk.\n",
      "  UserWarning)\n",
      "D:\\anaconda\\envs\\jcopdl\\lib\\site-packages\\sklearn\\base.py:318: UserWarning: Trying to unpickle estimator StandardScaler from version 0.23.2 when using version 0.22. This might lead to breaking code or invalid results. Use at your own risk.\n",
      "  UserWarning)\n",
      "D:\\anaconda\\envs\\jcopdl\\lib\\site-packages\\sklearn\\base.py:318: UserWarning: Trying to unpickle estimator Pipeline from version 0.23.2 when using version 0.22. This might lead to breaking code or invalid results. Use at your own risk.\n",
      "  UserWarning)\n",
      "D:\\anaconda\\envs\\jcopdl\\lib\\site-packages\\sklearn\\base.py:318: UserWarning: Trying to unpickle estimator ColumnTransformer from version 0.23.2 when using version 0.22. This might lead to breaking code or invalid results. Use at your own risk.\n",
      "  UserWarning)\n",
      "D:\\anaconda\\envs\\jcopdl\\lib\\site-packages\\sklearn\\base.py:318: UserWarning: Trying to unpickle estimator DecisionTreeClassifier from version 0.23.2 when using version 0.22. This might lead to breaking code or invalid results. Use at your own risk.\n",
      "  UserWarning)\n",
      "D:\\anaconda\\envs\\jcopdl\\lib\\site-packages\\sklearn\\base.py:318: UserWarning: Trying to unpickle estimator RandomForestClassifier from version 0.23.2 when using version 0.22. This might lead to breaking code or invalid results. Use at your own risk.\n",
      "  UserWarning)\n",
      "D:\\anaconda\\envs\\jcopdl\\lib\\site-packages\\sklearn\\base.py:318: UserWarning: Trying to unpickle estimator GridSearchCV from version 0.23.2 when using version 0.22. This might lead to breaking code or invalid results. Use at your own risk.\n",
      "  UserWarning)\n",
      "D:\\anaconda\\envs\\jcopdl\\lib\\site-packages\\sklearn\\base.py:318: UserWarning: Trying to unpickle estimator KNeighborsClassifier from version 0.23.2 when using version 0.22. This might lead to breaking code or invalid results. Use at your own risk.\n",
      "  UserWarning)\n"
     ]
    }
   ],
   "source": [
    "filenameRF2 = 'model/model_RF2.sav'\n",
    "modelRF2 = pickle.load(open(filenameRF2, 'rb'))\n",
    "\n",
    "filenameDT2 = 'model/model_DT2.sav'\n",
    "modelDT2 = pickle.load(open(filenameDT2, 'rb'))\n",
    "\n",
    "filenameKNN2 = 'model/model_KNN2.sav'\n",
    "modelKNN2 = pickle.load(open(filenameKNN2, 'rb'))"
   ]
  },
  {
   "cell_type": "code",
   "execution_count": 10,
   "metadata": {},
   "outputs": [],
   "source": [
    "tuning_terbaikRF2=modelRF2.best_params_\n",
    "latihan_akurasiRF2=modelRF2.score(X_train,y_train)\n",
    "ujian_akurasiRF2=modelRF2.score(X_test,y_test)\n",
    "predRF2=modelRF2.predict(X_test)\n",
    "reportRF2 = classification_report(y_test,predRF2)\n",
    "\n",
    "# ================================\n",
    "\n",
    "tuning_terbaikDT2=modelDT2.best_params_\n",
    "latihan_akurasiDT2=modelDT2.score(X_train,y_train)\n",
    "ujian_akurasiDT2=modelDT2.score(X_test,y_test)\n",
    "predDT2=modelDT2.predict(X_test)\n",
    "reportDT2 = classification_report(y_test,predDT2)\n",
    "\n",
    "# ================================\n",
    "\n",
    "tuning_terbaikKNN2=modelKNN2.best_params_\n",
    "latihan_akurasiKNN2=modelKNN2.score(X_train,y_train)\n",
    "ujian_akurasiKNN2=modelKNN2.score(X_test,y_test)\n",
    "predKNN2=modelKNN2.predict(X_test)\n",
    "reportKNN2 = classification_report(y_test,predKNN2)"
   ]
  },
  {
   "cell_type": "code",
   "execution_count": 11,
   "metadata": {},
   "outputs": [
    {
     "name": "stdout",
     "output_type": "stream",
     "text": [
      "Random Forest\n",
      "\n",
      "ini adalah tuning terbaik : {'rf__criterion': 'gini', 'rf__max_depth': 49, 'rf__max_features': 'auto', 'rf__min_samples_leaf': 2, 'rf__n_estimators': 500}\n",
      "ini adalah hasil testing 0.7847328244274809\n",
      "ini adalah hasil training 0.7778909831889964\n",
      "              precision    recall  f1-score   support\n",
      "\n",
      "           0       0.79      0.91      0.85       429\n",
      "           1       0.76      0.55      0.64       226\n",
      "\n",
      "    accuracy                           0.78       655\n",
      "   macro avg       0.78      0.73      0.74       655\n",
      "weighted avg       0.78      0.78      0.77       655\n",
      "\n",
      "==============================================\n",
      "\n",
      "Decision Tree\n",
      "\n",
      "ini adalah tuning terbaik : {'dt__criterion': 'gini', 'dt__max_depth': 3, 'dt__min_samples_leaf': 2}\n",
      "ini adalah hasil testing 0.6549618320610687\n",
      "ini adalah hasil training 0.6209882832399388\n",
      "              precision    recall  f1-score   support\n",
      "\n",
      "           0       0.68      0.90      0.77       429\n",
      "           1       0.50      0.18      0.27       226\n",
      "\n",
      "    accuracy                           0.65       655\n",
      "   macro avg       0.59      0.54      0.52       655\n",
      "weighted avg       0.62      0.65      0.60       655\n",
      "\n",
      "==============================================\n",
      "\n",
      "K-Narest Neigbhour\n",
      "\n",
      "ini adalah tuning terbaik : {'knn__algorithm': 'auto', 'knn__n_neighbors': 19, 'knn__p': 1}\n",
      "ini adalah hasil testing 0.6824427480916031\n",
      "ini adalah hasil training 0.6428935303107488\n",
      "              precision    recall  f1-score   support\n",
      "\n",
      "           0       0.70      0.90      0.79       429\n",
      "           1       0.58      0.28      0.38       226\n",
      "\n",
      "    accuracy                           0.68       655\n",
      "   macro avg       0.64      0.59      0.58       655\n",
      "weighted avg       0.66      0.68      0.65       655\n",
      "\n",
      "==============================================\n",
      "\n"
     ]
    }
   ],
   "source": [
    "print(\"Random Forest\")\n",
    "print(\"\")\n",
    "print('ini adalah tuning terbaik :', tuning_terbaikRF2)\n",
    "print('ini adalah hasil testing',ujian_akurasiRF2)\n",
    "print('ini adalah hasil training', latihan_akurasiRF2)\n",
    "print(reportRF2)\n",
    "print('==============================================')\n",
    "print(\"\")\n",
    "\n",
    "print(\"Decision Tree\")\n",
    "print(\"\")\n",
    "print('ini adalah tuning terbaik :', tuning_terbaikDT2)\n",
    "print('ini adalah hasil testing',ujian_akurasiDT2)\n",
    "print('ini adalah hasil training', latihan_akurasiDT2)\n",
    "print(reportDT2)\n",
    "print('==============================================')\n",
    "print(\"\")\n",
    "\n",
    "print(\"K-Narest Neigbhour\")\n",
    "print(\"\")\n",
    "print('ini adalah tuning terbaik :', tuning_terbaikKNN2)\n",
    "print('ini adalah hasil testing',ujian_akurasiKNN2)\n",
    "print('ini adalah hasil training', latihan_akurasiKNN2)\n",
    "print(reportKNN2)\n",
    "print('==============================================')\n",
    "print(\"\")"
   ]
  },
  {
   "cell_type": "code",
   "execution_count": 12,
   "metadata": {
    "scrolled": true
   },
   "outputs": [
    {
     "name": "stdout",
     "output_type": "stream",
     "text": [
      "Random Forest\n",
      "===============\n",
      "data : 1  ( tidak layak minum )\n",
      "data : 2  ( layak minum )\n",
      "\n",
      "Decision Tree\n",
      "===============\n",
      "data : 1  ( tidak layak minum )\n",
      "data : 2  ( layak minum )\n",
      "\n",
      "K-Narest Neigbhour\n",
      "===============\n",
      "data : 1  ( tidak layak minum )\n",
      "data : 2  ( layak minum )\n",
      "\n"
     ]
    }
   ],
   "source": [
    "preddataRF2 = modelRF2.predict(data_test)\n",
    "preddataDT2 = modelDT2.predict(data_test)\n",
    "preddataKNN2 = modelKNN2.predict(data_test)\n",
    "\n",
    "UbahAngka(\"Random Forest\", preddataRF2)\n",
    "UbahAngka(\"Decision Tree\", preddataDT2)\n",
    "UbahAngka(\"K-Narest Neigbhour\", preddataKNN2)"
   ]
  },
  {
   "cell_type": "markdown",
   "metadata": {},
   "source": [
    "## Load 3"
   ]
  },
  {
   "cell_type": "markdown",
   "metadata": {},
   "source": [
    "Model adalah \n",
    "1. simple model yang di training dengan model hyper tuning dan prepocesor standard scaler\n",
    "2. missing data diisi dengan nilai median\n",
    "3. menggunakan metode shuffle"
   ]
  },
  {
   "cell_type": "code",
   "execution_count": 13,
   "metadata": {},
   "outputs": [
    {
     "name": "stderr",
     "output_type": "stream",
     "text": [
      "D:\\anaconda\\envs\\jcopdl\\lib\\site-packages\\sklearn\\base.py:318: UserWarning: Trying to unpickle estimator SimpleImputer from version 0.23.2 when using version 0.22. This might lead to breaking code or invalid results. Use at your own risk.\n",
      "  UserWarning)\n",
      "D:\\anaconda\\envs\\jcopdl\\lib\\site-packages\\sklearn\\base.py:318: UserWarning: Trying to unpickle estimator StandardScaler from version 0.23.2 when using version 0.22. This might lead to breaking code or invalid results. Use at your own risk.\n",
      "  UserWarning)\n",
      "D:\\anaconda\\envs\\jcopdl\\lib\\site-packages\\sklearn\\base.py:318: UserWarning: Trying to unpickle estimator Pipeline from version 0.23.2 when using version 0.22. This might lead to breaking code or invalid results. Use at your own risk.\n",
      "  UserWarning)\n",
      "D:\\anaconda\\envs\\jcopdl\\lib\\site-packages\\sklearn\\base.py:318: UserWarning: Trying to unpickle estimator ColumnTransformer from version 0.23.2 when using version 0.22. This might lead to breaking code or invalid results. Use at your own risk.\n",
      "  UserWarning)\n",
      "D:\\anaconda\\envs\\jcopdl\\lib\\site-packages\\sklearn\\base.py:318: UserWarning: Trying to unpickle estimator DecisionTreeClassifier from version 0.23.2 when using version 0.22. This might lead to breaking code or invalid results. Use at your own risk.\n",
      "  UserWarning)\n",
      "D:\\anaconda\\envs\\jcopdl\\lib\\site-packages\\sklearn\\base.py:318: UserWarning: Trying to unpickle estimator RandomForestClassifier from version 0.23.2 when using version 0.22. This might lead to breaking code or invalid results. Use at your own risk.\n",
      "  UserWarning)\n",
      "D:\\anaconda\\envs\\jcopdl\\lib\\site-packages\\sklearn\\base.py:318: UserWarning: Trying to unpickle estimator GridSearchCV from version 0.23.2 when using version 0.22. This might lead to breaking code or invalid results. Use at your own risk.\n",
      "  UserWarning)\n",
      "D:\\anaconda\\envs\\jcopdl\\lib\\site-packages\\sklearn\\base.py:318: UserWarning: Trying to unpickle estimator KNeighborsClassifier from version 0.23.2 when using version 0.22. This might lead to breaking code or invalid results. Use at your own risk.\n",
      "  UserWarning)\n"
     ]
    }
   ],
   "source": [
    "filenameRF3 = 'model/model_RF3.sav'\n",
    "modelRF3 = pickle.load(open(filenameRF3, 'rb'))\n",
    "\n",
    "filenameDT3 = 'model/model_DT3.sav'\n",
    "modelDT3 = pickle.load(open(filenameDT3, 'rb'))\n",
    "\n",
    "filenameKNN3 = 'model/model_KNN3.sav'\n",
    "modelKNN3 = pickle.load(open(filenameKNN3, 'rb'))"
   ]
  },
  {
   "cell_type": "code",
   "execution_count": 14,
   "metadata": {},
   "outputs": [],
   "source": [
    "tuning_terbaikRF3=modelRF3.best_params_\n",
    "latihan_akurasiRF3=modelRF3.score(X_train,y_train)\n",
    "ujian_akurasiRF3=modelRF3.score(X_test,y_test)\n",
    "predRF3=modelRF3.predict(X_test)\n",
    "reportRF3 = classification_report(y_test,predRF3)\n",
    "\n",
    "# ================================\n",
    "\n",
    "tuning_terbaikDT3=modelDT3.best_params_\n",
    "latihan_akurasiDT3=modelDT3.score(X_train,y_train)\n",
    "ujian_akurasiDT3=modelDT3.score(X_test,y_test)\n",
    "predDT3=modelDT3.predict(X_test)\n",
    "reportDT3 = classification_report(y_test,predDT3)\n",
    "\n",
    "# ================================\n",
    "\n",
    "tuning_terbaikKNN3=modelKNN3.best_params_\n",
    "latihan_akurasiKNN3=modelKNN3.score(X_train,y_train)\n",
    "ujian_akurasiKNN3=modelKNN3.score(X_test,y_test)\n",
    "predKNN3=modelKNN3.predict(X_test)\n",
    "reportKNN3 = classification_report(y_test,predKNN3)"
   ]
  },
  {
   "cell_type": "code",
   "execution_count": 15,
   "metadata": {},
   "outputs": [
    {
     "name": "stdout",
     "output_type": "stream",
     "text": [
      "Random Forest\n",
      "\n",
      "ini adalah tuning terbaik : {'rf__criterion': 'gini', 'rf__max_depth': 38, 'rf__max_features': 'sqrt', 'rf__min_samples_leaf': 2, 'rf__n_estimators': 500}\n",
      "ini adalah hasil testing 0.8916030534351145\n",
      "ini adalah hasil training 0.8604177279673968\n",
      "              precision    recall  f1-score   support\n",
      "\n",
      "           0       0.89      0.95      0.92       429\n",
      "           1       0.89      0.78      0.83       226\n",
      "\n",
      "    accuracy                           0.89       655\n",
      "   macro avg       0.89      0.86      0.88       655\n",
      "weighted avg       0.89      0.89      0.89       655\n",
      "\n",
      "==============================================\n",
      "\n",
      "Decision Tree\n",
      "\n",
      "ini adalah tuning terbaik : {'dt__criterion': 'gini', 'dt__max_depth': 6, 'dt__min_samples_leaf': 2}\n",
      "ini adalah hasil testing 0.7251908396946565\n",
      "ini adalah hasil training 0.6749872643912379\n",
      "              precision    recall  f1-score   support\n",
      "\n",
      "           0       0.72      0.96      0.82       429\n",
      "           1       0.79      0.28      0.41       226\n",
      "\n",
      "    accuracy                           0.73       655\n",
      "   macro avg       0.75      0.62      0.62       655\n",
      "weighted avg       0.74      0.73      0.68       655\n",
      "\n",
      "==============================================\n",
      "\n",
      "K-Narest Neigbhour\n",
      "\n",
      "ini adalah tuning terbaik : {'knn__algorithm': 'auto', 'knn__n_neighbors': 27, 'knn__p': 2}\n",
      "ini adalah hasil testing 0.7038167938931298\n",
      "ini adalah hasil training 0.651553744268976\n",
      "              precision    recall  f1-score   support\n",
      "\n",
      "           0       0.71      0.94      0.81       429\n",
      "           1       0.69      0.26      0.37       226\n",
      "\n",
      "    accuracy                           0.70       655\n",
      "   macro avg       0.70      0.60      0.59       655\n",
      "weighted avg       0.70      0.70      0.66       655\n",
      "\n",
      "==============================================\n",
      "\n"
     ]
    }
   ],
   "source": [
    "print(\"Random Forest\")\n",
    "print(\"\")\n",
    "print('ini adalah tuning terbaik :', tuning_terbaikRF3)\n",
    "print('ini adalah hasil testing',ujian_akurasiRF3)\n",
    "print('ini adalah hasil training', latihan_akurasiRF3)\n",
    "print(reportRF3)\n",
    "print('==============================================')\n",
    "print(\"\")\n",
    "\n",
    "print(\"Decision Tree\")\n",
    "print(\"\")\n",
    "print('ini adalah tuning terbaik :', tuning_terbaikDT3)\n",
    "print('ini adalah hasil testing',ujian_akurasiDT3)\n",
    "print('ini adalah hasil training', latihan_akurasiDT3)\n",
    "print(reportDT3)\n",
    "print('==============================================')\n",
    "print(\"\")\n",
    "\n",
    "print(\"K-Narest Neigbhour\")\n",
    "print(\"\")\n",
    "print('ini adalah tuning terbaik :', tuning_terbaikKNN3)\n",
    "print('ini adalah hasil testing',ujian_akurasiKNN3)\n",
    "print('ini adalah hasil training', latihan_akurasiKNN3)\n",
    "print(reportKNN3)\n",
    "print('==============================================')\n",
    "print(\"\")"
   ]
  },
  {
   "cell_type": "code",
   "execution_count": 16,
   "metadata": {
    "scrolled": false
   },
   "outputs": [
    {
     "name": "stdout",
     "output_type": "stream",
     "text": [
      "Random Forest\n",
      "===============\n",
      "data : 1  ( tidak layak minum )\n",
      "data : 2  ( layak minum )\n",
      "\n",
      "Decision Tree\n",
      "===============\n",
      "data : 1  ( tidak layak minum )\n",
      "data : 2  ( layak minum )\n",
      "\n",
      "K-Narest Neigbhour\n",
      "===============\n",
      "data : 1  ( tidak layak minum )\n",
      "data : 2  ( layak minum )\n",
      "\n"
     ]
    }
   ],
   "source": [
    "preddataRF3 = modelRF3.predict(data_test)\n",
    "preddataDT3 = modelDT3.predict(data_test)\n",
    "preddataKNN3 = modelKNN3.predict(data_test)\n",
    "\n",
    "UbahAngka(\"Random Forest\", preddataRF3)\n",
    "UbahAngka(\"Decision Tree\", preddataDT3)\n",
    "UbahAngka(\"K-Narest Neigbhour\", preddataKNN3)"
   ]
  }
 ],
 "metadata": {
  "kernelspec": {
   "display_name": "Python 3",
   "language": "python",
   "name": "python3"
  },
  "language_info": {
   "codemirror_mode": {
    "name": "ipython",
    "version": 3
   },
   "file_extension": ".py",
   "mimetype": "text/x-python",
   "name": "python",
   "nbconvert_exporter": "python",
   "pygments_lexer": "ipython3",
   "version": "3.7.6"
  },
  "varInspector": {
   "cols": {
    "lenName": 16,
    "lenType": 16,
    "lenVar": 40
   },
   "kernels_config": {
    "python": {
     "delete_cmd_postfix": "",
     "delete_cmd_prefix": "del ",
     "library": "var_list.py",
     "varRefreshCmd": "print(var_dic_list())"
    },
    "r": {
     "delete_cmd_postfix": ") ",
     "delete_cmd_prefix": "rm(",
     "library": "var_list.r",
     "varRefreshCmd": "cat(var_dic_list()) "
    }
   },
   "types_to_exclude": [
    "module",
    "function",
    "builtin_function_or_method",
    "instance",
    "_Feature"
   ],
   "window_display": false
  }
 },
 "nbformat": 4,
 "nbformat_minor": 4
}
