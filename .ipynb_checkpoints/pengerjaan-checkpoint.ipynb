{
 "cells": [
  {
   "cell_type": "code",
   "execution_count": 1,
   "metadata": {},
   "outputs": [],
   "source": [
    "from sklearn.model_selection import train_test_split,GridSearchCV\n",
    "from sklearn.pipeline import Pipeline\n",
    "from sklearn.impute import SimpleImputer\n",
    "from sklearn.compose import ColumnTransformer\n",
    "from sklearn.preprocessing import StandardScaler, MinMaxScaler,OneHotEncoder\n",
    "from sklearn.metrics import classification_report\n",
    "from sklearn import metrics\n",
    "\n",
    "from sklearn.neighbors import KNeighborsClassifier\n",
    "from sklearn.tree import DecisionTreeClassifier\n",
    "from sklearn.ensemble import RandomForestClassifier\n",
    "from sklearn.svm import SVC\n",
    "\n",
    "import pandas as pd\n",
    "import matplotlib.pyplot as plt\n",
    "import seaborn as sns"
   ]
  },
  {
   "cell_type": "code",
   "execution_count": 2,
   "metadata": {},
   "outputs": [],
   "source": [
    "df=pd.read_csv(\"water_potability.csv\")"
   ]
  },
  {
   "cell_type": "code",
   "execution_count": 3,
   "metadata": {},
   "outputs": [],
   "source": [
    "X=df.drop(['Potability'],axis=1)\n",
    "y=df.filter(['Potability'])\n",
    "\n",
    "X_train,X_test,y_train,y_test=train_test_split(X,y,test_size=0.2,random_state=42)\n",
    "X_train,X_val,y_train,y_val=train_test_split(X_train,y_train,test_size=0.25,random_state=42)"
   ]
  },
  {
   "cell_type": "code",
   "execution_count": 6,
   "metadata": {},
   "outputs": [],
   "source": [
    "numeric_pipa=Pipeline([\n",
    "        (\"imputer\",SimpleImputer(strategy=\"median\")),\n",
    "        (\"scaler\",StandardScaler())\n",
    "    ])\n",
    "\n",
    "preposecor=ColumnTransformer([\n",
    "        (\"numeric\",numeric_pipa,['ph','Hardness','Sulfate','Conductivity','Chloramines','Solids','Organic_carbon','Trihalomethanes','Turbidity']),\n",
    "    ])\n",
    "\n"
   ]
  },
  {
   "cell_type": "code",
   "execution_count": 12,
   "metadata": {},
   "outputs": [],
   "source": [
    "# random forest\n",
    "pipaRF=Pipeline([\n",
    "        (\"prep\",preposecor),\n",
    "        (\"rf\",RandomForestClassifier())\n",
    "    ])\n",
    "\n",
    "parameterRF={\n",
    "        \"rf__n_estimators\" : [500],\n",
    "        \"rf__min_samples_leaf\":[2],\n",
    "        \"rf__max_depth\":range(1,50),\n",
    "        \"rf__criterion\":[\"gini\",\"entropy\"],\n",
    "        \"rf__max_features\":[\"auto\",\"sqrt\",\"log2\"],\n",
    "    }\n",
    "\n",
    "# Decision tree\n",
    "pipaDT=Pipeline([\n",
    "        (\"prep\",preposecor),\n",
    "        (\"dt\",DecisionTreeClassifier())\n",
    "    ])\n",
    "\n",
    "parameterDT={\n",
    "        \"dt__min_samples_leaf\":[2],\n",
    "        \"dt__max_depth\":range(1,50),\n",
    "        \"dt__criterion\":[\"gini\",\"entropy\"],\n",
    "    }\n",
    "\n",
    "# KNN\n",
    "pipaKNN=Pipeline([\n",
    "        (\"prep\",preposecor),\n",
    "        (\"knn\",KNeighborsClassifier())\n",
    "    ])\n",
    "\n",
    "parameterKNN={\n",
    "        \"knn__n_neighbors\" : range(1,50),\n",
    "        \"knn__algorithm\" : ['auto', 'ball_tree', 'kd_tree', 'brute'],\n",
    "        \"knn__p\" : range(1,50),\n",
    "    }\n",
    "\n",
    "# SVC\n",
    "pipaSVC=Pipeline([\n",
    "        (\"prep\",preposecor),\n",
    "        (\"svc\",SVC())\n",
    "    ])\n",
    "\n",
    "parameterSVC={\n",
    "        \"svc__kernel\" : ['linear', 'poly', 'rbf', 'sigmoid', 'precomputed'],\n",
    "        \"svc__degree\" : range(1,50),\n",
    "    }\n"
   ]
  },
  {
   "cell_type": "code",
   "execution_count": null,
   "metadata": {},
   "outputs": [
    {
     "name": "stdout",
     "output_type": "stream",
     "text": [
      "Fitting 5 folds for each of 294 candidates, totalling 1470 fits\n"
     ]
    },
    {
     "name": "stderr",
     "output_type": "stream",
     "text": [
      "[Parallel(n_jobs=-1)]: Using backend LokyBackend with 8 concurrent workers.\n",
      "[Parallel(n_jobs=-1)]: Done  34 tasks      | elapsed:   13.5s\n",
      "[Parallel(n_jobs=-1)]: Done 184 tasks      | elapsed:  1.7min\n",
      "[Parallel(n_jobs=-1)]: Done 434 tasks      | elapsed:  5.2min\n",
      "[Parallel(n_jobs=-1)]: Done 784 tasks      | elapsed:  9.7min\n"
     ]
    }
   ],
   "source": [
    "# simple model Random Forest\n",
    "modelRF = GridSearchCV(pipaRF,parameterRF,cv=5,n_jobs=-1,verbose=1)\n",
    "modelRF.fit(X_train,y_train.values.ravel())\n",
    "\n",
    "tuning_terbaikRF=modelRF.best_params_\n",
    "\n",
    "latihan_akurasiRF=modelRF.score(X_train,y_train)\n",
    "ujian_akurasiRF=modelRF.score(X_test,y_test)\n",
    "predRF=modelRF.predict(X_test)\n",
    "reportRF = classification_report(y_test,predRF)\n"
   ]
  },
  {
   "cell_type": "code",
   "execution_count": null,
   "metadata": {},
   "outputs": [],
   "source": [
    "# simple model Decision Tree\n",
    "modelDT = GridSearchCV(pipaDT,parameterDT,cv=5,n_jobs=-1,verbose=1)\n",
    "modelDT.fit(X_train,y_train.values.ravel())\n",
    "\n",
    "tuning_terbaikDT=modelDT.best_params_\n",
    "\n",
    "latihan_akurasiDT=modelDT.score(X_train,y_train)\n",
    "ujian_akurasiDT=modelDT.score(X_test,y_test)\n",
    "predDT=modelDT.predict(X_test)\n",
    "reportDT = classification_report(y_test,predDT)"
   ]
  },
  {
   "cell_type": "code",
   "execution_count": null,
   "metadata": {},
   "outputs": [],
   "source": [
    "# simple model KNN\n",
    "modelKNN = GridSearchCV(pipaKNN,parameterKNN,cv=5,n_jobs=-1,verbose=1)\n",
    "modelKNN.fit(X_train,y_train.values.ravel())\n",
    "\n",
    "tuning_terbaikKNN=modelKNN.best_params_\n",
    "\n",
    "latihan_akurasiKNN=modelKNN.score(X_train,y_train)\n",
    "ujian_akurasiKNN=modelKNN.score(X_test,y_test)\n",
    "predKNN=modelKNN.predict(X_test)\n",
    "reportKNN = classification_report(y_test,predKNN)\n"
   ]
  },
  {
   "cell_type": "code",
   "execution_count": null,
   "metadata": {},
   "outputs": [],
   "source": [
    "# simple model SVC\n",
    "modelSVC = GridSearchCV(pipaSVC,parameterSVC,cv=5,n_jobs=-1,verbose=1)\n",
    "modelSVC.fit(X_train,y_train.values.ravel())\n",
    "\n",
    "tuning_terbaikSVC=modelSVC.best_params_\n",
    "\n",
    "latihan_akurasiSVC=modelSVC.score(X_train,y_train)\n",
    "ujian_akurasiSVC=modelSVC.score(X_test,y_test)\n",
    "predSVC=modelSVC.predict(X_test)\n",
    "reportSVC = classification_report(y_test,predSVC)"
   ]
  },
  {
   "cell_type": "code",
   "execution_count": null,
   "metadata": {},
   "outputs": [],
   "source": []
  },
  {
   "cell_type": "code",
   "execution_count": null,
   "metadata": {},
   "outputs": [],
   "source": []
  },
  {
   "cell_type": "code",
   "execution_count": null,
   "metadata": {},
   "outputs": [],
   "source": []
  },
  {
   "cell_type": "code",
   "execution_count": 9,
   "metadata": {},
   "outputs": [
    {
     "name": "stdout",
     "output_type": "stream",
     "text": [
      "              precision    recall  f1-score   support\n",
      "\n",
      "           0       0.72      0.87      0.79       429\n",
      "           1       0.60      0.36      0.45       226\n",
      "\n",
      "    accuracy                           0.69       655\n",
      "   macro avg       0.66      0.62      0.62       655\n",
      "weighted avg       0.68      0.69      0.67       655\n",
      "\n",
      "{'a__criterion': 'gini', 'a__max_depth': 22, 'a__max_features': 'auto', 'a__min_samples_leaf': 2, 'a__n_estimators': 500}\n",
      "1.0\n"
     ]
    }
   ],
   "source": [
    "print(\"\")\n",
    "print(\"Random Forest\")\n",
    "print('ini adalah tuning terbaik :', tuning_terbaikRF)\n",
    "print('ini adalah hasil testing',ujian_akurasiRF)\n",
    "print('ini adalah hasil training', latihan_akurasiRF)\n",
    "print(reportRF)\n",
    "print('==============================================')\n",
    "\n",
    "print(\"\")\n",
    "print(\"Decision Tree\")\n",
    "print('ini adalah tuning terbaik :', tuning_terbaikDT)\n",
    "print('ini adalah hasil testing',ujian_akurasiDT)\n",
    "print('ini adalah hasil training', latihan_akurasiDT)\n",
    "print(reportDT)\n",
    "print('==============================================')\n",
    "\n",
    "print(\"\")\n",
    "print(\"KNN\")\n",
    "print('ini adalah tuning terbaik :', tuning_terbaikKNN)\n",
    "print('ini adalah hasil testing',ujian_akurasiKNN)\n",
    "print('ini adalah hasil training', latihan_akurasiKNN)\n",
    "print(reportKNN)\n",
    "print('==============================================')\n",
    "\n",
    "print(\"\")\n",
    "print(\"SVC\")\n",
    "print('ini adalah tuning terbaik :', tuning_terbaikSVC)\n",
    "print('ini adalah hasil testing',ujian_akurasiSVC)\n",
    "print('ini adalah hasil training', latihan_akurasiSVC)\n",
    "print(reportSVC)\n",
    "print('==============================================')"
   ]
  },
  {
   "cell_type": "code",
   "execution_count": null,
   "metadata": {},
   "outputs": [],
   "source": []
  },
  {
   "cell_type": "code",
   "execution_count": null,
   "metadata": {},
   "outputs": [],
   "source": [
    "\n",
    "numeric_pipa=Pipeline([\n",
    "        (\"imputer\",SimpleImputer(strategy=\"mean\")),\n",
    "        (\"scaler\",MinMaxScaler())\n",
    "    ])\n",
    "\n",
    "preposecor=ColumnTransformer([\n",
    "        (\"numeric\",numeric_pipa,['ph','Hardness','Sulfate','Conductivity','Chloramines','Solids','Organic_carbon','Trihalomethanes','Turbidity']),\n",
    "    ])\n",
    "\n",
    "pipa=Pipeline([\n",
    "        (\"prep\",preposecor),\n",
    "        (\"a\",RandomForestClassifier())\n",
    "    ])\n",
    "\n",
    "parameter={\n",
    "        \"a__n_estimators\" : [500],\n",
    "        \"a__min_samples_leaf\":[2],\n",
    "        \"a__max_depth\":range(1,50),\n",
    "        \"a__criterion\":[\"gini\",\"entropy\"],\n",
    "        \"a__max_features\":[\"auto\",\"sqrt\",\"log2\"],\n",
    "    }"
   ]
  },
  {
   "cell_type": "code",
   "execution_count": null,
   "metadata": {},
   "outputs": [],
   "source": []
  },
  {
   "cell_type": "code",
   "execution_count": null,
   "metadata": {},
   "outputs": [],
   "source": []
  },
  {
   "cell_type": "code",
   "execution_count": null,
   "metadata": {},
   "outputs": [],
   "source": []
  },
  {
   "cell_type": "code",
   "execution_count": null,
   "metadata": {},
   "outputs": [],
   "source": []
  },
  {
   "cell_type": "code",
   "execution_count": null,
   "metadata": {},
   "outputs": [],
   "source": []
  }
 ],
 "metadata": {
  "kernelspec": {
   "display_name": "Python 3",
   "language": "python",
   "name": "python3"
  },
  "language_info": {
   "codemirror_mode": {
    "name": "ipython",
    "version": 3
   },
   "file_extension": ".py",
   "mimetype": "text/x-python",
   "name": "python",
   "nbconvert_exporter": "python",
   "pygments_lexer": "ipython3",
   "version": "3.8.5"
  },
  "varInspector": {
   "cols": {
    "lenName": 16,
    "lenType": 16,
    "lenVar": 40
   },
   "kernels_config": {
    "python": {
     "delete_cmd_postfix": "",
     "delete_cmd_prefix": "del ",
     "library": "var_list.py",
     "varRefreshCmd": "print(var_dic_list())"
    },
    "r": {
     "delete_cmd_postfix": ") ",
     "delete_cmd_prefix": "rm(",
     "library": "var_list.r",
     "varRefreshCmd": "cat(var_dic_list()) "
    }
   },
   "types_to_exclude": [
    "module",
    "function",
    "builtin_function_or_method",
    "instance",
    "_Feature"
   ],
   "window_display": false
  }
 },
 "nbformat": 4,
 "nbformat_minor": 4
}
