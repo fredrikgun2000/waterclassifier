{
 "cells": [
  {
   "cell_type": "code",
   "execution_count": 26,
   "metadata": {
    "id": "iw_i5k5ald0o"
   },
   "outputs": [],
   "source": [
    "import itertools\n",
    "import numpy as np\n",
    "import matplotlib.pyplot as plt\n",
    "from matplotlib.ticker import NullFormatter\n",
    "import pandas as pd\n",
    "import matplotlib.ticker as ticker\n",
    "from sklearn import preprocessing\n",
    "from sklearn.neighbors import KNeighborsClassifier\n",
    "from sklearn import metrics\n",
    "\n",
    "from sklearn.model_selection import train_test_split,GridSearchCV\n",
    "from sklearn.pipeline import Pipeline\n",
    "from sklearn.impute import SimpleImputer\n",
    "from sklearn.compose import ColumnTransformer\n",
    "from sklearn.preprocessing import StandardScaler, MinMaxScaler,OneHotEncoder\n",
    "from sklearn.metrics import classification_report\n",
    "import matplotlib.pyplot as plt\n",
    "import seaborn as sns"
   ]
  },
  {
   "cell_type": "code",
   "execution_count": 27,
   "metadata": {
    "id": "GBB7ZIvCliyd"
   },
   "outputs": [],
   "source": [
    "cell_df=pd.read_csv(\"water_potability.csv\")\n",
    "X=cell_df.drop(['Potability'],axis=1)\n",
    "y=cell_df.filter(['Potability'])\n",
    "\n",
    "X_train,X_test,y_train,y_test=train_test_split(X,y,test_size=0.2,random_state=42)\n",
    "X_train,X_val,y_train,y_val=train_test_split(X_train,y_train,test_size=0.25,random_state=42)"
   ]
  },
  {
   "cell_type": "code",
   "execution_count": 28,
   "metadata": {
    "colab": {
     "base_uri": "https://localhost:8080/"
    },
    "id": "tr7oX9moJiQp",
    "outputId": "8f424534-44e3-418d-e46c-9397adfe4d98"
   },
   "outputs": [
    {
     "data": {
      "text/plain": [
       "ph                 float64\n",
       "Hardness           float64\n",
       "Solids             float64\n",
       "Chloramines        float64\n",
       "Sulfate            float64\n",
       "Conductivity       float64\n",
       "Organic_carbon     float64\n",
       "Trihalomethanes    float64\n",
       "Turbidity          float64\n",
       "Potability           int64\n",
       "dtype: object"
      ]
     },
     "execution_count": 28,
     "metadata": {
      "tags": []
     },
     "output_type": "execute_result"
    }
   ],
   "source": [
    "cell_df.dtypes"
   ]
  },
  {
   "cell_type": "code",
   "execution_count": 29,
   "metadata": {
    "id": "zkKmDJWNJ1Ug"
   },
   "outputs": [],
   "source": [
    "cell_df = cell_df[pd.to_numeric(cell_df['ph'], errors='coerce').notnull()]\n",
    "cell_df = cell_df[pd.to_numeric(cell_df['Hardness'], errors='coerce').notnull()]\n",
    "cell_df = cell_df[pd.to_numeric(cell_df['Solids'], errors='coerce').notnull()]\n",
    "cell_df = cell_df[pd.to_numeric(cell_df['Chloramines'], errors='coerce').notnull()]\n",
    "cell_df = cell_df[pd.to_numeric(cell_df['Sulfate'], errors='coerce').notnull()]\n",
    "cell_df = cell_df[pd.to_numeric(cell_df['Conductivity'], errors='coerce').notnull()]\n",
    "cell_df = cell_df[pd.to_numeric(cell_df['Organic_carbon'], errors='coerce').notnull()]\n",
    "cell_df = cell_df[pd.to_numeric(cell_df['Trihalomethanes'], errors='coerce').notnull()]\n",
    "cell_df = cell_df[pd.to_numeric(cell_df['Turbidity'], errors='coerce').notnull()]\n",
    "cell_df = cell_df[pd.to_numeric(cell_df['Potability'], errors='coerce').notnull()]\n",
    "cell_df['ph'] = cell_df['ph'].astype('int')\n",
    "cell_df['Hardness'] = cell_df['Hardness'].astype('int')\n",
    "cell_df['Solids'] = cell_df['Solids'].astype('int')\n",
    "cell_df['Chloramines'] = cell_df['Chloramines'].astype('int')\n",
    "cell_df['Sulfate'] = cell_df['Sulfate'].astype('int')\n",
    "cell_df['Conductivity'] = cell_df['Conductivity'].astype('int')\n",
    "cell_df['Organic_carbon'] = cell_df['Organic_carbon'].astype('int')\n",
    "cell_df['Trihalomethanes'] = cell_df['Trihalomethanes'].astype('int')\n",
    "cell_df['Turbidity'] = cell_df['Turbidity'].astype('int')\n",
    "cell_df['Potability'] = cell_df['Potability'].astype('int')"
   ]
  },
  {
   "cell_type": "code",
   "execution_count": 34,
   "metadata": {
    "id": "Et3jT3ifwqXW"
   },
   "outputs": [],
   "source": [
    "numeric_pipa = Pipeline([\n",
    "        (\"imputer\",SimpleImputer(strategy=\"median\")),\n",
    "        (\"scaler\",MinMaxScaler())\n",
    "    ])\n",
    "\n",
    "# catagori_pipa=Pipeline([\n",
    "#         (\"imputer\",SimpleImputer(strategy=\"most_frequent\")),\n",
    "#         (\"onehot\",OneHotEncoder())\n",
    "#     ])\n",
    "\n",
    "preposecor=ColumnTransformer([\n",
    "        (\"numeric\",numeric_pipa,['ph','Hardness','Solids','Chloramines','Sulfate','Conductivity','Organic_carbon','Trihalomethanes','Turbidity']),\n",
    "#         (\"catagoric\",catagori_pipa,['gender','age','ever_married','hypertension','heart_disease','smoking_status','work_type'])\n",
    "    ])\n",
    "\n",
    "pipa=Pipeline([\n",
    "        (\"prep\",preposecor),\n",
    "        (\"k\",KNeighborsClassifier())\n",
    "    ])\n",
    "\n",
    "# print(pipa.get_params())\n",
    "\n",
    "parameter={\n",
    "        \"k__n_neighbors\":range(1,2,50),\n",
    "        \"k__weights\":['uniform','distance'],\n",
    "        \"k__algorithm\":['auto', 'ball_tree','kd_tree','brute'],\n",
    "    }"
   ]
  },
  {
   "cell_type": "code",
   "execution_count": 35,
   "metadata": {
    "colab": {
     "base_uri": "https://localhost:8080/"
    },
    "id": "9l5Xpm4YIiLZ",
    "outputId": "db06a200-b0dc-4871-b31e-0edfdc35d3c4"
   },
   "outputs": [
    {
     "name": "stdout",
     "output_type": "stream",
     "text": [
      "Fitting 5 folds for each of 8 candidates, totalling 40 fits\n"
     ]
    },
    {
     "name": "stderr",
     "output_type": "stream",
     "text": [
      "[Parallel(n_jobs=-1)]: Using backend LokyBackend with 2 concurrent workers.\n"
     ]
    },
    {
     "name": "stdout",
     "output_type": "stream",
     "text": [
      "0.5792682926829268\n",
      "              precision    recall  f1-score   support\n",
      "\n",
      "           0       0.66      0.68      0.67       412\n",
      "           1       0.43      0.41      0.42       244\n",
      "\n",
      "    accuracy                           0.58       656\n",
      "   macro avg       0.55      0.55      0.55       656\n",
      "weighted avg       0.58      0.58      0.58       656\n",
      "\n",
      "{'k__algorithm': 'auto', 'k__n_neighbors': 1, 'k__weights': 'uniform'}\n"
     ]
    },
    {
     "name": "stderr",
     "output_type": "stream",
     "text": [
      "[Parallel(n_jobs=-1)]: Done  40 out of  40 | elapsed:    2.2s finished\n"
     ]
    }
   ],
   "source": [
    "model=GridSearchCV(pipa,parameter,cv=5,n_jobs=-1,verbose=1)\n",
    "model.fit(X_train,y_train.values.ravel())\n",
    "tuning_terbaik=model.best_params_\n",
    "latihan_akurasi=model.score(X_train,y_train)\n",
    "ujian_akurasi=model.score(X_test,y_test)\n",
    "print(ujian_akurasi)\n",
    "pred=model.predict(X_test)\n",
    "print(classification_report(y_test,pred))\n",
    "print(tuning_terbaik)"
   ]
  },
  {
   "cell_type": "code",
   "execution_count": 36,
   "metadata": {
    "colab": {
     "base_uri": "https://localhost:8080/",
     "height": 203
    },
    "id": "kd6tgN_xxX9h",
    "outputId": "22dd2d8a-db18-49d1-8920-30f5c4ef2005"
   },
   "outputs": [
    {
     "data": {
      "text/html": [
       "<div>\n",
       "<style scoped>\n",
       "    .dataframe tbody tr th:only-of-type {\n",
       "        vertical-align: middle;\n",
       "    }\n",
       "\n",
       "    .dataframe tbody tr th {\n",
       "        vertical-align: top;\n",
       "    }\n",
       "\n",
       "    .dataframe thead th {\n",
       "        text-align: right;\n",
       "    }\n",
       "</style>\n",
       "<table border=\"1\" class=\"dataframe\">\n",
       "  <thead>\n",
       "    <tr style=\"text-align: right;\">\n",
       "      <th></th>\n",
       "      <th>ph</th>\n",
       "      <th>Hardness</th>\n",
       "      <th>Solids</th>\n",
       "      <th>Chloramines</th>\n",
       "      <th>Sulfate</th>\n",
       "      <th>Conductivity</th>\n",
       "      <th>Organic_carbon</th>\n",
       "      <th>Trihalomethanes</th>\n",
       "      <th>Turbidity</th>\n",
       "      <th>Potability</th>\n",
       "    </tr>\n",
       "  </thead>\n",
       "  <tbody>\n",
       "    <tr>\n",
       "      <th>3</th>\n",
       "      <td>8</td>\n",
       "      <td>214</td>\n",
       "      <td>22018</td>\n",
       "      <td>8</td>\n",
       "      <td>356</td>\n",
       "      <td>363</td>\n",
       "      <td>18</td>\n",
       "      <td>100</td>\n",
       "      <td>4</td>\n",
       "      <td>0</td>\n",
       "    </tr>\n",
       "    <tr>\n",
       "      <th>4</th>\n",
       "      <td>9</td>\n",
       "      <td>181</td>\n",
       "      <td>17978</td>\n",
       "      <td>6</td>\n",
       "      <td>310</td>\n",
       "      <td>398</td>\n",
       "      <td>11</td>\n",
       "      <td>31</td>\n",
       "      <td>4</td>\n",
       "      <td>0</td>\n",
       "    </tr>\n",
       "    <tr>\n",
       "      <th>5</th>\n",
       "      <td>5</td>\n",
       "      <td>188</td>\n",
       "      <td>28748</td>\n",
       "      <td>7</td>\n",
       "      <td>326</td>\n",
       "      <td>280</td>\n",
       "      <td>8</td>\n",
       "      <td>54</td>\n",
       "      <td>2</td>\n",
       "      <td>0</td>\n",
       "    </tr>\n",
       "    <tr>\n",
       "      <th>6</th>\n",
       "      <td>10</td>\n",
       "      <td>248</td>\n",
       "      <td>28749</td>\n",
       "      <td>7</td>\n",
       "      <td>393</td>\n",
       "      <td>283</td>\n",
       "      <td>13</td>\n",
       "      <td>84</td>\n",
       "      <td>2</td>\n",
       "      <td>0</td>\n",
       "    </tr>\n",
       "    <tr>\n",
       "      <th>7</th>\n",
       "      <td>8</td>\n",
       "      <td>203</td>\n",
       "      <td>13672</td>\n",
       "      <td>4</td>\n",
       "      <td>303</td>\n",
       "      <td>474</td>\n",
       "      <td>12</td>\n",
       "      <td>62</td>\n",
       "      <td>4</td>\n",
       "      <td>0</td>\n",
       "    </tr>\n",
       "  </tbody>\n",
       "</table>\n",
       "</div>"
      ],
      "text/plain": [
       "   ph  Hardness  Solids  ...  Trihalomethanes  Turbidity  Potability\n",
       "3   8       214   22018  ...              100          4           0\n",
       "4   9       181   17978  ...               31          4           0\n",
       "5   5       188   28748  ...               54          2           0\n",
       "6  10       248   28749  ...               84          2           0\n",
       "7   8       203   13672  ...               62          4           0\n",
       "\n",
       "[5 rows x 10 columns]"
      ]
     },
     "execution_count": 36,
     "metadata": {
      "tags": []
     },
     "output_type": "execute_result"
    }
   ],
   "source": [
    "cell_df.head()"
   ]
  },
  {
   "cell_type": "code",
   "execution_count": 37,
   "metadata": {
    "colab": {
     "base_uri": "https://localhost:8080/"
    },
    "id": "gVBFj1P-pc-w",
    "outputId": "aca6a307-1da8-4d3f-b854-c6f5b41f4580"
   },
   "outputs": [
    {
     "data": {
      "text/plain": [
       "0    1200\n",
       "1     811\n",
       "Name: Potability, dtype: int64"
      ]
     },
     "execution_count": 37,
     "metadata": {
      "tags": []
     },
     "output_type": "execute_result"
    }
   ],
   "source": [
    "cell_df['Potability'].value_counts()"
   ]
  },
  {
   "cell_type": "code",
   "execution_count": 38,
   "metadata": {
    "colab": {
     "base_uri": "https://localhost:8080/"
    },
    "id": "4A9tvb1Hqf5k",
    "outputId": "daf2a3e8-8f61-42a2-a2a4-9b8fbc3cc3de"
   },
   "outputs": [
    {
     "data": {
      "text/plain": [
       "Index(['ph', 'Hardness', 'Solids', 'Chloramines', 'Sulfate', 'Conductivity',\n",
       "       'Organic_carbon', 'Trihalomethanes', 'Turbidity', 'Potability'],\n",
       "      dtype='object')"
      ]
     },
     "execution_count": 38,
     "metadata": {
      "tags": []
     },
     "output_type": "execute_result"
    }
   ],
   "source": [
    "cell_df.columns"
   ]
  },
  {
   "cell_type": "code",
   "execution_count": 39,
   "metadata": {
    "colab": {
     "base_uri": "https://localhost:8080/"
    },
    "id": "YaNCKx2IrLdf",
    "outputId": "11f74a3e-c239-46ba-b63d-01b0ab465edb"
   },
   "outputs": [
    {
     "data": {
      "text/plain": [
       "array([[    8,   214, 22018,     8,   356,   363,    18,   100,     4,\n",
       "            0],\n",
       "       [    9,   181, 17978,     6,   310,   398,    11,    31,     4,\n",
       "            0],\n",
       "       [    5,   188, 28748,     7,   326,   280,     8,    54,     2,\n",
       "            0],\n",
       "       [   10,   248, 28749,     7,   393,   283,    13,    84,     2,\n",
       "            0],\n",
       "       [    8,   203, 13672,     4,   303,   474,    12,    62,     4,\n",
       "            0]])"
      ]
     },
     "execution_count": 39,
     "metadata": {
      "tags": []
     },
     "output_type": "execute_result"
    }
   ],
   "source": [
    "X = cell_df[['ph', 'Hardness', 'Solids', 'Chloramines', 'Sulfate', 'Conductivity', 'Organic_carbon', 'Trihalomethanes','Turbidity', 'Potability']].values\n",
    "X[0:5]"
   ]
  },
  {
   "cell_type": "code",
   "execution_count": 40,
   "metadata": {
    "colab": {
     "base_uri": "https://localhost:8080/"
    },
    "id": "bg8Td2ySs4-5",
    "outputId": "12f09356-3762-4bc6-804c-ec5cadf804e1"
   },
   "outputs": [
    {
     "data": {
      "text/plain": [
       "array([0, 0, 0, 0, 0, 0, 0, 0, 0, 0, 0, 0, 0, 0, 0, 0, 0, 0, 0, 0, 0, 0,\n",
       "       0, 0, 0, 0, 0, 0, 0, 0, 0, 0, 0, 0, 0, 0, 0, 0, 0, 0, 0, 0, 0, 0,\n",
       "       0, 0, 0, 0, 0, 0, 0, 0, 0, 0, 0, 0, 0, 0, 0, 0, 0, 0, 0, 0, 0, 0,\n",
       "       0, 0, 0, 0, 0, 0, 0, 0, 0, 0, 0, 0, 0, 0, 0, 0, 0, 0, 0, 0, 0, 0,\n",
       "       0, 0, 0, 0, 0, 0, 0, 0, 0, 0, 0, 0])"
      ]
     },
     "execution_count": 40,
     "metadata": {
      "tags": []
     },
     "output_type": "execute_result"
    }
   ],
   "source": [
    "y = cell_df['Potability'].values\n",
    "y[0:100]"
   ]
  },
  {
   "cell_type": "code",
   "execution_count": 41,
   "metadata": {
    "colab": {
     "base_uri": "https://localhost:8080/"
    },
    "id": "6O-ly9BUtWkM",
    "outputId": "bd4aaf65-7b86-454a-a602-18a869328b3d"
   },
   "outputs": [
    {
     "data": {
      "text/plain": [
       "array([[ 0.8915344 ,  0.56778148,  0.01169533,  0.84827516,  0.56458685,\n",
       "        -0.78115036,  1.24169598,  2.12052216,  0.643672  , -0.82209083],\n",
       "       [ 1.51579474, -0.44329218, -0.45589244, -0.39553187, -0.55212874,\n",
       "        -0.34736968, -0.85591044, -2.17127811,  0.643672  , -0.82209083],\n",
       "       [-0.9812466 , -0.22882201,  0.79062249,  0.22637164, -0.16370592,\n",
       "        -1.80983027, -1.75488463, -0.74067802, -1.74016667, -0.82209083],\n",
       "       [ 2.14005507,  1.60949373,  0.79073823,  0.22637164,  1.46281461,\n",
       "        -1.77264907, -0.25659432,  1.1253221 , -1.74016667, -0.82209083],\n",
       "       [ 0.8915344 ,  0.23075692, -0.95426692, -1.6393389 , -0.72206372,\n",
       "         0.5945541 , -0.55625238, -0.24307799,  0.643672  , -0.82209083]])"
      ]
     },
     "execution_count": 41,
     "metadata": {
      "tags": []
     },
     "output_type": "execute_result"
    }
   ],
   "source": [
    "X = preprocessing.StandardScaler().fit(X).transform(X.astype(int))\n",
    "X[0:5]"
   ]
  },
  {
   "cell_type": "code",
   "execution_count": 42,
   "metadata": {
    "colab": {
     "base_uri": "https://localhost:8080/"
    },
    "id": "5-ZI1RT0S00a",
    "outputId": "fa54da24-0822-4de5-f4ca-927af9ebee01"
   },
   "outputs": [
    {
     "name": "stdout",
     "output_type": "stream",
     "text": [
      "Train set: (1608, 10) (1608,)\n",
      "Test set: (403, 10) (403,)\n"
     ]
    }
   ],
   "source": [
    "from sklearn.model_selection import train_test_split\n",
    "X_train, X_test, y_train, y_test = train_test_split( X, y, test_size=0.2, random_state=4)\n",
    "print ('Train set:', X_train.shape,  y_train.shape)\n",
    "print ('Test set:', X_test.shape,  y_test.shape)"
   ]
  },
  {
   "cell_type": "code",
   "execution_count": 43,
   "metadata": {
    "colab": {
     "base_uri": "https://localhost:8080/"
    },
    "id": "QgK310IFS74l",
    "outputId": "3a0e04b7-874b-46cb-bf78-9f4e5220f968"
   },
   "outputs": [
    {
     "data": {
      "text/plain": [
       "KNeighborsClassifier(algorithm='auto', leaf_size=30, metric='minkowski',\n",
       "                     metric_params=None, n_jobs=None, n_neighbors=3, p=2,\n",
       "                     weights='uniform')"
      ]
     },
     "execution_count": 43,
     "metadata": {
      "tags": []
     },
     "output_type": "execute_result"
    }
   ],
   "source": [
    "k = 3\n",
    "#Train Model and Predict  \n",
    "neigh = KNeighborsClassifier(n_neighbors = k).fit(X_train,y_train)\n",
    "neigh"
   ]
  },
  {
   "cell_type": "code",
   "execution_count": 44,
   "metadata": {
    "colab": {
     "base_uri": "https://localhost:8080/"
    },
    "id": "BWF1RuKOTEh1",
    "outputId": "d21c52bd-5b5b-4fe5-dacc-d60a2fae9205"
   },
   "outputs": [
    {
     "data": {
      "text/plain": [
       "array([0, 0, 0, 1, 1, 1, 0, 1, 0, 0, 0, 0, 0, 0, 0, 0, 0, 1, 0, 0, 0, 1,\n",
       "       0, 0, 0, 1, 0, 0, 1, 0, 0, 0, 1, 0, 1, 0, 1, 1, 1, 0, 1, 0, 0, 1,\n",
       "       0, 1, 0, 1, 0, 1])"
      ]
     },
     "execution_count": 44,
     "metadata": {
      "tags": []
     },
     "output_type": "execute_result"
    }
   ],
   "source": [
    "yhat = neigh.predict(X_test)\n",
    "yhat[0:50]"
   ]
  },
  {
   "cell_type": "code",
   "execution_count": 45,
   "metadata": {
    "colab": {
     "base_uri": "https://localhost:8080/"
    },
    "id": "BF3V6UA_TJLf",
    "outputId": "7a156ecb-78a0-4094-fa60-a0c132dffacb"
   },
   "outputs": [
    {
     "name": "stdout",
     "output_type": "stream",
     "text": [
      "Train set Accuracy:  0.9993781094527363\n",
      "Test set Accuracy:  1.0\n"
     ]
    }
   ],
   "source": [
    "print(\"Train set Accuracy: \", metrics.accuracy_score(y_train, neigh.predict(X_train)))\n",
    "print(\"Test set Accuracy: \", metrics.accuracy_score(y_test, yhat))"
   ]
  },
  {
   "cell_type": "code",
   "execution_count": 46,
   "metadata": {
    "colab": {
     "base_uri": "https://localhost:8080/"
    },
    "id": "bDdViKTRUyth",
    "outputId": "8ba43303-ba17-467b-c5c8-1cb6093bf7ed"
   },
   "outputs": [
    {
     "data": {
      "text/plain": [
       "array([1.        , 0.99751861, 1.        , 0.99751861, 1.        ,\n",
       "       1.        , 1.        , 1.        , 1.        ])"
      ]
     },
     "execution_count": 46,
     "metadata": {
      "tags": []
     },
     "output_type": "execute_result"
    }
   ],
   "source": [
    "Ks = 10\n",
    "mean_acc = np.zeros((Ks-1))\n",
    "std_acc = np.zeros((Ks-1))\n",
    "ConfustionMx = [];\n",
    "for n in range(1,Ks):\n",
    "     \n",
    "    neigh = KNeighborsClassifier(n_neighbors = n).fit(X_train,y_train)\n",
    "    yhat=neigh.predict(X_test)\n",
    "    mean_acc[n-1] = metrics.accuracy_score(y_test, yhat)\n",
    "\n",
    "    \n",
    "    std_acc[n-1]=np.std(yhat==y_test)/np.sqrt(yhat.shape[0])\n",
    "\n",
    "mean_acc"
   ]
  },
  {
   "cell_type": "code",
   "execution_count": 47,
   "metadata": {
    "colab": {
     "base_uri": "https://localhost:8080/",
     "height": 297
    },
    "id": "0sAPnok6U2ki",
    "outputId": "02a37afe-80f7-4dbc-fc1a-587dcf9fe7f2"
   },
   "outputs": [
    {
     "data": {
      "image/png": "[encoded data removed]",
      "text/plain": [
       "<Figure size 432x288 with 1 Axes>"
      ]
     },
     "metadata": {
      "needs_background": "light",
      "tags": []
     },
     "output_type": "display_data"
    }
   ],
   "source": [
    "plt.plot(range(1,Ks),mean_acc,'g')\n",
    "plt.fill_between(range(1,Ks),mean_acc - 1 * std_acc,mean_acc + 1 * std_acc, alpha=0.10)\n",
    "plt.legend(('Accuracy ', '+/- 3xstd'))\n",
    "plt.ylabel('Tingkat Akurasi ')\n",
    "plt.xlabel('Banyaknya tetangga (K)')\n",
    "plt.tight_layout()\n",
    "plt.show()"
   ]
  },
  {
   "cell_type": "code",
   "execution_count": 48,
   "metadata": {
    "colab": {
     "base_uri": "https://localhost:8080/"
    },
    "id": "Jwt4W2XDU_3W",
    "outputId": "172c95c1-6888-4f3f-da3e-3b53f8adccf3"
   },
   "outputs": [
    {
     "name": "stdout",
     "output_type": "stream",
     "text": [
      "Akurasi terbaik adalah 1.0 dengan k= 1\n"
     ]
    }
   ],
   "source": [
    "print( \"Akurasi terbaik adalah\", mean_acc.max(), \"dengan k=\", mean_acc.argmax()+1) "
   ]
  }
 ],
 "metadata": {
  "accelerator": "GPU",
  "colab": {
   "collapsed_sections": [],
   "name": "KNN_Water.ipynb",
   "provenance": []
  },
  "kernelspec": {
   "display_name": "Python 3",
   "language": "python",
   "name": "python3"
  },
  "language_info": {
   "codemirror_mode": {
    "name": "ipython",
    "version": 3
   },
   "file_extension": ".py",
   "mimetype": "text/x-python",
   "name": "python",
   "nbconvert_exporter": "python",
   "pygments_lexer": "ipython3",
   "version": "3.8.5"
  },
  "varInspector": {
   "cols": {
    "lenName": 16,
    "lenType": 16,
    "lenVar": 40
   },
   "kernels_config": {
    "python": {
     "delete_cmd_postfix": "",
     "delete_cmd_prefix": "del ",
     "library": "var_list.py",
     "varRefreshCmd": "print(var_dic_list())"
    },
    "r": {
     "delete_cmd_postfix": ") ",
     "delete_cmd_prefix": "rm(",
     "library": "var_list.r",
     "varRefreshCmd": "cat(var_dic_list()) "
    }
   },
   "types_to_exclude": [
    "module",
    "function",
    "builtin_function_or_method",
    "instance",
    "_Feature"
   ],
   "window_display": false
  }
 },
 "nbformat": 4,
 "nbformat_minor": 1
}
