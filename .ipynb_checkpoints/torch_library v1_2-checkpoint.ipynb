{
 "cells": [
  {
   "cell_type": "markdown",
   "id": "e7b49ccf",
   "metadata": {},
   "source": [
    "# starting package"
   ]
  },
  {
   "cell_type": "markdown",
   "id": "a72e1d10",
   "metadata": {},
   "source": [
    "basic start"
   ]
  },
  {
   "cell_type": "code",
   "execution_count": 1,
   "id": "75198a6a",
   "metadata": {},
   "outputs": [
    {
     "data": {
      "text/plain": [
       "device(type='cuda')"
      ]
     },
     "execution_count": 1,
     "metadata": {},
     "output_type": "execute_result"
    }
   ],
   "source": [
    "import torch\n",
    "import matplotlib.pyplot as plt\n",
    "\n",
    "from torch import nn, optim\n",
    "from torchvision import datasets, transforms\n",
    "from torch.utils.data import DataLoader\n",
    "from jcopdl.layers import linear_block\n",
    "from jcopdl.callback import Callback, set_config\n",
    "from tqdm.auto import tqdm\n",
    "\n",
    "device=torch.device(\"cuda\" if torch.cuda.is_available() else \"cpu\")\n",
    "torch.cuda.empty_cache()\n",
    "device"
   ]
  },
  {
   "cell_type": "markdown",
   "id": "845c558d",
   "metadata": {},
   "source": [
    "# Dataset & DataLoader"
   ]
  },
  {
   "cell_type": "markdown",
   "id": "ca72e12e",
   "metadata": {},
   "source": [
    "dataset image"
   ]
  },
  {
   "cell_type": "code",
   "execution_count": 3,
   "id": "f1b92e54",
   "metadata": {},
   "outputs": [
    {
     "ename": "NameError",
     "evalue": "name 'transforms' is not defined",
     "output_type": "error",
     "traceback": [
      "\u001b[1;31m---------------------------------------------------------------------------\u001b[0m",
      "\u001b[1;31mNameError\u001b[0m                                 Traceback (most recent call last)",
      "\u001b[1;32m<ipython-input-3-d80fdf55534f>\u001b[0m in \u001b[0;36m<module>\u001b[1;34m\u001b[0m\n\u001b[0;32m      2\u001b[0m \u001b[0mcrop_size\u001b[0m\u001b[1;33m=\u001b[0m\u001b[1;36m0\u001b[0m\u001b[1;33m\u001b[0m\u001b[1;33m\u001b[0m\u001b[0m\n\u001b[0;32m      3\u001b[0m \u001b[1;33m\u001b[0m\u001b[0m\n\u001b[1;32m----> 4\u001b[1;33m train_transform=transforms.Compose([\n\u001b[0m\u001b[0;32m      5\u001b[0m     \u001b[0mtransforms\u001b[0m\u001b[1;33m.\u001b[0m\u001b[0mRandomResizedCrop\u001b[0m\u001b[1;33m(\u001b[0m\u001b[0mcrop_size\u001b[0m\u001b[1;33m,\u001b[0m \u001b[0mscale\u001b[0m\u001b[1;33m=\u001b[0m\u001b[1;33m(\u001b[0m\u001b[1;36m0.8\u001b[0m\u001b[1;33m,\u001b[0m\u001b[1;36m1.0\u001b[0m\u001b[1;33m)\u001b[0m\u001b[1;33m)\u001b[0m\u001b[1;33m,\u001b[0m\u001b[1;33m\u001b[0m\u001b[1;33m\u001b[0m\u001b[0m\n\u001b[0;32m      6\u001b[0m     \u001b[0mtransforms\u001b[0m\u001b[1;33m.\u001b[0m\u001b[0mToTensor\u001b[0m\u001b[1;33m(\u001b[0m\u001b[1;33m)\u001b[0m\u001b[1;33m\u001b[0m\u001b[1;33m\u001b[0m\u001b[0m\n",
      "\u001b[1;31mNameError\u001b[0m: name 'transforms' is not defined"
     ]
    }
   ],
   "source": [
    "bs=0\n",
    "crop_size=0\n",
    "\n",
    "train_transform=transforms.Compose([\n",
    "    transforms.RandomResizedCrop(crop_size, scale=(0.8,1.0)),\n",
    "    transforms.ToTensor()\n",
    "])\n",
    "\n",
    "test_transform=transforms.Compose([\n",
    "    transforms.Resize((crop_size+10)),\n",
    "    transforms.CenterCrop(crop_size),\n",
    "    transforms.ToTensor()\n",
    "])\n",
    "\n",
    "train_dir='folder train'\n",
    "train_set=datasets.ImageFolder(train_dir)\n",
    "trainloader=DataLoader(train_set, batch_size=bs, shuffle=True, num_workers=2)\n",
    "\n",
    "test_dir='folder test'\n",
    "test_set=datasets.ImageFolder(test-dir)\n",
    "testloader=DataLoader(test_set, batch_size=bs, shuffle=True, num_workers=2) "
   ]
  },
  {
   "cell_type": "markdown",
   "id": "9d8c5302",
   "metadata": {},
   "source": [
    "Dataset aksara"
   ]
  },
  {
   "cell_type": "code",
   "execution_count": 2,
   "id": "37d2e9ba",
   "metadata": {},
   "outputs": [
    {
     "ename": "NameError",
     "evalue": "name 'X' is not defined",
     "output_type": "error",
     "traceback": [
      "\u001b[1;31m---------------------------------------------------------------------------\u001b[0m",
      "\u001b[1;31mNameError\u001b[0m                                 Traceback (most recent call last)",
      "\u001b[1;32m<ipython-input-2-5e7e71d1d70c>\u001b[0m in \u001b[0;36m<module>\u001b[1;34m\u001b[0m\n\u001b[0;32m      9\u001b[0m \u001b[0mrandom_state\u001b[0m\u001b[1;33m=\u001b[0m\u001b[1;36m42\u001b[0m\u001b[1;33m;\u001b[0m\u001b[1;33m\u001b[0m\u001b[1;33m\u001b[0m\u001b[0m\n\u001b[0;32m     10\u001b[0m \u001b[1;33m\u001b[0m\u001b[0m\n\u001b[1;32m---> 11\u001b[1;33m \u001b[0mX_train\u001b[0m\u001b[1;33m,\u001b[0m \u001b[0mX_test\u001b[0m\u001b[1;33m,\u001b[0m \u001b[0my_train\u001b[0m\u001b[1;33m,\u001b[0m \u001b[0my_test\u001b[0m\u001b[1;33m=\u001b[0m\u001b[0mtrain_test_split\u001b[0m\u001b[1;33m(\u001b[0m\u001b[0mX\u001b[0m\u001b[1;33m,\u001b[0m \u001b[0my\u001b[0m\u001b[1;33m,\u001b[0m \u001b[0mtest_size\u001b[0m\u001b[1;33m=\u001b[0m\u001b[1;36m0.2\u001b[0m\u001b[1;33m,\u001b[0m \u001b[0mstratify\u001b[0m\u001b[1;33m=\u001b[0m\u001b[0my\u001b[0m\u001b[1;33m,\u001b[0m \u001b[0mrandom_state\u001b[0m\u001b[1;33m=\u001b[0m\u001b[0mrandom_state\u001b[0m\u001b[1;33m)\u001b[0m\u001b[1;33m\u001b[0m\u001b[1;33m\u001b[0m\u001b[0m\n\u001b[0m\u001b[0;32m     12\u001b[0m \u001b[0mX_train\u001b[0m\u001b[1;33m,\u001b[0m \u001b[0mX_val\u001b[0m\u001b[1;33m,\u001b[0m \u001b[0my_train\u001b[0m\u001b[1;33m,\u001b[0m \u001b[0my_test\u001b[0m\u001b[1;33m=\u001b[0m\u001b[0mtrain_test_split\u001b[0m\u001b[1;33m(\u001b[0m\u001b[0mX_train\u001b[0m\u001b[1;33m,\u001b[0m \u001b[0my_train\u001b[0m\u001b[1;33m,\u001b[0m \u001b[0mtest_size\u001b[0m\u001b[1;33m=\u001b[0m\u001b[1;36m0.25\u001b[0m\u001b[1;33m,\u001b[0m \u001b[0mstratify\u001b[0m\u001b[1;33m=\u001b[0m\u001b[0my\u001b[0m\u001b[1;33m,\u001b[0m \u001b[0mrandom_state\u001b[0m\u001b[1;33m=\u001b[0m\u001b[0mrandom_state\u001b[0m\u001b[1;33m)\u001b[0m\u001b[1;33m\u001b[0m\u001b[1;33m\u001b[0m\u001b[0m\n\u001b[0;32m     13\u001b[0m \u001b[1;33m\u001b[0m\u001b[0m\n",
      "\u001b[1;31mNameError\u001b[0m: name 'X' is not defined"
     ]
    }
   ],
   "source": [
    "import pandas as pd\n",
    "from sklearn.model_selection import train_test_split\n",
    "from sklearn.pipeline import Pipeline\n",
    "from sklearn.compose import ColumnTransformer\n",
    "from sklearn.preprocessing import StandardScaler, MinMaxScaler,OneHotEncoder\n",
    "from sklearn.impute import SimpleImputer\n",
    "from torch.utils.data import TensorDataset\n",
    "\n",
    "df=pd.read_csv(\"water_potability.csv\")\n",
    "\n",
    "random_state=42;\n",
    "\n",
    "X_train, X_test, y_train, y_test=train_test_split(X, y, test_size=0.2, stratify=y, random_state=random_state)\n",
    "X_train, X_val, y_train, y_test=train_test_split(X_train, y_train, test_size=0.25, stratify=y, random_state=random_state)\n",
    "\n",
    "numeric=Pipeline([\n",
    "    ('imputer',SimpleImputer(strategy=\"median\")),\n",
    "    (\"scaler\",MinMaxScaler())\n",
    "])\n",
    "\n",
    "categorical=Pipeline([\n",
    "    ('imputer',SimpleImputer(strategy=\"most_frequent\")),\n",
    "    (\"onehot\",OneHotEncoder())\n",
    "])\n",
    "\n",
    "preprocessor=ColumnTransformer([\n",
    "    ('numeric', numeric, ['column feature numeric']),\n",
    "    ('categoric', categorical, ['column feature categorical'])\n",
    "])\n",
    "\n",
    "X_train=preprocessor.fit_transform(X_train)\n",
    "X_test=preprocessor.transform(X_test)\n",
    "\n",
    "X_train=torch.LongTensor(X_train).to(device)\n",
    "X_test=torch.LongTensor(X_test).to(device)\n",
    "y_train=torch.LongTensor(X_train).to(device)\n",
    "y_test=torch.LongTensor(X_test).to(device)\n",
    "\n",
    "bs=0\n",
    "\n",
    "train_set=TensorDataset(X_train,y_train),\n",
    "trainloader=DataLoader(train_set, batch_size=bs, shuffle=True, num_workers=2)\n",
    "\n",
    "\n",
    "train_set=TensorDataset(X_test,y_test),\n",
    "trainloader=DataLoader(train_set, batch_size=bs)"
   ]
  },
  {
   "cell_type": "markdown",
   "id": "16ff07ba",
   "metadata": {},
   "source": [
    "# Arsitektur & Config"
   ]
  },
  {
   "cell_type": "markdown",
   "id": "fe62c5d8",
   "metadata": {},
   "source": [
    "default nn classifier"
   ]
  },
  {
   "cell_type": "code",
   "execution_count": null,
   "id": "f9e49343",
   "metadata": {},
   "outputs": [],
   "source": [
    "Class CustomClassifier(nn.Module):\n",
    "    def __init__(self, input_size, n1, n2, output_size, dropout=0.2):\n",
    "        super().__init__()\n",
    "        self.fc=nn.Sequential(\n",
    "            nn.Flatten(),\n",
    "            \n",
    "            nn.Linear(input_size, n1),\n",
    "            nn.ReLU(),\n",
    "            nn.Dropout(dropout)\n",
    "            \n",
    "            nn.Linear(n1, n2),\n",
    "            nn.ReLU(),\n",
    "            nn.Dropout(dropout)\n",
    "            \n",
    "            nn.Linear(n2, output_size),\n",
    "            nn.LogSoftmax(1),\n",
    "        )\n",
    "        \n",
    "    def forward(self, x):\n",
    "        x = self.fc(x)\n",
    "        return x"
   ]
  },
  {
   "cell_type": "markdown",
   "id": "df89c4c9",
   "metadata": {},
   "source": [
    "image CNN classifier"
   ]
  },
  {
   "cell_type": "code",
   "execution_count": null,
   "id": "3d5a4c53",
   "metadata": {},
   "outputs": [],
   "source": [
    "Class CustomClassifier(nn.Module):\n",
    "    def __init__(self, crop_size, n1, n2, n3, n4, output_size, dropout=0.2, n_filter=3, n_stride=1, n_padding=1):\n",
    "        super().__init__()\n",
    "        self.conv=nn.Sequential(\n",
    "            nn.Conv2d(3, n1, n_filter, n_stride, n_padding),\n",
    "            nn.ReLU(),\n",
    "            nn.MaxPool2d(2, 2)\n",
    "            \n",
    "            \n",
    "            nn.Conv2d(n1, n2, n_filter, n_stride, n_padding),\n",
    "            nn.ReLU(),\n",
    "            nn.MaxPool2d(2, 2)\n",
    "            \n",
    "            \n",
    "            nn.Conv2d(n2, n3, n_filter, n_stride, n_padding),\n",
    "            nn.ReLU(),\n",
    "            nn.MaxPool2d(2, 2)\n",
    "            \n",
    "            \n",
    "            nn.Conv2d(n3, n4, n_filter, n_stride, n_padding),\n",
    "            nn.ReLU(),\n",
    "            nn.MaxPool2d(2, 2)\n",
    "            \n",
    "            nn.Flatten()\n",
    "        )\n",
    "        \n",
    "        self.fc=nn.Sequential(\n",
    "            nn.Flatten(),\n",
    "            \n",
    "            nn.Linear((crop_size*4*4), (crop_size*4*4/2)),\n",
    "            nn.ReLU(),\n",
    "            nn.Dropout(dropout)\n",
    "           \n",
    "            nn.Linear((crop_size*4*4/2), (crop_size*4*4/4)),\n",
    "            nn.ReLU(),\n",
    "            nn.Dropout(dropout)\n",
    "            \n",
    "            nn.Linear((crop_size*4*4/8), output_size),\n",
    "            nn.ReLU(),\n",
    "            nn.LogSoftmax(1),\n",
    "        )\n",
    "        \n",
    "    def forward(self, x):\n",
    "        x = self.conv(x)\n",
    "        x = self.fc(x)\n",
    "        return x"
   ]
  },
  {
   "cell_type": "markdown",
   "id": "dd2fbcea",
   "metadata": {},
   "source": [
    "default nn classifier"
   ]
  },
  {
   "cell_type": "code",
   "execution_count": null,
   "id": "4b0bcefd",
   "metadata": {},
   "outputs": [],
   "source": [
    "config= set_config({\n",
    "    \"crop_size\":crop_size, \n",
    "    \"n_filter\":n_filter, \n",
    "    \"n_stride\":n_stride, \n",
    "    \"n_padding\":n_padding,\n",
    "    \"batch_size\":bs.\n",
    "    \"input_size\":input_size,\n",
    "    \"n1\":n1,\n",
    "    \"n2\":n2,\n",
    "    \"n3\":n3,\n",
    "    \"n4\":n4,\n",
    "    \"output_size\": len(train_set.classes),\n",
    "    \"dropout\":dropout\n",
    "})"
   ]
  },
  {
   "cell_type": "markdown",
   "id": "5f468e9c",
   "metadata": {},
   "source": [
    "default cnn classifier"
   ]
  },
  {
   "cell_type": "code",
   "execution_count": null,
   "id": "b694a7f1",
   "metadata": {},
   "outputs": [],
   "source": [
    "config= set_config({\n",
    "    \"batch_size\":bs\n",
    "    \"input_size\":input_size,\n",
    "    \"n1\":n1,\n",
    "    \"n2\":n2,\n",
    "    \"output_size\": len(train_set.classes),\n",
    "    \"dropout\":dropout\n",
    "})"
   ]
  },
  {
   "cell_type": "markdown",
   "id": "80d02c94",
   "metadata": {},
   "source": [
    "# Training Preparation ( MCOC )"
   ]
  },
  {
   "cell_type": "code",
   "execution_count": null,
   "id": "2c90f359",
   "metadata": {},
   "outputs": [],
   "source": [
    "model=CustomClassifier(config.crop_size, config.n1, config.n2, config.n3, config.n4, config.output_size, config.dropout, config.n_filter, config.n_stride, config.n_padding).to(device)\n",
    "citerion=nn.NLLLoss()\n",
    "optimizer=optim.AdamW(model.parameters(), lr=0.001)\n",
    "callback=Callback(model, config, outdir=\"your directory\", save_every=20, early_stop_patience=5, plot_every= 20)"
   ]
  },
  {
   "cell_type": "markdown",
   "id": "af0daedc",
   "metadata": {},
   "source": [
    "# Training"
   ]
  },
  {
   "cell_type": "code",
   "execution_count": null,
   "id": "5056d551",
   "metadata": {},
   "outputs": [],
   "source": [
    "def loop_fn(mode, dataset, dataloader, model, citerion, optimizer, device):\n",
    "    if mode =='train':\n",
    "        model.train()\n",
    "    elif mode =='test':\n",
    "        model.eval()\n",
    "    cost = correct = 0\n",
    "    for feature, target in tqdm(dataloader, desc=mode.title()):\n",
    "        feature, target=feature.to(device), target.to(device)\n",
    "        output = model(feature)\n",
    "        loss = citerion(output, target)\n",
    "        \n",
    "        if mode == 'train':\n",
    "            loss.bacward()\n",
    "            optimizer.step()\n",
    "            optimizer.zero_grad()\n",
    "        \n",
    "        cost += loss.item() * feature.shape[0]\n",
    "        correct += (output.argmax(1) == target).sum().item()\n",
    "    cost = cost / len(dataset)\n",
    "    acc = correct / len(dataset)\n",
    "    return cost, acc    "
   ]
  },
  {
   "cell_type": "code",
   "execution_count": null,
   "id": "c6f6b357",
   "metadata": {},
   "outputs": [],
   "source": [
    "while True:\n",
    "    train_cost, train_score = loop_fn(\"train\", train_set, trainloader, model, citerion, optimizer, device)\n",
    "    with torch.no_grad():\n",
    "        test_cost, test_score = loop_fn(\"test\", test_set, testloader, model, citerion, optimizer, device)\n",
    "        \n",
    "    callback.log(train_cost, test_cost, train_score, test_score)\n",
    "    callback.save_checkpoint()\n",
    "    callback.cost_runtime_plotting()\n",
    "    callback.score_runtime_plotting()\n",
    "    \n",
    "    if callback.early_stopping(model, monitor=\"score_test\"):\n",
    "        callback.plot_cost()\n",
    "        callback.plot_score()\n",
    "        break"
   ]
  },
  {
   "cell_type": "markdown",
   "id": "e77020f9",
   "metadata": {},
   "source": [
    "# Load Model"
   ]
  },
  {
   "cell_type": "code",
   "execution_count": null,
   "id": "69b6179e",
   "metadata": {},
   "outputs": [],
   "source": [
    "weights=torch.load(\"your directory/weights_best.pth\", map_location=\"cpu\")\n",
    "config=torch.load(\"your directory/configs.pth\", map_location=\"cpu\")\n",
    "\n",
    "model=CustomClassifier(config.input_size, config.n1, config.n2, config.output_size, config.dropout)\n",
    "model.load_state_dict(weights)\n",
    "model=model.to(device)"
   ]
  },
  {
   "cell_type": "markdown",
   "id": "fd1eaa10",
   "metadata": {},
   "source": [
    "# Predict"
   ]
  },
  {
   "cell_type": "code",
   "execution_count": null,
   "id": "351456f1",
   "metadata": {},
   "outputs": [],
   "source": [
    "feature, target = next(iter(testloader))\n",
    "feature, target = feature.to(device), target.to(device)\n",
    "\n",
    "label2cat=train_set.classes\n",
    "\n",
    "with torch.no_grad():\n",
    "    model.eval()\n",
    "    output = model(feature)\n",
    "    predictions = output.argmax(1)\n",
    "[label2cat[prediction] for prediction in predictions]"
   ]
  },
  {
   "cell_type": "markdown",
   "id": "c26cd544",
   "metadata": {},
   "source": [
    "# Visualisasi Predictions ( image dataset ) "
   ]
  },
  {
   "cell_type": "code",
   "execution_count": null,
   "id": "3c718c5a",
   "metadata": {},
   "outputs": [],
   "source": [
    "fig, axes = plt.subplots(5, 5, figsize=(25, 25))\n",
    "for img, label, prediction, ax in zip(feature, target, predictions, axes.flatten()):\n",
    "    ax.imshow(img.view(28, 28).cpu(), cmap='')\n",
    "    font= {'color' : 'r'} if label != pred else {'color' : 'g'}\n",
    "    label, prediction = label2cat[label.item()], label2cat[pred.item()]\n",
    "    ax.set_title(f\" Label: {label} | Pred: {prediction}\",fontdict = font);\n",
    "    ax.axis('off')''"
   ]
  },
  {
   "cell_type": "code",
   "execution_count": null,
   "id": "78f7e14f",
   "metadata": {},
   "outputs": [],
   "source": []
  },
  {
   "cell_type": "code",
   "execution_count": null,
   "id": "bbd85e5f",
   "metadata": {},
   "outputs": [],
   "source": []
  },
  {
   "cell_type": "code",
   "execution_count": null,
   "id": "364efc28",
   "metadata": {},
   "outputs": [],
   "source": []
  }
 ],
 "metadata": {
  "kernelspec": {
   "display_name": "Python 3",
   "language": "python",
   "name": "python3"
  },
  "language_info": {
   "codemirror_mode": {
    "name": "ipython",
    "version": 3
   },
   "file_extension": ".py",
   "mimetype": "text/x-python",
   "name": "python",
   "nbconvert_exporter": "python",
   "pygments_lexer": "ipython3",
   "version": "3.7.6"
  },
  "varInspector": {
   "cols": {
    "lenName": 16,
    "lenType": 16,
    "lenVar": 40
   },
   "kernels_config": {
    "python": {
     "delete_cmd_postfix": "",
     "delete_cmd_prefix": "del ",
     "library": "var_list.py",
     "varRefreshCmd": "print(var_dic_list())"
    },
    "r": {
     "delete_cmd_postfix": ") ",
     "delete_cmd_prefix": "rm(",
     "library": "var_list.r",
     "varRefreshCmd": "cat(var_dic_list()) "
    }
   },
   "types_to_exclude": [
    "module",
    "function",
    "builtin_function_or_method",
    "instance",
    "_Feature"
   ],
   "window_display": false
  }
 },
 "nbformat": 4,
 "nbformat_minor": 5
}
