{
 "cells": [
  {
   "cell_type": "code",
   "execution_count": 1,
   "metadata": {},
   "outputs": [],
   "source": [
    "from sklearn.model_selection import train_test_split,GridSearchCV\n",
    "from sklearn.pipeline import Pipeline\n",
    "from sklearn.impute import SimpleImputer\n",
    "from sklearn.compose import ColumnTransformer\n",
    "from sklearn.preprocessing import StandardScaler, MinMaxScaler,OneHotEncoder\n",
    "from sklearn.metrics import classification_report\n",
    "from sklearn import metrics\n",
    "from sklearn.neighbors import KNeighborsClassifier\n",
    "from sklearn.tree import DecisionTreeClassifier\n",
    "from sklearn.ensemble import RandomForestClassifier\n",
    "from sklearn.svm import SVC\n",
    "import pandas as pd\n",
    "import matplotlib.pyplot as plt\n",
    "import seaborn as sns"
   ]
  },
  {
   "cell_type": "code",
   "execution_count": 6,
   "metadata": {},
   "outputs": [],
   "source": [
    "df=pd.read_csv(\"water_potability.csv\").dropna()\n",
    "# df.drop(labels=3116,axis=0,inplace=True)\n",
    "# print(df.shape)"
   ]
  },
  {
   "cell_type": "code",
   "execution_count": null,
   "metadata": {},
   "outputs": [],
   "source": [
    "df.Conductivity = pd.cut(df.Conductivity,[0,400,1500], labels = ['layak','tinggi'])\n",
    "df.Sulfate = pd.cut(df.Sulfate,[0,250,1000], labels = ['layak','tinggi'])\n",
    "df.Chloramines = pd.cut(df.Chloramines,[0,5,100], labels = ['layak','tinggi'])\n",
    "# df.Solids = pd.cut(df.Solids,[500,1000,100000], labels = ['layak','tinggi'])\n",
    "df.Hardness = pd.cut(df.Hardness,[0,500,1000], labels = ['layak','tinggi'])\n",
    "df.ph = pd.cut(df.ph,[0,6.5,8.5,20], labels = ['basa','netral','asam'])"
   ]
  },
  {
   "cell_type": "code",
   "execution_count": null,
   "metadata": {},
   "outputs": [],
   "source": [
    "print(df.Hardness)"
   ]
  },
  {
   "cell_type": "code",
   "execution_count": 7,
   "metadata": {},
   "outputs": [],
   "source": [
    "X=df.drop(['Potability'],axis=1)\n",
    "y=df.filter(['Potability'])\n",
    "\n",
    "X_train,X_test,y_train,y_test=train_test_split(X,y,test_size=0.2,random_state=42)\n",
    "X_train,X_val,y_train,y_val=train_test_split(X_train,y_train,test_size=0.25,random_state=42)"
   ]
  },
  {
   "cell_type": "code",
   "execution_count": 8,
   "metadata": {},
   "outputs": [],
   "source": [
    "numeric_pipa=Pipeline([\n",
    "        (\"imputer\",SimpleImputer(strategy=\"mean\")),\n",
    "        (\"scaler\",MinMaxScaler())\n",
    "    ])\n",
    "\n",
    "catagori_pipa=Pipeline([\n",
    "        (\"imputer\",SimpleImputer(strategy=\"most_frequent\")),\n",
    "        (\"onehot\",OneHotEncoder())\n",
    "    ])\n",
    "\n",
    "preposecor=ColumnTransformer([\n",
    "        (\"numeric\",numeric_pipa,['ph','Hardness','Sulfate','Conductivity','Chloramines','Solids','Organic_carbon','Trihalomethanes','Turbidity']),\n",
    "#         (\"catagoric\",catagori_pipa,['ph','Hardness','Sulfate','Conductivity','Chloramines'])\n",
    "    ])\n",
    "\n",
    "pipa=Pipeline([\n",
    "        (\"prep\",preposecor),\n",
    "        (\"a\",RandomForestClassifier())\n",
    "    ])\n",
    "\n",
    "# print(pipa.get_params())\n",
    "\n",
    "parameter={\n",
    "    \"a__n_estimators\" : [500],\n",
    "#     decision tree\n",
    "        \"a__min_samples_leaf\":[2],\n",
    "        \"a__max_depth\":range(1,50),\n",
    "#         \"a__random_state\":range(1,2,50),\n",
    "        \"a__criterion\":[\"gini\",\"entropy\"],\n",
    "#         \"a__splitter\":[\"best\", \"random\"],\n",
    "        \"a__max_features\":[\"auto\",\"sqrt\",\"log2\"],\n",
    "    }"
   ]
  },
  {
   "cell_type": "code",
   "execution_count": null,
   "metadata": {},
   "outputs": [],
   "source": [
    "print(X_test)"
   ]
  },
  {
   "cell_type": "code",
   "execution_count": null,
   "metadata": {},
   "outputs": [],
   "source": [
    "data = [\n",
    "    [\"asam\",185.9267231,31548.00646,7.079462297,333.6395113,342.3556975,18.24836789,62.18868705,5.100857854],\n",
    "]\n",
    "\n",
    "data_test = pd.DataFrame(data,columns = X.columns)"
   ]
  },
  {
   "cell_type": "code",
   "execution_count": 9,
   "metadata": {},
   "outputs": [
    {
     "name": "stdout",
     "output_type": "stream",
     "text": [
      "Fitting 3 folds for each of 294 candidates, totalling 882 fits\n"
     ]
    },
    {
     "name": "stderr",
     "output_type": "stream",
     "text": [
      "[Parallel(n_jobs=-1)]: Using backend LokyBackend with 8 concurrent workers.\n",
      "[Parallel(n_jobs=-1)]: Done  34 tasks      | elapsed:   22.4s\n",
      "[Parallel(n_jobs=-1)]: Done 184 tasks      | elapsed:  1.8min\n",
      "[Parallel(n_jobs=-1)]: Done 434 tasks      | elapsed:  4.5min\n",
      "[Parallel(n_jobs=-1)]: Done 784 tasks      | elapsed:  9.4min\n",
      "[Parallel(n_jobs=-1)]: Done 882 out of 882 | elapsed: 10.9min finished\n"
     ]
    },
    {
     "name": "stdout",
     "output_type": "stream",
     "text": [
      "              precision    recall  f1-score   support\n",
      "\n",
      "           0       0.65      0.89      0.75       231\n",
      "           1       0.71      0.37      0.48       171\n",
      "\n",
      "    accuracy                           0.67       402\n",
      "   macro avg       0.68      0.63      0.62       402\n",
      "weighted avg       0.68      0.67      0.64       402\n",
      "\n",
      "{'a__criterion': 'gini', 'a__max_depth': 45, 'a__max_features': 'log2', 'a__min_samples_leaf': 2, 'a__n_estimators': 500}\n",
      "0.6666666666666666\n"
     ]
    }
   ],
   "source": [
    "# simple model\n",
    "model=GridSearchCV(pipa,parameter,cv=3,n_jobs=-1,verbose=1)\n",
    "model.fit(X_train,y_train.values.ravel())\n",
    "tuning_terbaik=model.best_params_\n",
    "latihan_akurasi=model.score(X_train,y_train)\n",
    "ujian_akurasi=model.score(X_test,y_test)\n",
    "pred=model.predict(X_test)\n",
    "print(classification_report(y_test,pred))\n",
    "print(tuning_terbaik)\n",
    "print(ujian_akurasi)\n"
   ]
  },
  {
   "cell_type": "code",
   "execution_count": null,
   "metadata": {},
   "outputs": [],
   "source": [
    "print(pred)"
   ]
  },
  {
   "cell_type": "code",
   "execution_count": 10,
   "metadata": {},
   "outputs": [
    {
     "name": "stdout",
     "output_type": "stream",
     "text": [
      "Train set Accuracy:  1.0\n",
      "Test set Accuracy:  0.6666666666666666\n"
     ]
    }
   ],
   "source": [
    "yhat = model.predict(X_test)\n",
    "yhat[0:50]\n",
    "print(\"Train set Accuracy: \", metrics.accuracy_score(y_train, model.predict(X_train)))\n",
    "print(\"Test set Accuracy: \", metrics.accuracy_score(y_test, yhat))"
   ]
  },
  {
   "cell_type": "code",
   "execution_count": null,
   "metadata": {},
   "outputs": [],
   "source": [
    "\n",
    "for x in df:\n",
    "    print(pd.crosstab(df[x],df.Potability,normalize=\"index\",))\n",
    "    print(\"============================================================\")\n",
    "    plt.figure(figsize=(12,10))\n",
    "    sns.histplot(df[x][df.Potability==0],color=\"r\",label=\"tidak layak\")\n",
    "    sns.histplot(df[x][df.Potability==1],color=\"g\",label=\"layak\")\n",
    "    plt.legend()\n",
    "    plt.show()"
   ]
  },
  {
   "cell_type": "code",
   "execution_count": null,
   "metadata": {},
   "outputs": [],
   "source": []
  }
 ],
 "metadata": {
  "kernelspec": {
   "display_name": "Python 3",
   "language": "python",
   "name": "python3"
  },
  "language_info": {
   "codemirror_mode": {
    "name": "ipython",
    "version": 3
   },
   "file_extension": ".py",
   "mimetype": "text/x-python",
   "name": "python",
   "nbconvert_exporter": "python",
   "pygments_lexer": "ipython3",
   "version": "3.8.5"
  },
  "varInspector": {
   "cols": {
    "lenName": 16,
    "lenType": 16,
    "lenVar": 40
   },
   "kernels_config": {
    "python": {
     "delete_cmd_postfix": "",
     "delete_cmd_prefix": "del ",
     "library": "var_list.py",
     "varRefreshCmd": "print(var_dic_list())"
    },
    "r": {
     "delete_cmd_postfix": ") ",
     "delete_cmd_prefix": "rm(",
     "library": "var_list.r",
     "varRefreshCmd": "cat(var_dic_list()) "
    }
   },
   "types_to_exclude": [
    "module",
    "function",
    "builtin_function_or_method",
    "instance",
    "_Feature"
   ],
   "window_display": false
  }
 },
 "nbformat": 4,
 "nbformat_minor": 5
}
