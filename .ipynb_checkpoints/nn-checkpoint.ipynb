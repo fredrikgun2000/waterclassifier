{
 "cells": [
  {
   "cell_type": "markdown",
   "id": "e7b49ccf",
   "metadata": {},
   "source": [
    "# starting package"
   ]
  },
  {
   "cell_type": "markdown",
   "id": "a72e1d10",
   "metadata": {},
   "source": [
    "basic start"
   ]
  },
  {
   "cell_type": "code",
   "execution_count": 1,
   "id": "75198a6a",
   "metadata": {},
   "outputs": [
    {
     "data": {
      "text/plain": [
       "device(type='cuda', index=0)"
      ]
     },
     "execution_count": 1,
     "metadata": {},
     "output_type": "execute_result"
    }
   ],
   "source": [
    "import torch\n",
    "import matplotlib.pyplot as plt\n",
    "\n",
    "from torch import nn, optim\n",
    "from torchvision import datasets, transforms\n",
    "from torch.utils.data import DataLoader\n",
    "from jcopdl.layers import linear_block\n",
    "from jcopdl.callback import Callback, set_config\n",
    "from tqdm.auto import tqdm\n",
    "\n",
    "device = torch.device('cuda:0' if torch.cuda.is_available() else 'cpu')\n",
    "torch.cuda.empty_cache()\n",
    "device"
   ]
  },
  {
   "cell_type": "markdown",
   "id": "845c558d",
   "metadata": {},
   "source": [
    "# Dataset & DataLoader"
   ]
  },
  {
   "cell_type": "markdown",
   "id": "9d8c5302",
   "metadata": {},
   "source": [
    "Dataset aksara"
   ]
  },
  {
   "cell_type": "code",
   "execution_count": 2,
   "id": "37d2e9ba",
   "metadata": {},
   "outputs": [],
   "source": [
    "import pandas as pd\n",
    "from sklearn.model_selection import train_test_split\n",
    "from sklearn.pipeline import Pipeline\n",
    "from sklearn.compose import ColumnTransformer\n",
    "from sklearn.preprocessing import StandardScaler, MinMaxScaler,OneHotEncoder\n",
    "from sklearn.impute import SimpleImputer\n",
    "from torch.utils.data import TensorDataset\n",
    "\n",
    "df=pd.read_csv(\"water_potability.csv\")\n",
    "\n",
    "X=df.drop(['Potability'],axis=1)\n",
    "y=df.filter(['Potability']).values\n",
    "\n",
    "X_train,X_test,y_train,y_test=train_test_split(X,y,test_size=0.25, stratify = y ,random_state=42)\n",
    "\n",
    "numeric=Pipeline([\n",
    "    ('imputer',SimpleImputer(strategy=\"median\")),\n",
    "    (\"scaler\",MinMaxScaler())\n",
    "])\n",
    "\n",
    "# categorical=Pipeline([\n",
    "#     ('imputer',SimpleImputer(strategy=\"most_frequent\")),\n",
    "#     (\"onehot\",OneHotEncoder())\n",
    "# ])\n",
    "\n",
    "preprocessor=ColumnTransformer([\n",
    "    ('numeric', numeric, ['ph','Hardness','Sulfate','Conductivity','Chloramines','Solids','Organic_carbon','Trihalomethanes','Turbidity']),\n",
    "#     ('categoric', categorical, ['column feature categorical'])\n",
    "])\n",
    "\n",
    "X_train=preprocessor.fit_transform(X_train)\n",
    "X_test=preprocessor.transform(X_test)\n",
    "\n",
    "X_train=torch.FloatTensor(X_train).to(device)\n",
    "X_test=torch.FloatTensor(X_test).to(device)\n",
    "y_train=torch.LongTensor(y_train).to(device)\n",
    "y_test=torch.LongTensor(y_test).to(device)\n",
    "\n",
    "bs=64\n",
    "\n",
    "train_set=TensorDataset(X_train,y_train)\n",
    "trainloader=DataLoader(train_set, batch_size=bs, shuffle=True)\n",
    "\n",
    "test_set=TensorDataset(X_test,y_test)\n",
    "testloader=DataLoader(test_set, batch_size=bs)"
   ]
  },
  {
   "cell_type": "code",
   "execution_count": null,
   "id": "2f886811",
   "metadata": {},
   "outputs": [],
   "source": []
  },
  {
   "cell_type": "code",
   "execution_count": 3,
   "id": "f7c3e89f",
   "metadata": {},
   "outputs": [
    {
     "ename": "NameError",
     "evalue": "name 'model' is not defined",
     "output_type": "error",
     "traceback": [
      "\u001b[1;31m---------------------------------------------------------------------------\u001b[0m",
      "\u001b[1;31mNameError\u001b[0m                                 Traceback (most recent call last)",
      "\u001b[1;32m<ipython-input-3-06e38b64e7d9>\u001b[0m in \u001b[0;36m<module>\u001b[1;34m\u001b[0m\n\u001b[0;32m      1\u001b[0m \u001b[1;32mfor\u001b[0m \u001b[0mfeature\u001b[0m\u001b[1;33m,\u001b[0m \u001b[0mtarget\u001b[0m \u001b[1;32min\u001b[0m \u001b[0mtestloader\u001b[0m\u001b[1;33m:\u001b[0m\u001b[1;33m\u001b[0m\u001b[1;33m\u001b[0m\u001b[0m\n\u001b[1;32m----> 2\u001b[1;33m     \u001b[0moutput\u001b[0m \u001b[1;33m=\u001b[0m \u001b[0mmodel\u001b[0m\u001b[1;33m(\u001b[0m\u001b[0mfeature\u001b[0m\u001b[1;33m)\u001b[0m\u001b[1;33m\u001b[0m\u001b[1;33m\u001b[0m\u001b[0m\n\u001b[0m\u001b[0;32m      3\u001b[0m     \u001b[0mprint\u001b[0m \u001b[1;33m(\u001b[0m\u001b[0moutput\u001b[0m\u001b[1;33m.\u001b[0m\u001b[0margmax\u001b[0m\u001b[1;33m(\u001b[0m\u001b[1;36m1\u001b[0m\u001b[1;33m)\u001b[0m\u001b[1;33m)\u001b[0m\u001b[1;33m\u001b[0m\u001b[1;33m\u001b[0m\u001b[0m\n\u001b[0;32m      4\u001b[0m \u001b[1;33m\u001b[0m\u001b[0m\n\u001b[0;32m      5\u001b[0m \u001b[0mprint\u001b[0m\u001b[1;33m(\u001b[0m\u001b[0mX\u001b[0m\u001b[1;33m)\u001b[0m\u001b[1;33m\u001b[0m\u001b[1;33m\u001b[0m\u001b[0m\n",
      "\u001b[1;31mNameError\u001b[0m: name 'model' is not defined"
     ]
    }
   ],
   "source": [
    "for feature, target in testloader:\n",
    "    output = model(feature)\n",
    "    print (output.argmax(1))\n",
    "\n",
    "print(X)\n"
   ]
  },
  {
   "cell_type": "markdown",
   "id": "16ff07ba",
   "metadata": {},
   "source": [
    "# Arsitektur & Config"
   ]
  },
  {
   "cell_type": "markdown",
   "id": "fe62c5d8",
   "metadata": {},
   "source": [
    "default nn classifier"
   ]
  },
  {
   "cell_type": "code",
   "execution_count": 4,
   "id": "f9e49343",
   "metadata": {},
   "outputs": [],
   "source": [
    "class CustomClassifier(nn.Module):\n",
    "    def __init__(self, input_size, n1, n2, n3, output_size, dropout):\n",
    "        super().__init__()\n",
    "        self.fc=nn.Sequential(\n",
    "            nn.Flatten(),\n",
    "            \n",
    "            nn.Linear(input_size, n1),\n",
    "            nn.ReLU(),\n",
    "            nn.Dropout(dropout),\n",
    "            \n",
    "            nn.Linear(n1, n2),\n",
    "            nn.ReLU(),\n",
    "            nn.Dropout(dropout),\n",
    "            \n",
    "            nn.Linear(n2, n3),\n",
    "            nn.ReLU(),\n",
    "            nn.Dropout(dropout),\n",
    "            \n",
    "            nn.Linear(n3, output_size),\n",
    "            nn.LogSoftmax(1),\n",
    "        )\n",
    "        \n",
    "    def forward(self, x):\n",
    "        x = self.fc(x)\n",
    "        return x"
   ]
  },
  {
   "cell_type": "markdown",
   "id": "5f468e9c",
   "metadata": {},
   "source": [
    "default cnn classifier"
   ]
  },
  {
   "cell_type": "code",
   "execution_count": 5,
   "id": "b694a7f1",
   "metadata": {},
   "outputs": [],
   "source": [
    "config= set_config({\n",
    "    \"batch_size\":bs,\n",
    "    \"input_size\":9,\n",
    "    \"n1\":16,\n",
    "    \"n2\":8,\n",
    "    \"n3\":4,\n",
    "    \"output_size\": 2,\n",
    "    \"dropout\":0.2\n",
    "})"
   ]
  },
  {
   "cell_type": "markdown",
   "id": "80d02c94",
   "metadata": {},
   "source": [
    "# Training Preparation ( MCOC )"
   ]
  },
  {
   "cell_type": "code",
   "execution_count": 6,
   "id": "2c90f359",
   "metadata": {},
   "outputs": [],
   "source": [
    "model=CustomClassifier( config.input_size, config.n1, config.n2, config.n3, config.output_size, config.dropout).to(device)\n",
    "citerion=nn.NLLLoss()\n",
    "optimizer=optim.AdamW(model.parameters(), lr=0.001)\n",
    "callback=Callback(model, config, outdir=\"model\", save_every=20, early_stop_patience=10, plot_every= 20)"
   ]
  },
  {
   "cell_type": "markdown",
   "id": "af0daedc",
   "metadata": {},
   "source": [
    "# Training"
   ]
  },
  {
   "cell_type": "code",
   "execution_count": 7,
   "id": "5056d551",
   "metadata": {},
   "outputs": [],
   "source": [
    "def loop_fn(mode, dataset, dataloader, model, citerion, optimizer, device):\n",
    "    if mode =='train':\n",
    "        model.train()\n",
    "    elif mode =='test':\n",
    "        model.eval()\n",
    "    cost = correct = 0\n",
    "    for feature, target in tqdm(dataloader, desc=mode.title()):\n",
    "        feature, target = feature.to(device), target.to(device)\n",
    "        output = model(feature)\n",
    "        loss = citerion(output, target.squeeze_())\n",
    "        \n",
    "        if mode == 'train':\n",
    "            loss.backward()\n",
    "            optimizer.step()\n",
    "            optimizer.zero_grad()\n",
    "        \n",
    "        cost += loss.item() * feature.shape[0]\n",
    "        correct += (output.argmax(1) == target).sum().item()\n",
    "    cost = cost / len(dataset)\n",
    "    acc = correct / len(dataset)\n",
    "    return cost, acc    "
   ]
  },
  {
   "cell_type": "code",
   "execution_count": null,
   "id": "c9a7b11b",
   "metadata": {},
   "outputs": [],
   "source": [
    "len(train_set)"
   ]
  },
  {
   "cell_type": "code",
   "execution_count": 8,
   "id": "c6f6b357",
   "metadata": {},
   "outputs": [
    {
     "data": {
      "application/vnd.jupyter.widget-view+json": {
       "model_id": "d58522afc48f4e178432c65b5b8c7e80",
       "version_major": 2,
       "version_minor": 0
      },
      "text/plain": [
       "HBox(children=(FloatProgress(value=0.0, description='Train', max=39.0, style=ProgressStyle(description_width='…"
      ]
     },
     "metadata": {},
     "output_type": "display_data"
    },
    {
     "name": "stdout",
     "output_type": "stream",
     "text": [
      "\n"
     ]
    },
    {
     "data": {
      "application/vnd.jupyter.widget-view+json": {
       "model_id": "523f4e5d30e7494a9eebae7c8638b5fb",
       "version_major": 2,
       "version_minor": 0
      },
      "text/plain": [
       "HBox(children=(FloatProgress(value=0.0, description='Test', max=13.0, style=ProgressStyle(description_width='i…"
      ]
     },
     "metadata": {},
     "output_type": "display_data"
    },
    {
     "name": "stdout",
     "output_type": "stream",
     "text": [
      "\n",
      "\n",
      "Epoch     1\n",
      "Train_cost  = 0.6840 | Test_cost  = 0.6754 | Train_score = 0.5648 | Test_score = 0.6105 |\n"
     ]
    },
    {
     "data": {
      "application/vnd.jupyter.widget-view+json": {
       "model_id": "98f0e37c85fc4d33b4270cd9f54e2e83",
       "version_major": 2,
       "version_minor": 0
      },
      "text/plain": [
       "HBox(children=(FloatProgress(value=0.0, description='Train', max=39.0, style=ProgressStyle(description_width='…"
      ]
     },
     "metadata": {},
     "output_type": "display_data"
    },
    {
     "name": "stdout",
     "output_type": "stream",
     "text": [
      "\n"
     ]
    },
    {
     "data": {
      "application/vnd.jupyter.widget-view+json": {
       "model_id": "8a81510795f647b0be18b01fc39904f9",
       "version_major": 2,
       "version_minor": 0
      },
      "text/plain": [
       "HBox(children=(FloatProgress(value=0.0, description='Test', max=13.0, style=ProgressStyle(description_width='i…"
      ]
     },
     "metadata": {},
     "output_type": "display_data"
    },
    {
     "name": "stdout",
     "output_type": "stream",
     "text": [
      "\n",
      "\n",
      "Epoch     2\n",
      "Train_cost  = 0.6748 | Test_cost  = 0.6695 | Train_score = 0.6051 | Test_score = 0.6105 |\n",
      "\u001b[31m==> EarlyStop patience =  1 | Best test_score: 0.6105\u001b[0m\n"
     ]
    },
    {
     "data": {
      "application/vnd.jupyter.widget-view+json": {
       "model_id": "e4833c2d5f9444fc9d09e0e318496d91",
       "version_major": 2,
       "version_minor": 0
      },
      "text/plain": [
       "HBox(children=(FloatProgress(value=0.0, description='Train', max=39.0, style=ProgressStyle(description_width='…"
      ]
     },
     "metadata": {},
     "output_type": "display_data"
    },
    {
     "name": "stdout",
     "output_type": "stream",
     "text": [
      "\n"
     ]
    },
    {
     "data": {
      "application/vnd.jupyter.widget-view+json": {
       "model_id": "b1cb5eab58604ef89d731133c2c73cf6",
       "version_major": 2,
       "version_minor": 0
      },
      "text/plain": [
       "HBox(children=(FloatProgress(value=0.0, description='Test', max=13.0, style=ProgressStyle(description_width='i…"
      ]
     },
     "metadata": {},
     "output_type": "display_data"
    },
    {
     "name": "stdout",
     "output_type": "stream",
     "text": [
      "\n",
      "\n",
      "Epoch     3\n",
      "Train_cost  = 0.6731 | Test_cost  = 0.6687 | Train_score = 0.6076 | Test_score = 0.6105 |\n",
      "\u001b[31m==> EarlyStop patience =  2 | Best test_score: 0.6105\u001b[0m\n"
     ]
    },
    {
     "data": {
      "application/vnd.jupyter.widget-view+json": {
       "model_id": "fdb52eb344ae4cdc8866eda6390c1455",
       "version_major": 2,
       "version_minor": 0
      },
      "text/plain": [
       "HBox(children=(FloatProgress(value=0.0, description='Train', max=39.0, style=ProgressStyle(description_width='…"
      ]
     },
     "metadata": {},
     "output_type": "display_data"
    },
    {
     "name": "stdout",
     "output_type": "stream",
     "text": [
      "\n"
     ]
    },
    {
     "data": {
      "application/vnd.jupyter.widget-view+json": {
       "model_id": "0371a0f1ffd745afbc7d7ee5e1b9bcb0",
       "version_major": 2,
       "version_minor": 0
      },
      "text/plain": [
       "HBox(children=(FloatProgress(value=0.0, description='Test', max=13.0, style=ProgressStyle(description_width='i…"
      ]
     },
     "metadata": {},
     "output_type": "display_data"
    },
    {
     "name": "stdout",
     "output_type": "stream",
     "text": [
      "\n",
      "\n",
      "Epoch     4\n",
      "Train_cost  = 0.6681 | Test_cost  = 0.6686 | Train_score = 0.6076 | Test_score = 0.6105 |\n",
      "\u001b[31m==> EarlyStop patience =  3 | Best test_score: 0.6105\u001b[0m\n"
     ]
    },
    {
     "data": {
      "application/vnd.jupyter.widget-view+json": {
       "model_id": "93860358194f44bca5ef33731313d3c0",
       "version_major": 2,
       "version_minor": 0
      },
      "text/plain": [
       "HBox(children=(FloatProgress(value=0.0, description='Train', max=39.0, style=ProgressStyle(description_width='…"
      ]
     },
     "metadata": {},
     "output_type": "display_data"
    },
    {
     "name": "stdout",
     "output_type": "stream",
     "text": [
      "\n"
     ]
    },
    {
     "data": {
      "application/vnd.jupyter.widget-view+json": {
       "model_id": "f5fce27688a941f2a1c96004a6a6204e",
       "version_major": 2,
       "version_minor": 0
      },
      "text/plain": [
       "HBox(children=(FloatProgress(value=0.0, description='Test', max=13.0, style=ProgressStyle(description_width='i…"
      ]
     },
     "metadata": {},
     "output_type": "display_data"
    },
    {
     "name": "stdout",
     "output_type": "stream",
     "text": [
      "\n",
      "\n",
      "Epoch     5\n",
      "Train_cost  = 0.6690 | Test_cost  = 0.6685 | Train_score = 0.6133 | Test_score = 0.6105 |\n",
      "\u001b[31m==> EarlyStop patience =  4 | Best test_score: 0.6105\u001b[0m\n"
     ]
    },
    {
     "data": {
      "application/vnd.jupyter.widget-view+json": {
       "model_id": "8dc55a87c95144ecaa926c4d8026dbdf",
       "version_major": 2,
       "version_minor": 0
      },
      "text/plain": [
       "HBox(children=(FloatProgress(value=0.0, description='Train', max=39.0, style=ProgressStyle(description_width='…"
      ]
     },
     "metadata": {},
     "output_type": "display_data"
    },
    {
     "name": "stdout",
     "output_type": "stream",
     "text": [
      "\n"
     ]
    },
    {
     "data": {
      "application/vnd.jupyter.widget-view+json": {
       "model_id": "c76d8d1b9e8c46449f89dcedfcac0cb1",
       "version_major": 2,
       "version_minor": 0
      },
      "text/plain": [
       "HBox(children=(FloatProgress(value=0.0, description='Test', max=13.0, style=ProgressStyle(description_width='i…"
      ]
     },
     "metadata": {},
     "output_type": "display_data"
    },
    {
     "name": "stdout",
     "output_type": "stream",
     "text": [
      "\n",
      "\n",
      "Epoch     6\n",
      "Train_cost  = 0.6723 | Test_cost  = 0.6687 | Train_score = 0.6084 | Test_score = 0.6105 |\n",
      "\u001b[31m==> EarlyStop patience =  5 | Best test_score: 0.6105\u001b[0m\n"
     ]
    },
    {
     "data": {
      "application/vnd.jupyter.widget-view+json": {
       "model_id": "4d0b5ca3957b464a81f0f6313cd16ed4",
       "version_major": 2,
       "version_minor": 0
      },
      "text/plain": [
       "HBox(children=(FloatProgress(value=0.0, description='Train', max=39.0, style=ProgressStyle(description_width='…"
      ]
     },
     "metadata": {},
     "output_type": "display_data"
    },
    {
     "name": "stdout",
     "output_type": "stream",
     "text": [
      "\n"
     ]
    },
    {
     "data": {
      "application/vnd.jupyter.widget-view+json": {
       "model_id": "9a71cad8da2743c78adfcb7c60d4a000",
       "version_major": 2,
       "version_minor": 0
      },
      "text/plain": [
       "HBox(children=(FloatProgress(value=0.0, description='Test', max=13.0, style=ProgressStyle(description_width='i…"
      ]
     },
     "metadata": {},
     "output_type": "display_data"
    },
    {
     "name": "stdout",
     "output_type": "stream",
     "text": [
      "\n",
      "\n",
      "Epoch     7\n",
      "Train_cost  = 0.6722 | Test_cost  = 0.6685 | Train_score = 0.6100 | Test_score = 0.6105 |\n",
      "\u001b[31m==> EarlyStop patience =  6 | Best test_score: 0.6105\u001b[0m\n"
     ]
    },
    {
     "data": {
      "application/vnd.jupyter.widget-view+json": {
       "model_id": "b8a73cc023ed4017b44e22b1564b5452",
       "version_major": 2,
       "version_minor": 0
      },
      "text/plain": [
       "HBox(children=(FloatProgress(value=0.0, description='Train', max=39.0, style=ProgressStyle(description_width='…"
      ]
     },
     "metadata": {},
     "output_type": "display_data"
    },
    {
     "name": "stdout",
     "output_type": "stream",
     "text": [
      "\n"
     ]
    },
    {
     "data": {
      "application/vnd.jupyter.widget-view+json": {
       "model_id": "a211c49dca3a42c08dfd88777c5cdc6f",
       "version_major": 2,
       "version_minor": 0
      },
      "text/plain": [
       "HBox(children=(FloatProgress(value=0.0, description='Test', max=13.0, style=ProgressStyle(description_width='i…"
      ]
     },
     "metadata": {},
     "output_type": "display_data"
    },
    {
     "name": "stdout",
     "output_type": "stream",
     "text": [
      "\n",
      "\n",
      "Epoch     8\n",
      "Train_cost  = 0.6728 | Test_cost  = 0.6688 | Train_score = 0.6100 | Test_score = 0.6105 |\n",
      "\u001b[31m==> EarlyStop patience =  7 | Best test_score: 0.6105\u001b[0m\n"
     ]
    },
    {
     "data": {
      "application/vnd.jupyter.widget-view+json": {
       "model_id": "284e3db2d7e84ff58d6df2737033bfff",
       "version_major": 2,
       "version_minor": 0
      },
      "text/plain": [
       "HBox(children=(FloatProgress(value=0.0, description='Train', max=39.0, style=ProgressStyle(description_width='…"
      ]
     },
     "metadata": {},
     "output_type": "display_data"
    },
    {
     "name": "stdout",
     "output_type": "stream",
     "text": [
      "\n"
     ]
    },
    {
     "data": {
      "application/vnd.jupyter.widget-view+json": {
       "model_id": "3f5080dea7224b04b22e12f461125cbd",
       "version_major": 2,
       "version_minor": 0
      },
      "text/plain": [
       "HBox(children=(FloatProgress(value=0.0, description='Test', max=13.0, style=ProgressStyle(description_width='i…"
      ]
     },
     "metadata": {},
     "output_type": "display_data"
    },
    {
     "name": "stdout",
     "output_type": "stream",
     "text": [
      "\n",
      "\n",
      "Epoch     9\n",
      "Train_cost  = 0.6697 | Test_cost  = 0.6684 | Train_score = 0.6100 | Test_score = 0.6105 |\n",
      "\u001b[31m==> EarlyStop patience =  8 | Best test_score: 0.6105\u001b[0m\n"
     ]
    },
    {
     "data": {
      "application/vnd.jupyter.widget-view+json": {
       "model_id": "9eb0cbf299204c6bb942d27fc3ea369d",
       "version_major": 2,
       "version_minor": 0
      },
      "text/plain": [
       "HBox(children=(FloatProgress(value=0.0, description='Train', max=39.0, style=ProgressStyle(description_width='…"
      ]
     },
     "metadata": {},
     "output_type": "display_data"
    },
    {
     "name": "stdout",
     "output_type": "stream",
     "text": [
      "\n"
     ]
    },
    {
     "data": {
      "application/vnd.jupyter.widget-view+json": {
       "model_id": "94ededd4edaa45b8967cc7b0b20f2391",
       "version_major": 2,
       "version_minor": 0
      },
      "text/plain": [
       "HBox(children=(FloatProgress(value=0.0, description='Test', max=13.0, style=ProgressStyle(description_width='i…"
      ]
     },
     "metadata": {},
     "output_type": "display_data"
    },
    {
     "name": "stdout",
     "output_type": "stream",
     "text": [
      "\n",
      "\n",
      "Epoch    10\n",
      "Train_cost  = 0.6695 | Test_cost  = 0.6686 | Train_score = 0.6100 | Test_score = 0.6105 |\n",
      "\u001b[31m==> EarlyStop patience =  9 | Best test_score: 0.6105\u001b[0m\n"
     ]
    },
    {
     "data": {
      "application/vnd.jupyter.widget-view+json": {
       "model_id": "3a8f2a5ec7714f57a22e62b5646c0cea",
       "version_major": 2,
       "version_minor": 0
      },
      "text/plain": [
       "HBox(children=(FloatProgress(value=0.0, description='Train', max=39.0, style=ProgressStyle(description_width='…"
      ]
     },
     "metadata": {},
     "output_type": "display_data"
    },
    {
     "name": "stdout",
     "output_type": "stream",
     "text": [
      "\n"
     ]
    },
    {
     "data": {
      "application/vnd.jupyter.widget-view+json": {
       "model_id": "ecc015a540d24cd09b27ebe3ef7ad52f",
       "version_major": 2,
       "version_minor": 0
      },
      "text/plain": [
       "HBox(children=(FloatProgress(value=0.0, description='Test', max=13.0, style=ProgressStyle(description_width='i…"
      ]
     },
     "metadata": {},
     "output_type": "display_data"
    },
    {
     "name": "stdout",
     "output_type": "stream",
     "text": [
      "\n",
      "\n",
      "Epoch    11\n",
      "Train_cost  = 0.6709 | Test_cost  = 0.6685 | Train_score = 0.6100 | Test_score = 0.6105 |\n",
      "\u001b[31m==> EarlyStop patience = 10 | Best test_score: 0.6105\u001b[0m\n",
      "\u001b[31m==> Execute Early Stopping at epoch: 11 | Best test_score: 0.6105\u001b[0m\n",
      "\u001b[31m==> Best model is saved at model\u001b[0m\n"
     ]
    },
    {
     "data": {
      "image/png": "[encoded data removed]",
      "text/plain": [
       "<Figure size 576x360 with 1 Axes>"
      ]
     },
     "metadata": {
      "needs_background": "light"
     },
     "output_type": "display_data"
    },
    {
     "data": {
      "image/png": "[encoded data removed]",
      "text/plain": [
       "<Figure size 576x360 with 1 Axes>"
      ]
     },
     "metadata": {
      "needs_background": "light"
     },
     "output_type": "display_data"
    }
   ],
   "source": [
    "while True:\n",
    "    train_cost, train_score = loop_fn(\"train\", train_set, trainloader, model, citerion, optimizer, device)\n",
    "    with torch.no_grad():\n",
    "        test_cost, test_score = loop_fn(\"test\", test_set, testloader, model, citerion, optimizer, device)\n",
    "        \n",
    "    callback.log(train_cost, test_cost, train_score, test_score)\n",
    "    callback.save_checkpoint()\n",
    "    callback.cost_runtime_plotting()\n",
    "    callback.score_runtime_plotting()\n",
    "    \n",
    "    if callback.early_stopping(model, monitor=\"test_score\"):\n",
    "        callback.plot_cost()\n",
    "        callback.plot_score()\n",
    "        break"
   ]
  },
  {
   "cell_type": "markdown",
   "id": "e77020f9",
   "metadata": {},
   "source": [
    "# Load Model"
   ]
  },
  {
   "cell_type": "code",
   "execution_count": null,
   "id": "69b6179e",
   "metadata": {},
   "outputs": [],
   "source": [
    "weights=torch.load(\"your directory/weights_best.pth\", map_location=\"cpu\")\n",
    "config=torch.load(\"your directory/configs.pth\", map_location=\"cpu\")\n",
    "\n",
    "model=CustomClassifier(config.input_size, config.n1, config.n2, config.output_size, config.dropout)\n",
    "model.load_state_dict(weights)\n",
    "model=model.to(device)"
   ]
  },
  {
   "cell_type": "markdown",
   "id": "fd1eaa10",
   "metadata": {},
   "source": [
    "# Predict"
   ]
  },
  {
   "cell_type": "code",
   "execution_count": null,
   "id": "351456f1",
   "metadata": {},
   "outputs": [],
   "source": [
    "feature, target = next(iter(testloader))\n",
    "feature, target = feature.to(device), target.to(device)\n",
    "\n",
    "label2cat=train_set.classes\n",
    "\n",
    "with torch.no_grad():\n",
    "    model.eval()\n",
    "    output = model(feature)\n",
    "    predictions = output.argmax(1)\n",
    "[label2cat[prediction] for prediction in predictions]"
   ]
  },
  {
   "cell_type": "markdown",
   "id": "c26cd544",
   "metadata": {},
   "source": [
    "# Visualisasi Predictions ( image dataset ) "
   ]
  },
  {
   "cell_type": "code",
   "execution_count": null,
   "id": "3c718c5a",
   "metadata": {},
   "outputs": [],
   "source": [
    "fig, axes = plt.subplots(5, 5, figsize=(25, 25))\n",
    "for img, label, prediction, ax in zip(feature, target, predictions, axes.flatten()):\n",
    "    ax.imshow(img.view(28, 28).cpu(), cmap='')\n",
    "    font= {'color' : 'r'} if label != pred else {'color' : 'g'}\n",
    "    label, prediction = label2cat[label.item()], label2cat[pred.item()]\n",
    "    ax.set_title(f\" Label: {label} | Pred: {prediction}\",fontdict = font);\n",
    "    ax.axis('off')''"
   ]
  },
  {
   "cell_type": "code",
   "execution_count": null,
   "id": "78f7e14f",
   "metadata": {},
   "outputs": [],
   "source": []
  },
  {
   "cell_type": "code",
   "execution_count": null,
   "id": "bbd85e5f",
   "metadata": {},
   "outputs": [],
   "source": []
  },
  {
   "cell_type": "code",
   "execution_count": null,
   "id": "364efc28",
   "metadata": {},
   "outputs": [],
   "source": []
  }
 ],
 "metadata": {
  "kernelspec": {
   "display_name": "Python 3",
   "language": "python",
   "name": "python3"
  },
  "language_info": {
   "codemirror_mode": {
    "name": "ipython",
    "version": 3
   },
   "file_extension": ".py",
   "mimetype": "text/x-python",
   "name": "python",
   "nbconvert_exporter": "python",
   "pygments_lexer": "ipython3",
   "version": "3.7.6"
  },
  "varInspector": {
   "cols": {
    "lenName": 16,
    "lenType": 16,
    "lenVar": 40
   },
   "kernels_config": {
    "python": {
     "delete_cmd_postfix": "",
     "delete_cmd_prefix": "del ",
     "library": "var_list.py",
     "varRefreshCmd": "print(var_dic_list())"
    },
    "r": {
     "delete_cmd_postfix": ") ",
     "delete_cmd_prefix": "rm(",
     "library": "var_list.r",
     "varRefreshCmd": "cat(var_dic_list()) "
    }
   },
   "types_to_exclude": [
    "module",
    "function",
    "builtin_function_or_method",
    "instance",
    "_Feature"
   ],
   "window_display": false
  }
 },
 "nbformat": 4,
 "nbformat_minor": 5
}
