{
 "cells": [
  {
   "cell_type": "code",
   "execution_count": 1,
   "id": "67461a3c",
   "metadata": {},
   "outputs": [],
   "source": [
    "from sklearn.model_selection import train_test_split,GridSearchCV\n",
    "from sklearn.pipeline import Pipeline\n",
    "from sklearn.impute import SimpleImputer\n",
    "from sklearn.compose import ColumnTransformer\n",
    "from sklearn.preprocessing import StandardScaler, MinMaxScaler,OneHotEncoder\n",
    "from sklearn.metrics import classification_report\n",
    "from sklearn import metrics\n",
    "\n",
    "from sklearn.neighbors import KNeighborsClassifier\n",
    "from sklearn.tree import DecisionTreeClassifier\n",
    "from sklearn.ensemble import RandomForestClassifier\n",
    "from sklearn.svm import SVC\n",
    "\n",
    "import pandas as pd\n",
    "import matplotlib.pyplot as plt\n",
    "import seaborn as sns\n",
    "\n",
    "import pickle\n",
    "\n",
    "from flask import Flask, request\n",
    "from flask_restful import Resource, Api\n",
    "from flask_cors import CORS"
   ]
  },
  {
   "cell_type": "code",
   "execution_count": 2,
   "id": "2c0a4be7",
   "metadata": {},
   "outputs": [
    {
     "data": {
      "text/plain": [
       "<flask_cors.extension.CORS at 0x1f2116773c8>"
      ]
     },
     "execution_count": 2,
     "metadata": {},
     "output_type": "execute_result"
    }
   ],
   "source": [
    "app = Flask(__name__)\n",
    "api = Api(app)\n",
    "CORS(app)"
   ]
  },
  {
   "cell_type": "code",
   "execution_count": 3,
   "id": "16ff4079",
   "metadata": {},
   "outputs": [],
   "source": [
    "df=pd.read_csv(\"water_potability.csv\")\n",
    "\n",
    "X=df.drop(['Potability'],axis=1)\n",
    "y=df.filter(['Potability'])\n",
    "\n",
    "X_train,X_test,y_train,y_test=train_test_split(X,y,test_size=0.2,random_state=42)\n",
    "X_train,X_val,y_train,y_val=train_test_split(X_train,y_train,test_size=0.25,random_state=42)\n",
    "\n",
    "def UbahAngka(nama, preddata, ujian):\n",
    "    kelompok = {}\n",
    "    for i in preddata:\n",
    "        if i == 1:\n",
    "            kelompok['nama'] = nama\n",
    "            kelompok['hasil'] = 'layak minum'\n",
    "            kelompok['akurasi'] = ujian\n",
    "        elif i == 0:\n",
    "            kelompok['nama'] = nama\n",
    "            kelompok['hasil'] = 'tidak layak minum'\n",
    "            kelompok['akurasi'] = ujian\n",
    "\n",
    "        return kelompok"
   ]
  },
  {
   "cell_type": "code",
   "execution_count": 4,
   "id": "fcaac801",
   "metadata": {},
   "outputs": [],
   "source": [
    "df=pd.read_csv(\"water_potability.csv\")\n",
    "\n",
    "X=df.drop(['Potability'],axis=1)\n",
    "y=df.filter(['Potability'])\n",
    "\n",
    "X_train,X_test,y_train,y_test=train_test_split(X,y,test_size=0.2,random_state=42)\n",
    "X_train,X_val,y_train,y_val=train_test_split(X_train,y_train,test_size=0.25,random_state=42)\n",
    "\n",
    "def UbahAngka(nama, preddata, ujian):\n",
    "    try:\n",
    "        kelompok = {}\n",
    "        for i in range(0, 9):\n",
    "            if i == 0:\n",
    "                kelompok['nama'] = nama\n",
    "                kelompok['hasil'] = 'tidak layak minum'\n",
    "                kelompok['akurasi'] = ujian\n",
    "            elif i == 1:\n",
    "                kelompok['nama'] = nama\n",
    "                kelompok['hasil'] = 'layak minum'\n",
    "                kelompok['akurasi'] = ujian\n",
    "            \n",
    "        return kelompok\n",
    "    except eror:\n",
    "        return eror\n",
    "\n",
    "\n",
    "class GetHasil(Resource):    \n",
    "    def post(self):\n",
    "        model = request.args['model']\n",
    "        nama = request.args['nama']\n",
    "        ph = request.args['ph']\n",
    "        hardness = request.args['hardness']\n",
    "        solids = request.args['solids']\n",
    "        chloramines = request.args['chloramines']\n",
    "        sulfate = request.args['sulfate']\n",
    "        conductivity = request.args['conductivity']\n",
    "        organic_carbon = request.args['organic_carbon']\n",
    "        trihalomethanes = request.args['trihalomethanes']\n",
    "        turbidity = request.args['turbidity']\n",
    "\n",
    "        data = [\n",
    "            [8.62830107406666,185.9267231,31548.00646,7.079462297,333.6395113,342.3556975,18.24836789,62.18868705,5.100857854], #harusnya 0\n",
    "            [9.808258179, 220.0495744, 34132.06798, 9.752750872, 233.8703275, 367.0443791, 13.49866451, 62.95426002, 4.48126124] #harusnya 1\n",
    "        ]\n",
    "        data_test = pd.DataFrame(data,columns = X.columns)\n",
    "        \n",
    "#         data = [\n",
    "#             [ph, hardness, solids, chloramines, sulfate, conductivity, organic_carbon, trihalomethanes, turbidity]\n",
    "#         ]\n",
    "        \n",
    "#         data_test = pd.DataFrame(data,columns = X.columns)\n",
    "        \n",
    "        response = {}\n",
    "        \n",
    "        if model == 'RF':\n",
    "            filenameRF = 'model/model_RF.sav'\n",
    "            modelRF = pickle.load(open(filenameRF, 'rb'))\n",
    "            ujian_akurasiRF=modelRF.score(X_test,y_test)\n",
    "            preddataRF = modelRF.predict(data_test)\n",
    "            response = UbahAngka(nama , preddataRF , ujian_akurasiRF)\n",
    "            \n",
    "        elif model == 'DT':\n",
    "            filenameDT = 'model/model_DT.sav'\n",
    "            modelDT = pickle.load(open(filenameDT, 'rb'))\n",
    "            ujian_akurasiDT=modelDT.score(X_test,y_test)\n",
    "            preddataDT = modelDT.predict(data_test)\n",
    "            response = UbahAngka(nama , preddataDT , ujian_akurasiDT)\n",
    "            \n",
    "        elif model == 'KNN':\n",
    "            filenameKNN = 'model/model_KNN.sav'\n",
    "            modelKNN = pickle.load(open(filenameKNN, 'rb'))\n",
    "            ujian_akurasiKNN=modelKNN.score(X_test,y_test)\n",
    "            preddataKNN = modelKNN.predict(data_test)\n",
    "            response = UbahAngka(nama , preddataKNN , ujian_akurasiKNN)\n",
    "            \n",
    "        elif model == 'RF_2':\n",
    "            filenameRF_2 = 'model/model_RF2.sav'\n",
    "            modelRF_2 = pickle.load(open(filenameRF_2, 'rb'))\n",
    "            ujian_akurasiRF2=modelRF_2.score(X_test,y_test)\n",
    "            preddataRF_2 = modelRF_2.predict(data_test)\n",
    "            response = UbahAngka(nama , preddataRF_2 , ujian_akurasiRF2)\n",
    "            \n",
    "        elif model == 'DT_2':\n",
    "            filenameDT_2 = 'model/model_DT2.sav'\n",
    "            modelDT_2 = pickle.load(open(filenameDT_2, 'rb'))\n",
    "            ujian_akurasiDT2=modelDT_2.score(X_test,y_test)\n",
    "            preddataDT_2 = modelDT_2.predict(data_test)\n",
    "            response = UbahAngka(nama , preddataDT_2 , ujian_akurasiDT2)\n",
    "        \n",
    "        elif model == 'KNN_2':\n",
    "            filenameKNN_2 = 'model/model_KNN2.sav'\n",
    "            modelKNN_2 = pickle.load(open(filenameKNN_2, 'rb'))\n",
    "            ujian_akurasiKNN2=modelKNN_2.score(X_test,y_test)\n",
    "            preddataKNN_2 = modelKNN_2.predict(data_test)\n",
    "            response = UbahAngka(nama , preddataKNN_2 , ujian_akurasiKNN2)\n",
    "        \n",
    "        elif model == 'RF_3':\n",
    "            filenameRF_3 = 'model/model_RF3.sav'\n",
    "            modelRF_3 = pickle.load(open(filenameRF_3, 'rb'))\n",
    "            ujian_akurasiRF3=modelRF_3.score(X_test,y_test)\n",
    "            preddataRF_3 = modelRF_3.predict(data_test)\n",
    "            response = UbahAngka(nama , preddataRF_3 , ujian_akurasiRF3)\n",
    "        \n",
    "        elif model == 'DT_3':\n",
    "            filenameDT_3 = 'model/model_DT3.sav'\n",
    "            modelDT_3 = pickle.load(open(filenameDT_3, 'rb'))\n",
    "            ujian_akurasiDT3=modelDT_3.score(X_test,y_test)\n",
    "            preddataDT_3 = modelDT_3.predict(data_test)\n",
    "            response = UbahAngka(nama , preddataDT_3 , ujian_akurasiDT3)\n",
    "        \n",
    "        elif model == 'KNN_3':\n",
    "            filenameKNN_3 = 'model/model_KNN3.sav'\n",
    "            modelKNN_3 = pickle.load(open(filenameKNN_3, 'rb'))\n",
    "            ujian_akurasiKNN3=modelKNN_3.score(X_test,y_test)\n",
    "            preddataKNN_3 = modelKNN_3.predict(data_test)\n",
    "            response = UbahAngka(nama , preddataKNN_3 , ujian_akurasiKNN3)\n",
    "        \n",
    "        return response"
   ]
  },
  {
   "cell_type": "code",
   "execution_count": 5,
   "id": "ac615d04",
   "metadata": {},
   "outputs": [],
   "source": [
    "# filenameRF = 'model/model_RF.sav'\n",
    "# modelRF = pickle.load(open(filenameRF, 'rb'))\n",
    "# ujian_akurasiRF=modelRF.score(X_test,y_test)\n",
    "# data = [\n",
    "#     [8.62830107406666,185.9267231,31548.00646,7.079462297,333.6395113,342.3556975,18.24836789,62.18868705,5.100857854], #harusnya 0\n",
    "#     [9.808258179, 220.0495744, 34132.06798, 9.752750872, 233.8703275, 367.0443791, 13.49866451, 62.95426002, 4.48126124] #harusnya 1\n",
    "# ]\n",
    "# data_test = pd.DataFrame(data,columns = X.columns)\n",
    "# ambilangka = []\n",
    "# nama =\"a\"\n",
    "\n",
    "# for x in range(0,10):\n",
    "#     preddataRF = modelRF.predict(data_test)\n",
    "#     ambilangka = UbahAngka(nama , preddataRF , ujian_akurasiRF)\n",
    "# response=ambilangka\n",
    "# response "
   ]
  },
  {
   "cell_type": "code",
   "execution_count": 6,
   "id": "63210d31",
   "metadata": {},
   "outputs": [],
   "source": [
    "api.add_resource(GetHasil, \"/post\", methods = ['post'])"
   ]
  },
  {
   "cell_type": "code",
   "execution_count": null,
   "id": "db25423b",
   "metadata": {},
   "outputs": [
    {
     "name": "stderr",
     "output_type": "stream",
     "text": [
      " * Running on http://localhost:9000/ (Press CTRL+C to quit)\n",
      "D:\\anaconda\\envs\\jcopdl\\lib\\site-packages\\sklearn\\base.py:318: UserWarning: Trying to unpickle estimator SimpleImputer from version 0.23.2 when using version 0.22. This might lead to breaking code or invalid results. Use at your own risk.\n",
      "  UserWarning)\n",
      "D:\\anaconda\\envs\\jcopdl\\lib\\site-packages\\sklearn\\base.py:318: UserWarning: Trying to unpickle estimator StandardScaler from version 0.23.2 when using version 0.22. This might lead to breaking code or invalid results. Use at your own risk.\n",
      "  UserWarning)\n",
      "D:\\anaconda\\envs\\jcopdl\\lib\\site-packages\\sklearn\\base.py:318: UserWarning: Trying to unpickle estimator Pipeline from version 0.23.2 when using version 0.22. This might lead to breaking code or invalid results. Use at your own risk.\n",
      "  UserWarning)\n",
      "D:\\anaconda\\envs\\jcopdl\\lib\\site-packages\\sklearn\\base.py:318: UserWarning: Trying to unpickle estimator ColumnTransformer from version 0.23.2 when using version 0.22. This might lead to breaking code or invalid results. Use at your own risk.\n",
      "  UserWarning)\n",
      "D:\\anaconda\\envs\\jcopdl\\lib\\site-packages\\sklearn\\base.py:318: UserWarning: Trying to unpickle estimator DecisionTreeClassifier from version 0.23.2 when using version 0.22. This might lead to breaking code or invalid results. Use at your own risk.\n",
      "  UserWarning)\n",
      "D:\\anaconda\\envs\\jcopdl\\lib\\site-packages\\sklearn\\base.py:318: UserWarning: Trying to unpickle estimator RandomForestClassifier from version 0.23.2 when using version 0.22. This might lead to breaking code or invalid results. Use at your own risk.\n",
      "  UserWarning)\n",
      "D:\\anaconda\\envs\\jcopdl\\lib\\site-packages\\sklearn\\base.py:318: UserWarning: Trying to unpickle estimator GridSearchCV from version 0.23.2 when using version 0.22. This might lead to breaking code or invalid results. Use at your own risk.\n",
      "  UserWarning)\n",
      "127.0.0.1 - - [21/Aug/2021 17:52:42] \"\u001b[37mPOST /post?model=RF&nama=Data%202&ph=9.808258179&hardness=220.0495744&solids=34132.06798&chloramines=9.752750872&sulfate=233.8703275&conductivity=367.0443791&organic_carbon=13.49866451&trihalomethanes=62.95426002&turbidity=4.48126124 HTTP/1.1\u001b[0m\" 200 -\n"
     ]
    }
   ],
   "source": [
    "if __name__ == \"__main__\":\n",
    "    from werkzeug.serving import run_simple\n",
    "    run_simple('localhost', 9000, app)"
   ]
  }
 ],
 "metadata": {
  "kernelspec": {
   "display_name": "Python 3",
   "language": "python",
   "name": "python3"
  },
  "language_info": {
   "codemirror_mode": {
    "name": "ipython",
    "version": 3
   },
   "file_extension": ".py",
   "mimetype": "text/x-python",
   "name": "python",
   "nbconvert_exporter": "python",
   "pygments_lexer": "ipython3",
   "version": "3.7.6"
  },
  "varInspector": {
   "cols": {
    "lenName": 16,
    "lenType": 16,
    "lenVar": 40
   },
   "kernels_config": {
    "python": {
     "delete_cmd_postfix": "",
     "delete_cmd_prefix": "del ",
     "library": "var_list.py",
     "varRefreshCmd": "print(var_dic_list())"
    },
    "r": {
     "delete_cmd_postfix": ") ",
     "delete_cmd_prefix": "rm(",
     "library": "var_list.r",
     "varRefreshCmd": "cat(var_dic_list()) "
    }
   },
   "types_to_exclude": [
    "module",
    "function",
    "builtin_function_or_method",
    "instance",
    "_Feature"
   ],
   "window_display": false
  }
 },
 "nbformat": 4,
 "nbformat_minor": 5
}
