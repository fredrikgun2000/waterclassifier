{
 "cells": [
  {
   "cell_type": "code",
   "execution_count": 2,
   "metadata": {},
   "outputs": [],
   "source": [
    "from sklearn.model_selection import train_test_split,GridSearchCV\n",
    "from sklearn.pipeline import Pipeline\n",
    "from sklearn.impute import SimpleImputer\n",
    "from sklearn.compose import ColumnTransformer\n",
    "from sklearn.preprocessing import StandardScaler, MinMaxScaler,OneHotEncoder\n",
    "from sklearn.metrics import classification_report\n",
    "from sklearn import metrics\n",
    "\n",
    "from sklearn.neighbors import KNeighborsClassifier\n",
    "from sklearn.tree import DecisionTreeClassifier\n",
    "from sklearn.ensemble import RandomForestClassifier\n",
    "from sklearn.svm import SVC\n",
    "\n",
    "import pandas as pd\n",
    "import matplotlib.pyplot as plt\n",
    "import seaborn as sns\n",
    "\n",
    "from sklearn.utils import shuffle\n",
    "import pickle"
   ]
  },
  {
   "cell_type": "markdown",
   "metadata": {},
   "source": [
    "## SIMPLE Model"
   ]
  },
  {
   "cell_type": "code",
   "execution_count": 2,
   "metadata": {},
   "outputs": [],
   "source": [
    "df=pd.read_csv(\"water_potability.csv\")"
   ]
  },
  {
   "cell_type": "code",
   "execution_count": 3,
   "metadata": {},
   "outputs": [],
   "source": [
    "X=df.drop(['Potability'],axis=1)\n",
    "y=df.filter(['Potability'])\n",
    "\n",
    "X_train,X_test,y_train,y_test=train_test_split(X,y,test_size=0.2,random_state=42)\n",
    "X_train,X_val,y_train,y_val=train_test_split(X_train,y_train,test_size=0.25,random_state=42)"
   ]
  },
  {
   "cell_type": "code",
   "execution_count": 4,
   "metadata": {},
   "outputs": [],
   "source": [
    "numeric_pipa=Pipeline([\n",
    "        (\"imputer\",SimpleImputer(strategy=\"median\")),\n",
    "        (\"scaler\",StandardScaler())\n",
    "    ])\n",
    "\n",
    "preposecor=ColumnTransformer([\n",
    "        (\"numeric\",numeric_pipa,['ph','Hardness','Sulfate','Conductivity','Chloramines','Solids','Organic_carbon','Trihalomethanes','Turbidity']),\n",
    "    ])\n",
    "\n"
   ]
  },
  {
   "cell_type": "code",
   "execution_count": 5,
   "metadata": {},
   "outputs": [],
   "source": [
    "# random forest\n",
    "pipaRF=Pipeline([\n",
    "        (\"prep\",preposecor),\n",
    "        (\"rf\",RandomForestClassifier())\n",
    "    ])\n",
    "\n",
    "parameterRF={\n",
    "        \"rf__n_estimators\" : [500],\n",
    "        \"rf__min_samples_leaf\":[2],\n",
    "        \"rf__max_depth\":range(1,50),\n",
    "        \"rf__criterion\":[\"gini\",\"entropy\"],\n",
    "        \"rf__max_features\":[\"auto\",\"sqrt\",\"log2\"],\n",
    "    }\n",
    "\n",
    "# Decision tree\n",
    "pipaDT=Pipeline([\n",
    "        (\"prep\",preposecor),\n",
    "        (\"dt\",DecisionTreeClassifier())\n",
    "    ])\n",
    "\n",
    "parameterDT={\n",
    "        \"dt__min_samples_leaf\":[2],\n",
    "        \"dt__max_depth\":range(1,50),\n",
    "        \"dt__criterion\":[\"gini\",\"entropy\"],\n",
    "    }\n",
    "\n",
    "# KNN\n",
    "pipaKNN=Pipeline([\n",
    "        (\"prep\",preposecor),\n",
    "        (\"knn\",KNeighborsClassifier())\n",
    "    ])\n",
    "\n",
    "parameterKNN={\n",
    "        \"knn__n_neighbors\" : range(1,50),\n",
    "        \"knn__algorithm\" : ['auto', 'ball_tree', 'kd_tree', 'brute'],\n",
    "        \"knn__p\" : range(1,50),\n",
    "    }\n",
    "\n",
    "# SVC\n",
    "pipaSVC=Pipeline([\n",
    "        (\"prep\",preposecor),\n",
    "        (\"svc\",SVC())\n",
    "    ])\n",
    "\n",
    "parameterSVC={\n",
    "        \"svc__kernel\" : ['linear', 'poly', 'rbf', 'sigmoid', 'precomputed'],\n",
    "        \"svc__degree\" : range(1,50),\n",
    "    }\n"
   ]
  },
  {
   "cell_type": "code",
   "execution_count": 6,
   "metadata": {},
   "outputs": [
    {
     "name": "stdout",
     "output_type": "stream",
     "text": [
      "Fitting 5 folds for each of 294 candidates, totalling 1470 fits\n"
     ]
    },
    {
     "name": "stderr",
     "output_type": "stream",
     "text": [
      "[Parallel(n_jobs=-1)]: Using backend LokyBackend with 8 concurrent workers.\n",
      "[Parallel(n_jobs=-1)]: Done  34 tasks      | elapsed:   17.6s\n",
      "[Parallel(n_jobs=-1)]: Done 184 tasks      | elapsed:  1.9min\n",
      "[Parallel(n_jobs=-1)]: Done 434 tasks      | elapsed:  5.5min\n",
      "[Parallel(n_jobs=-1)]: Done 784 tasks      | elapsed: 10.0min\n",
      "[Parallel(n_jobs=-1)]: Done 1234 tasks      | elapsed: 19.1min\n",
      "[Parallel(n_jobs=-1)]: Done 1470 out of 1470 | elapsed: 24.5min finished\n"
     ]
    }
   ],
   "source": [
    "# simple model Random Forest\n",
    "modelRF = GridSearchCV(pipaRF,parameterRF,cv=5,n_jobs=-1,verbose=1)\n",
    "modelRF.fit(X_train,y_train.values.ravel())\n",
    "\n",
    "tuning_terbaikRF=modelRF.best_params_\n",
    "\n",
    "latihan_akurasiRF=modelRF.score(X_train,y_train)\n",
    "ujian_akurasiRF=modelRF.score(X_test,y_test)\n",
    "predRF=modelRF.predict(X_test)\n",
    "reportRF = classification_report(y_test,predRF)\n"
   ]
  },
  {
   "cell_type": "code",
   "execution_count": 8,
   "metadata": {},
   "outputs": [],
   "source": [
    "filename = 'model/model_RF.sav'\n",
    "pickle.dump(modelRF, open(filename, 'wb'))"
   ]
  },
  {
   "cell_type": "code",
   "execution_count": 9,
   "metadata": {
    "scrolled": true
   },
   "outputs": [
    {
     "name": "stdout",
     "output_type": "stream",
     "text": [
      "Fitting 5 folds for each of 98 candidates, totalling 490 fits\n"
     ]
    },
    {
     "name": "stderr",
     "output_type": "stream",
     "text": [
      "[Parallel(n_jobs=-1)]: Using backend LokyBackend with 8 concurrent workers.\n",
      "[Parallel(n_jobs=-1)]: Done  34 tasks      | elapsed:    3.1s\n",
      "[Parallel(n_jobs=-1)]: Done 475 out of 490 | elapsed:    6.0s remaining:    0.1s\n",
      "[Parallel(n_jobs=-1)]: Done 490 out of 490 | elapsed:    6.1s finished\n"
     ]
    }
   ],
   "source": [
    "# simple model Decision Tree\n",
    "modelDT = GridSearchCV(pipaDT,parameterDT,cv=5,n_jobs=-1,verbose=1)\n",
    "modelDT.fit(X_train,y_train.values.ravel())\n",
    "\n",
    "tuning_terbaikDT=modelDT.best_params_\n",
    "\n",
    "latihan_akurasiDT=modelDT.score(X_train,y_train)\n",
    "ujian_akurasiDT=modelDT.score(X_test,y_test)\n",
    "predDT=modelDT.predict(X_test)\n",
    "reportDT = classification_report(y_test,predDT)"
   ]
  },
  {
   "cell_type": "code",
   "execution_count": 10,
   "metadata": {},
   "outputs": [],
   "source": [
    "filename = 'model/model_DT.sav'\n",
    "pickle.dump(modelDT, open(filename, 'wb'))"
   ]
  },
  {
   "cell_type": "code",
   "execution_count": 11,
   "metadata": {},
   "outputs": [
    {
     "name": "stdout",
     "output_type": "stream",
     "text": [
      "Fitting 5 folds for each of 9604 candidates, totalling 48020 fits\n"
     ]
    },
    {
     "name": "stderr",
     "output_type": "stream",
     "text": [
      "[Parallel(n_jobs=-1)]: Using backend LokyBackend with 8 concurrent workers.\n",
      "[Parallel(n_jobs=-1)]: Done  52 tasks      | elapsed:    1.2s\n",
      "[Parallel(n_jobs=-1)]: Done 352 tasks      | elapsed:    7.8s\n",
      "[Parallel(n_jobs=-1)]: Done 852 tasks      | elapsed:   21.3s\n",
      "[Parallel(n_jobs=-1)]: Done 1552 tasks      | elapsed:   43.6s\n",
      "[Parallel(n_jobs=-1)]: Done 2452 tasks      | elapsed:  1.2min\n",
      "[Parallel(n_jobs=-1)]: Done 3552 tasks      | elapsed:  2.0min\n",
      "[Parallel(n_jobs=-1)]: Done 4852 tasks      | elapsed:  2.9min\n",
      "[Parallel(n_jobs=-1)]: Done 6352 tasks      | elapsed:  3.9min\n",
      "[Parallel(n_jobs=-1)]: Done 8049 tasks      | elapsed:  5.3min\n",
      "[Parallel(n_jobs=-1)]: Done 9000 tasks      | elapsed:  6.5min\n",
      "[Parallel(n_jobs=-1)]: Done 10050 tasks      | elapsed:  7.6min\n",
      "[Parallel(n_jobs=-1)]: Done 11200 tasks      | elapsed:  8.8min\n",
      "[Parallel(n_jobs=-1)]: Done 12450 tasks      | elapsed: 10.2min\n",
      "[Parallel(n_jobs=-1)]: Done 13800 tasks      | elapsed: 11.8min\n",
      "[Parallel(n_jobs=-1)]: Done 15250 tasks      | elapsed: 13.8min\n",
      "[Parallel(n_jobs=-1)]: Done 16800 tasks      | elapsed: 16.0min\n",
      "[Parallel(n_jobs=-1)]: Done 18450 tasks      | elapsed: 18.6min\n",
      "[Parallel(n_jobs=-1)]: Done 20200 tasks      | elapsed: 21.1min\n",
      "[Parallel(n_jobs=-1)]: Done 22050 tasks      | elapsed: 23.5min\n",
      "[Parallel(n_jobs=-1)]: Done 24000 tasks      | elapsed: 26.2min\n",
      "[Parallel(n_jobs=-1)]: Done 26050 tasks      | elapsed: 27.6min\n",
      "[Parallel(n_jobs=-1)]: Done 28200 tasks      | elapsed: 29.4min\n",
      "[Parallel(n_jobs=-1)]: Done 30450 tasks      | elapsed: 31.5min\n",
      "[Parallel(n_jobs=-1)]: Done 32800 tasks      | elapsed: 33.9min\n",
      "[Parallel(n_jobs=-1)]: Done 35250 tasks      | elapsed: 36.8min\n",
      "[Parallel(n_jobs=-1)]: Done 37800 tasks      | elapsed: 40.4min\n",
      "[Parallel(n_jobs=-1)]: Done 40450 tasks      | elapsed: 44.8min\n",
      "[Parallel(n_jobs=-1)]: Done 43200 tasks      | elapsed: 49.3min\n",
      "[Parallel(n_jobs=-1)]: Done 46050 tasks      | elapsed: 54.0min\n",
      "[Parallel(n_jobs=-1)]: Done 48020 out of 48020 | elapsed: 57.0min finished\n"
     ]
    }
   ],
   "source": [
    "# simple model KNN\n",
    "modelKNN = GridSearchCV(pipaKNN,parameterKNN,cv=5,n_jobs=-1,verbose=1)\n",
    "modelKNN.fit(X_train,y_train.values.ravel())\n",
    "\n",
    "tuning_terbaikKNN=modelKNN.best_params_\n",
    "\n",
    "latihan_akurasiKNN=modelKNN.score(X_train,y_train)\n",
    "ujian_akurasiKNN=modelKNN.score(X_test,y_test)\n",
    "predKNN=modelKNN.predict(X_test)\n",
    "reportKNN = classification_report(y_test,predKNN)\n"
   ]
  },
  {
   "cell_type": "code",
   "execution_count": 12,
   "metadata": {},
   "outputs": [],
   "source": [
    "filename = 'model/model_KNN.sav'\n",
    "pickle.dump(modelKNN, open(filename, 'wb'))"
   ]
  },
  {
   "cell_type": "code",
   "execution_count": 13,
   "metadata": {},
   "outputs": [
    {
     "name": "stdout",
     "output_type": "stream",
     "text": [
      "\n",
      "Random Forest\n",
      "ini adalah tuning terbaik : {'rf__criterion': 'gini', 'rf__max_depth': 48, 'rf__max_features': 'auto', 'rf__min_samples_leaf': 2, 'rf__n_estimators': 500}\n",
      "ini adalah hasil testing 0.7145038167938931\n",
      "ini adalah hasil training 1.0\n",
      "              precision    recall  f1-score   support\n",
      "\n",
      "           0       0.74      0.88      0.80       429\n",
      "           1       0.63      0.41      0.50       226\n",
      "\n",
      "    accuracy                           0.71       655\n",
      "   macro avg       0.69      0.64      0.65       655\n",
      "weighted avg       0.70      0.71      0.70       655\n",
      "\n",
      "==============================================\n",
      "\n",
      "Decision Tree\n",
      "ini adalah tuning terbaik : {'dt__criterion': 'gini', 'dt__max_depth': 5, 'dt__min_samples_leaf': 2}\n",
      "ini adalah hasil testing 0.6778625954198473\n",
      "ini adalah hasil training 0.6653082017320427\n",
      "              precision    recall  f1-score   support\n",
      "\n",
      "           0       0.69      0.92      0.79       429\n",
      "           1       0.59      0.22      0.32       226\n",
      "\n",
      "    accuracy                           0.68       655\n",
      "   macro avg       0.64      0.57      0.56       655\n",
      "weighted avg       0.66      0.68      0.63       655\n",
      "\n",
      "==============================================\n",
      "\n",
      "KNN\n",
      "ini adalah tuning terbaik : {'knn__algorithm': 'auto', 'knn__n_neighbors': 45, 'knn__p': 4}\n",
      "ini adalah hasil testing 0.683969465648855\n",
      "ini adalah hasil training 0.6444218033622007\n",
      "              precision    recall  f1-score   support\n",
      "\n",
      "           0       0.69      0.94      0.80       429\n",
      "           1       0.64      0.19      0.30       226\n",
      "\n",
      "    accuracy                           0.68       655\n",
      "   macro avg       0.66      0.57      0.55       655\n",
      "weighted avg       0.67      0.68      0.62       655\n",
      "\n",
      "==============================================\n"
     ]
    }
   ],
   "source": [
    "print(\"\")\n",
    "print(\"Random Forest\")\n",
    "print('ini adalah tuning terbaik :', tuning_terbaikRF)\n",
    "print('ini adalah hasil testing',ujian_akurasiRF)\n",
    "print('ini adalah hasil training', latihan_akurasiRF)\n",
    "print(reportRF)\n",
    "print('==============================================')\n",
    "\n",
    "print(\"\")\n",
    "print(\"Decision Tree\")\n",
    "print('ini adalah tuning terbaik :', tuning_terbaikDT)\n",
    "print('ini adalah hasil testing',ujian_akurasiDT)\n",
    "print('ini adalah hasil training', latihan_akurasiDT)\n",
    "print(reportDT)\n",
    "print('==============================================')\n",
    "\n",
    "print(\"\")\n",
    "print(\"KNN\")\n",
    "print('ini adalah tuning terbaik :', tuning_terbaikKNN)\n",
    "print('ini adalah hasil testing',ujian_akurasiKNN)\n",
    "print('ini adalah hasil training', latihan_akurasiKNN)\n",
    "print(reportKNN)\n",
    "print('==============================================')"
   ]
  },
  {
   "cell_type": "code",
   "execution_count": 14,
   "metadata": {},
   "outputs": [],
   "source": [
    "outputs = pd.DataFrame ({ \"Models\": ['RandomForest', 'DecisionTree', 'KNNeighbours'], 'Accuracy' : [ujian_akurasiRF, ujian_akurasiDT, ujian_akurasiKNN] })\n",
    "\n"
   ]
  },
  {
   "cell_type": "code",
   "execution_count": 15,
   "metadata": {},
   "outputs": [
    {
     "data": {
      "text/html": [
       "<div>\n",
       "<style scoped>\n",
       "    .dataframe tbody tr th:only-of-type {\n",
       "        vertical-align: middle;\n",
       "    }\n",
       "\n",
       "    .dataframe tbody tr th {\n",
       "        vertical-align: top;\n",
       "    }\n",
       "\n",
       "    .dataframe thead th {\n",
       "        text-align: right;\n",
       "    }\n",
       "</style>\n",
       "<table border=\"1\" class=\"dataframe\">\n",
       "  <thead>\n",
       "    <tr style=\"text-align: right;\">\n",
       "      <th></th>\n",
       "      <th>Models</th>\n",
       "      <th>Accuracy</th>\n",
       "    </tr>\n",
       "  </thead>\n",
       "  <tbody>\n",
       "    <tr>\n",
       "      <th>0</th>\n",
       "      <td>RandomForest</td>\n",
       "      <td>0.714504</td>\n",
       "    </tr>\n",
       "    <tr>\n",
       "      <th>1</th>\n",
       "      <td>DecisionTree</td>\n",
       "      <td>0.677863</td>\n",
       "    </tr>\n",
       "    <tr>\n",
       "      <th>2</th>\n",
       "      <td>KNNeighbours</td>\n",
       "      <td>0.683969</td>\n",
       "    </tr>\n",
       "  </tbody>\n",
       "</table>\n",
       "</div>"
      ],
      "text/plain": [
       "         Models  Accuracy\n",
       "0  RandomForest  0.714504\n",
       "1  DecisionTree  0.677863\n",
       "2  KNNeighbours  0.683969"
      ]
     },
     "execution_count": 15,
     "metadata": {},
     "output_type": "execute_result"
    }
   ],
   "source": [
    "outputs.sort_values(by='Accuracy', ascending=False)\n",
    "outputs.head()"
   ]
  },
  {
   "cell_type": "code",
   "execution_count": 16,
   "metadata": {
    "scrolled": true
   },
   "outputs": [
    {
     "data": {
      "text/plain": [
       "<AxesSubplot:xlabel='Accuracy', ylabel='Models'>"
      ]
     },
     "execution_count": 16,
     "metadata": {},
     "output_type": "execute_result"
    },
    {
     "data": {
      "image/png": "[encoded data removed]",
      "text/plain": [
       "<Figure size 432x288 with 1 Axes>"
      ]
     },
     "metadata": {
      "needs_background": "light"
     },
     "output_type": "display_data"
    }
   ],
   "source": [
    "sns.barplot(x= 'Accuracy', y= 'Models', data= outputs)"
   ]
  },
  {
   "cell_type": "markdown",
   "metadata": {},
   "source": [
    "## 2_Model dengan dropna"
   ]
  },
  {
   "cell_type": "code",
   "execution_count": 17,
   "metadata": {},
   "outputs": [],
   "source": [
    "df=pd.read_csv(\"water_potability.csv\").dropna()"
   ]
  },
  {
   "cell_type": "code",
   "execution_count": 18,
   "metadata": {},
   "outputs": [
    {
     "data": {
      "text/plain": [
       "(2009, 10)"
      ]
     },
     "execution_count": 18,
     "metadata": {},
     "output_type": "execute_result"
    }
   ],
   "source": [
    "df.shape"
   ]
  },
  {
   "cell_type": "code",
   "execution_count": 19,
   "metadata": {},
   "outputs": [],
   "source": [
    "X=df.drop(['Potability'],axis=1)\n",
    "y=df.filter(['Potability'])\n",
    "\n",
    "X_train,X_test,y_train,y_test=train_test_split(X,y,test_size=0.2,random_state=42)\n",
    "X_train,X_val,y_train,y_val=train_test_split(X_train,y_train,test_size=0.25,random_state=42)"
   ]
  },
  {
   "cell_type": "code",
   "execution_count": 20,
   "metadata": {},
   "outputs": [],
   "source": [
    "numeric_pipa=Pipeline([\n",
    "        (\"imputer\",SimpleImputer(strategy=\"median\")),\n",
    "        (\"scaler\",StandardScaler())\n",
    "    ])\n",
    "\n",
    "preposecor=ColumnTransformer([\n",
    "        (\"numeric\",numeric_pipa,['ph','Hardness','Sulfate','Conductivity','Chloramines','Solids','Organic_carbon','Trihalomethanes','Turbidity']),\n",
    "    ])\n",
    "\n"
   ]
  },
  {
   "cell_type": "code",
   "execution_count": 21,
   "metadata": {},
   "outputs": [],
   "source": [
    "# random forest\n",
    "pipaRF=Pipeline([\n",
    "        (\"prep\",preposecor),\n",
    "        (\"rf\",RandomForestClassifier())\n",
    "    ])\n",
    "\n",
    "parameterRF={\n",
    "        \"rf__n_estimators\" : [500],\n",
    "        \"rf__min_samples_leaf\":[2],\n",
    "        \"rf__max_depth\":range(1,50),\n",
    "        \"rf__criterion\":[\"gini\",\"entropy\"],\n",
    "        \"rf__max_features\":[\"auto\",\"sqrt\",\"log2\"],\n",
    "    }\n",
    "\n",
    "# Decision tree\n",
    "pipaDT=Pipeline([\n",
    "        (\"prep\",preposecor),\n",
    "        (\"dt\",DecisionTreeClassifier())\n",
    "    ])\n",
    "\n",
    "parameterDT={\n",
    "        \"dt__min_samples_leaf\":[2],\n",
    "        \"dt__max_depth\":range(1,50),\n",
    "        \"dt__criterion\":[\"gini\",\"entropy\"],\n",
    "    }\n",
    "\n",
    "# KNN\n",
    "pipaKNN=Pipeline([\n",
    "        (\"prep\",preposecor),\n",
    "        (\"knn\",KNeighborsClassifier())\n",
    "    ])\n",
    "\n",
    "parameterKNN={\n",
    "        \"knn__n_neighbors\" : range(1,50),\n",
    "        \"knn__algorithm\" : ['auto', 'ball_tree', 'kd_tree', 'brute'],\n",
    "        \"knn__p\" : range(1,50),\n",
    "    }\n",
    "\n"
   ]
  },
  {
   "cell_type": "code",
   "execution_count": 22,
   "metadata": {},
   "outputs": [
    {
     "name": "stdout",
     "output_type": "stream",
     "text": [
      "Fitting 5 folds for each of 294 candidates, totalling 1470 fits\n"
     ]
    },
    {
     "name": "stderr",
     "output_type": "stream",
     "text": [
      "[Parallel(n_jobs=-1)]: Using backend LokyBackend with 8 concurrent workers.\n",
      "[Parallel(n_jobs=-1)]: Done  34 tasks      | elapsed:   17.1s\n",
      "[Parallel(n_jobs=-1)]: Done 184 tasks      | elapsed:  1.8min\n",
      "[Parallel(n_jobs=-1)]: Done 434 tasks      | elapsed:  4.8min\n",
      "[Parallel(n_jobs=-1)]: Done 784 tasks      | elapsed:  8.9min\n",
      "[Parallel(n_jobs=-1)]: Done 1234 tasks      | elapsed: 16.0min\n",
      "[Parallel(n_jobs=-1)]: Done 1470 out of 1470 | elapsed: 20.0min finished\n"
     ]
    }
   ],
   "source": [
    "# simple model Random Forest\n",
    "modelRF = GridSearchCV(pipaRF,parameterRF,cv=5,n_jobs=-1,verbose=1)\n",
    "modelRF.fit(X_train,y_train.values.ravel())\n",
    "\n",
    "tuning_terbaikRF=modelRF.best_params_\n",
    "\n",
    "latihan_akurasiRF=modelRF.score(X_train,y_train)\n",
    "ujian_akurasiRF=modelRF.score(X_test,y_test)\n",
    "predRF=modelRF.predict(X_test)\n",
    "reportRF = classification_report(y_test,predRF)\n"
   ]
  },
  {
   "cell_type": "code",
   "execution_count": 23,
   "metadata": {},
   "outputs": [],
   "source": [
    "filename = 'model/model_RF2.sav'\n",
    "pickle.dump(modelRF, open(filename, 'wb'))"
   ]
  },
  {
   "cell_type": "code",
   "execution_count": 24,
   "metadata": {
    "scrolled": true
   },
   "outputs": [
    {
     "name": "stdout",
     "output_type": "stream",
     "text": [
      "Fitting 5 folds for each of 98 candidates, totalling 490 fits\n"
     ]
    },
    {
     "name": "stderr",
     "output_type": "stream",
     "text": [
      "[Parallel(n_jobs=-1)]: Using backend LokyBackend with 8 concurrent workers.\n",
      "[Parallel(n_jobs=-1)]: Done  56 tasks      | elapsed:    0.4s\n",
      "[Parallel(n_jobs=-1)]: Done 490 out of 490 | elapsed:    4.5s finished\n"
     ]
    }
   ],
   "source": [
    "# simple model Decision Tree\n",
    "modelDT = GridSearchCV(pipaDT,parameterDT,cv=5,n_jobs=-1,verbose=1)\n",
    "modelDT.fit(X_train,y_train.values.ravel())\n",
    "\n",
    "tuning_terbaikDT=modelDT.best_params_\n",
    "\n",
    "latihan_akurasiDT=modelDT.score(X_train,y_train)\n",
    "ujian_akurasiDT=modelDT.score(X_test,y_test)\n",
    "predDT=modelDT.predict(X_test)\n",
    "reportDT = classification_report(y_test,predDT)"
   ]
  },
  {
   "cell_type": "code",
   "execution_count": 25,
   "metadata": {},
   "outputs": [],
   "source": [
    "filename = 'model/model_DT2.sav'\n",
    "pickle.dump(modelDT, open(filename, 'wb'))"
   ]
  },
  {
   "cell_type": "code",
   "execution_count": 26,
   "metadata": {},
   "outputs": [
    {
     "name": "stdout",
     "output_type": "stream",
     "text": [
      "Fitting 5 folds for each of 9604 candidates, totalling 48020 fits\n"
     ]
    },
    {
     "name": "stderr",
     "output_type": "stream",
     "text": [
      "[Parallel(n_jobs=-1)]: Using backend LokyBackend with 8 concurrent workers.\n",
      "[Parallel(n_jobs=-1)]: Done  52 tasks      | elapsed:    0.9s\n",
      "[Parallel(n_jobs=-1)]: Done 352 tasks      | elapsed:    5.4s\n",
      "[Parallel(n_jobs=-1)]: Done 852 tasks      | elapsed:   14.9s\n",
      "[Parallel(n_jobs=-1)]: Done 1552 tasks      | elapsed:   29.8s\n",
      "[Parallel(n_jobs=-1)]: Done 2452 tasks      | elapsed:   46.2s\n",
      "[Parallel(n_jobs=-1)]: Done 3552 tasks      | elapsed:  1.2min\n",
      "[Parallel(n_jobs=-1)]: Done 4852 tasks      | elapsed:  1.7min\n",
      "[Parallel(n_jobs=-1)]: Done 6352 tasks      | elapsed:  2.3min\n",
      "[Parallel(n_jobs=-1)]: Done 8052 tasks      | elapsed:  3.0min\n",
      "[Parallel(n_jobs=-1)]: Done 9952 tasks      | elapsed:  3.9min\n",
      "[Parallel(n_jobs=-1)]: Done 12052 tasks      | elapsed:  4.9min\n",
      "[Parallel(n_jobs=-1)]: Done 14352 tasks      | elapsed:  6.1min\n",
      "[Parallel(n_jobs=-1)]: Done 16852 tasks      | elapsed:  7.6min\n",
      "[Parallel(n_jobs=-1)]: Done 19552 tasks      | elapsed:  9.0min\n",
      "[Parallel(n_jobs=-1)]: Done 22452 tasks      | elapsed: 10.7min\n",
      "[Parallel(n_jobs=-1)]: Done 25552 tasks      | elapsed: 12.3min\n",
      "[Parallel(n_jobs=-1)]: Done 28852 tasks      | elapsed: 13.7min\n",
      "[Parallel(n_jobs=-1)]: Done 32352 tasks      | elapsed: 15.2min\n",
      "[Parallel(n_jobs=-1)]: Done 36052 tasks      | elapsed: 17.2min\n",
      "[Parallel(n_jobs=-1)]: Done 38936 tasks      | elapsed: 19.0min\n",
      "[Parallel(n_jobs=-1)]: Done 40986 tasks      | elapsed: 20.4min\n",
      "[Parallel(n_jobs=-1)]: Done 43136 tasks      | elapsed: 22.0min\n",
      "[Parallel(n_jobs=-1)]: Done 45386 tasks      | elapsed: 23.5min\n",
      "[Parallel(n_jobs=-1)]: Done 47736 tasks      | elapsed: 25.0min\n",
      "[Parallel(n_jobs=-1)]: Done 48020 out of 48020 | elapsed: 25.2min finished\n"
     ]
    }
   ],
   "source": [
    "# simple model KNN\n",
    "modelKNN = GridSearchCV(pipaKNN,parameterKNN,cv=5,n_jobs=-1,verbose=1)\n",
    "modelKNN.fit(X_train,y_train.values.ravel())\n",
    "\n",
    "tuning_terbaikKNN=modelKNN.best_params_\n",
    "\n",
    "latihan_akurasiKNN=modelKNN.score(X_train,y_train)\n",
    "ujian_akurasiKNN=modelKNN.score(X_test,y_test)\n",
    "predKNN=modelKNN.predict(X_test)\n",
    "reportKNN = classification_report(y_test,predKNN)\n"
   ]
  },
  {
   "cell_type": "code",
   "execution_count": 27,
   "metadata": {},
   "outputs": [],
   "source": [
    "filename = 'model/model_KNN2.sav'\n",
    "pickle.dump(modelKNN, open(filename, 'wb'))"
   ]
  },
  {
   "cell_type": "code",
   "execution_count": 28,
   "metadata": {},
   "outputs": [
    {
     "name": "stdout",
     "output_type": "stream",
     "text": [
      "\n",
      "Random Forest\n",
      "ini adalah tuning terbaik : {'rf__criterion': 'gini', 'rf__max_depth': 49, 'rf__max_features': 'auto', 'rf__min_samples_leaf': 2, 'rf__n_estimators': 500}\n",
      "ini adalah hasil testing 0.6890547263681592\n",
      "ini adalah hasil training 0.9991701244813278\n",
      "              precision    recall  f1-score   support\n",
      "\n",
      "           0       0.69      0.86      0.77       238\n",
      "           1       0.69      0.44      0.54       164\n",
      "\n",
      "    accuracy                           0.69       402\n",
      "   macro avg       0.69      0.65      0.65       402\n",
      "weighted avg       0.69      0.69      0.67       402\n",
      "\n",
      "==============================================\n",
      "\n",
      "Decision Tree\n",
      "ini adalah tuning terbaik : {'dt__criterion': 'gini', 'dt__max_depth': 3, 'dt__min_samples_leaf': 2}\n",
      "ini adalah hasil testing 0.5945273631840796\n",
      "ini adalah hasil training 0.6340248962655601\n",
      "              precision    recall  f1-score   support\n",
      "\n",
      "           0       0.61      0.85      0.71       238\n",
      "           1       0.51      0.23      0.31       164\n",
      "\n",
      "    accuracy                           0.59       402\n",
      "   macro avg       0.56      0.54      0.51       402\n",
      "weighted avg       0.57      0.59      0.55       402\n",
      "\n",
      "==============================================\n",
      "\n",
      "KNN\n",
      "ini adalah tuning terbaik : {'knn__algorithm': 'auto', 'knn__n_neighbors': 19, 'knn__p': 1}\n",
      "ini adalah hasil testing 0.654228855721393\n",
      "ini adalah hasil training 0.6796680497925311\n",
      "              precision    recall  f1-score   support\n",
      "\n",
      "           0       0.65      0.88      0.75       238\n",
      "           1       0.65      0.32      0.43       164\n",
      "\n",
      "    accuracy                           0.65       402\n",
      "   macro avg       0.65      0.60      0.59       402\n",
      "weighted avg       0.65      0.65      0.62       402\n",
      "\n",
      "==============================================\n"
     ]
    }
   ],
   "source": [
    "print(\"\")\n",
    "print(\"Random Forest\")\n",
    "print('ini adalah tuning terbaik :', tuning_terbaikRF)\n",
    "print('ini adalah hasil testing',ujian_akurasiRF)\n",
    "print('ini adalah hasil training', latihan_akurasiRF)\n",
    "print(reportRF)\n",
    "print('==============================================')\n",
    "\n",
    "print(\"\")\n",
    "print(\"Decision Tree\")\n",
    "print('ini adalah tuning terbaik :', tuning_terbaikDT)\n",
    "print('ini adalah hasil testing',ujian_akurasiDT)\n",
    "print('ini adalah hasil training', latihan_akurasiDT)\n",
    "print(reportDT)\n",
    "print('==============================================')\n",
    "\n",
    "print(\"\")\n",
    "print(\"KNN\")\n",
    "print('ini adalah tuning terbaik :', tuning_terbaikKNN)\n",
    "print('ini adalah hasil testing',ujian_akurasiKNN)\n",
    "print('ini adalah hasil training', latihan_akurasiKNN)\n",
    "print(reportKNN)\n",
    "print('==============================================')"
   ]
  },
  {
   "cell_type": "code",
   "execution_count": 29,
   "metadata": {},
   "outputs": [],
   "source": [
    "outputs = pd.DataFrame ({ \"Models\": ['RandomForest', 'DecisionTree', 'KNNeighbours'], 'Accuracy' : [ujian_akurasiRF, ujian_akurasiDT, ujian_akurasiKNN] })\n",
    "\n"
   ]
  },
  {
   "cell_type": "code",
   "execution_count": 30,
   "metadata": {},
   "outputs": [
    {
     "data": {
      "text/html": [
       "<div>\n",
       "<style scoped>\n",
       "    .dataframe tbody tr th:only-of-type {\n",
       "        vertical-align: middle;\n",
       "    }\n",
       "\n",
       "    .dataframe tbody tr th {\n",
       "        vertical-align: top;\n",
       "    }\n",
       "\n",
       "    .dataframe thead th {\n",
       "        text-align: right;\n",
       "    }\n",
       "</style>\n",
       "<table border=\"1\" class=\"dataframe\">\n",
       "  <thead>\n",
       "    <tr style=\"text-align: right;\">\n",
       "      <th></th>\n",
       "      <th>Models</th>\n",
       "      <th>Accuracy</th>\n",
       "    </tr>\n",
       "  </thead>\n",
       "  <tbody>\n",
       "    <tr>\n",
       "      <th>0</th>\n",
       "      <td>RandomForest</td>\n",
       "      <td>0.689055</td>\n",
       "    </tr>\n",
       "    <tr>\n",
       "      <th>1</th>\n",
       "      <td>DecisionTree</td>\n",
       "      <td>0.594527</td>\n",
       "    </tr>\n",
       "    <tr>\n",
       "      <th>2</th>\n",
       "      <td>KNNeighbours</td>\n",
       "      <td>0.654229</td>\n",
       "    </tr>\n",
       "  </tbody>\n",
       "</table>\n",
       "</div>"
      ],
      "text/plain": [
       "         Models  Accuracy\n",
       "0  RandomForest  0.689055\n",
       "1  DecisionTree  0.594527\n",
       "2  KNNeighbours  0.654229"
      ]
     },
     "execution_count": 30,
     "metadata": {},
     "output_type": "execute_result"
    }
   ],
   "source": [
    "outputs.sort_values(by='Accuracy', ascending=False)\n",
    "outputs.head()"
   ]
  },
  {
   "cell_type": "code",
   "execution_count": 31,
   "metadata": {
    "scrolled": true
   },
   "outputs": [
    {
     "data": {
      "text/plain": [
       "<AxesSubplot:xlabel='Accuracy', ylabel='Models'>"
      ]
     },
     "execution_count": 31,
     "metadata": {},
     "output_type": "execute_result"
    },
    {
     "data": {
      "image/png": "[encoded data removed]",
      "text/plain": [
       "<Figure size 432x288 with 1 Axes>"
      ]
     },
     "metadata": {
      "needs_background": "light"
     },
     "output_type": "display_data"
    }
   ],
   "source": [
    "sns.barplot(x= 'Accuracy', y= 'Models', data= outputs)"
   ]
  },
  {
   "cell_type": "markdown",
   "metadata": {},
   "source": [
    "## 3_menggunakan Shuffle"
   ]
  },
  {
   "cell_type": "code",
   "execution_count": 32,
   "metadata": {},
   "outputs": [],
   "source": [
    "df=pd.read_csv(\"water_potability.csv\")"
   ]
  },
  {
   "cell_type": "code",
   "execution_count": 33,
   "metadata": {},
   "outputs": [],
   "source": [
    "df = shuffle(df)"
   ]
  },
  {
   "cell_type": "code",
   "execution_count": 34,
   "metadata": {},
   "outputs": [],
   "source": [
    "X=df.drop(['Potability'],axis=1)\n",
    "y=df.filter(['Potability'])\n",
    "\n",
    "X_train,X_test,y_train,y_test=train_test_split(X,y,test_size=0.2,random_state=42)\n",
    "X_train,X_val,y_train,y_val=train_test_split(X_train,y_train,test_size=0.25,random_state=42)"
   ]
  },
  {
   "cell_type": "code",
   "execution_count": 35,
   "metadata": {},
   "outputs": [],
   "source": [
    "numeric_pipa=Pipeline([\n",
    "        (\"imputer\",SimpleImputer(strategy=\"median\")),\n",
    "        (\"scaler\",StandardScaler())\n",
    "    ])\n",
    "\n",
    "preposecor=ColumnTransformer([\n",
    "        (\"numeric\",numeric_pipa,['ph','Hardness','Sulfate','Conductivity','Chloramines','Solids','Organic_carbon','Trihalomethanes','Turbidity']),\n",
    "    ])\n",
    "\n"
   ]
  },
  {
   "cell_type": "code",
   "execution_count": 36,
   "metadata": {},
   "outputs": [],
   "source": [
    "# random forest\n",
    "pipaRF=Pipeline([\n",
    "        (\"prep\",preposecor),\n",
    "        (\"rf\",RandomForestClassifier())\n",
    "    ])\n",
    "\n",
    "parameterRF={\n",
    "        \"rf__n_estimators\" : [500],\n",
    "        \"rf__min_samples_leaf\":[2],\n",
    "        \"rf__max_depth\":range(1,50),\n",
    "        \"rf__criterion\":[\"gini\",\"entropy\"],\n",
    "        \"rf__max_features\":[\"auto\",\"sqrt\",\"log2\"],\n",
    "    }\n",
    "\n",
    "# Decision tree\n",
    "pipaDT=Pipeline([\n",
    "        (\"prep\",preposecor),\n",
    "        (\"dt\",DecisionTreeClassifier())\n",
    "    ])\n",
    "\n",
    "parameterDT={\n",
    "        \"dt__min_samples_leaf\":[2],\n",
    "        \"dt__max_depth\":range(1,50),\n",
    "        \"dt__criterion\":[\"gini\",\"entropy\"],\n",
    "    }\n",
    "\n",
    "# KNN\n",
    "pipaKNN=Pipeline([\n",
    "        (\"prep\",preposecor),\n",
    "        (\"knn\",KNeighborsClassifier())\n",
    "    ])\n",
    "\n",
    "parameterKNN={\n",
    "        \"knn__n_neighbors\" : range(1,50),\n",
    "        \"knn__algorithm\" : ['auto', 'ball_tree', 'kd_tree', 'brute'],\n",
    "        \"knn__p\" : range(1,50),\n",
    "    }\n",
    "\n"
   ]
  },
  {
   "cell_type": "code",
   "execution_count": 37,
   "metadata": {},
   "outputs": [
    {
     "name": "stdout",
     "output_type": "stream",
     "text": [
      "Fitting 5 folds for each of 294 candidates, totalling 1470 fits\n"
     ]
    },
    {
     "name": "stderr",
     "output_type": "stream",
     "text": [
      "[Parallel(n_jobs=-1)]: Using backend LokyBackend with 8 concurrent workers.\n",
      "[Parallel(n_jobs=-1)]: Done  34 tasks      | elapsed:   17.7s\n",
      "[Parallel(n_jobs=-1)]: Done 184 tasks      | elapsed:  2.2min\n",
      "[Parallel(n_jobs=-1)]: Done 434 tasks      | elapsed:  6.4min\n",
      "[Parallel(n_jobs=-1)]: Done 784 tasks      | elapsed: 12.1min\n",
      "[Parallel(n_jobs=-1)]: Done 1234 tasks      | elapsed: 23.7min\n",
      "[Parallel(n_jobs=-1)]: Done 1470 out of 1470 | elapsed: 30.4min finished\n"
     ]
    }
   ],
   "source": [
    "# simple model Random Forest\n",
    "modelRF = GridSearchCV(pipaRF,parameterRF,cv=5,n_jobs=-1,verbose=1)\n",
    "modelRF.fit(X_train,y_train.values.ravel())\n",
    "\n",
    "tuning_terbaikRF=modelRF.best_params_\n",
    "\n",
    "latihan_akurasiRF=modelRF.score(X_train,y_train)\n",
    "ujian_akurasiRF=modelRF.score(X_test,y_test)\n",
    "predRF=modelRF.predict(X_test)\n",
    "reportRF = classification_report(y_test,predRF)\n"
   ]
  },
  {
   "cell_type": "code",
   "execution_count": 39,
   "metadata": {},
   "outputs": [],
   "source": [
    "filename = 'model/model_RF3.sav'\n",
    "pickle.dump(modelRF, open(filename, 'wb'))"
   ]
  },
  {
   "cell_type": "code",
   "execution_count": 40,
   "metadata": {
    "scrolled": true
   },
   "outputs": [
    {
     "name": "stdout",
     "output_type": "stream",
     "text": [
      "Fitting 5 folds for each of 98 candidates, totalling 490 fits\n"
     ]
    },
    {
     "name": "stderr",
     "output_type": "stream",
     "text": [
      "[Parallel(n_jobs=-1)]: Using backend LokyBackend with 8 concurrent workers.\n",
      "[Parallel(n_jobs=-1)]: Done  56 tasks      | elapsed:    0.5s\n",
      "[Parallel(n_jobs=-1)]: Done 490 out of 490 | elapsed:    5.4s finished\n"
     ]
    }
   ],
   "source": [
    "# simple model Decision Tree\n",
    "modelDT = GridSearchCV(pipaDT,parameterDT,cv=5,n_jobs=-1,verbose=1)\n",
    "modelDT.fit(X_train,y_train.values.ravel())\n",
    "\n",
    "tuning_terbaikDT=modelDT.best_params_\n",
    "\n",
    "latihan_akurasiDT=modelDT.score(X_train,y_train)\n",
    "ujian_akurasiDT=modelDT.score(X_test,y_test)\n",
    "predDT=modelDT.predict(X_test)\n",
    "reportDT = classification_report(y_test,predDT)"
   ]
  },
  {
   "cell_type": "code",
   "execution_count": 41,
   "metadata": {},
   "outputs": [],
   "source": [
    "filename = 'model/model_DT3.sav'\n",
    "pickle.dump(modelDT, open(filename, 'wb'))"
   ]
  },
  {
   "cell_type": "code",
   "execution_count": 42,
   "metadata": {},
   "outputs": [
    {
     "name": "stdout",
     "output_type": "stream",
     "text": [
      "Fitting 5 folds for each of 9604 candidates, totalling 48020 fits\n"
     ]
    },
    {
     "name": "stderr",
     "output_type": "stream",
     "text": [
      "[Parallel(n_jobs=-1)]: Using backend LokyBackend with 8 concurrent workers.\n",
      "[Parallel(n_jobs=-1)]: Done  52 tasks      | elapsed:    2.7s\n",
      "[Parallel(n_jobs=-1)]: Done 352 tasks      | elapsed:   16.7s\n",
      "[Parallel(n_jobs=-1)]: Done 852 tasks      | elapsed:   36.5s\n",
      "[Parallel(n_jobs=-1)]: Done 1264 tasks      | elapsed:  1.0min\n",
      "[Parallel(n_jobs=-1)]: Done 1714 tasks      | elapsed:  1.5min\n",
      "[Parallel(n_jobs=-1)]: Done 2264 tasks      | elapsed:  2.1min\n",
      "[Parallel(n_jobs=-1)]: Done 2914 tasks      | elapsed:  2.8min\n",
      "[Parallel(n_jobs=-1)]: Done 3664 tasks      | elapsed:  3.6min\n",
      "[Parallel(n_jobs=-1)]: Done 4514 tasks      | elapsed:  4.4min\n",
      "[Parallel(n_jobs=-1)]: Done 5464 tasks      | elapsed:  5.6min\n",
      "[Parallel(n_jobs=-1)]: Done 6514 tasks      | elapsed:  7.0min\n",
      "[Parallel(n_jobs=-1)]: Done 7664 tasks      | elapsed:  8.5min\n",
      "[Parallel(n_jobs=-1)]: Done 8914 tasks      | elapsed: 10.3min\n",
      "[Parallel(n_jobs=-1)]: Done 10264 tasks      | elapsed: 12.4min\n",
      "[Parallel(n_jobs=-1)]: Done 11714 tasks      | elapsed: 14.6min\n",
      "[Parallel(n_jobs=-1)]: Done 13264 tasks      | elapsed: 17.4min\n",
      "[Parallel(n_jobs=-1)]: Done 14914 tasks      | elapsed: 20.4min\n",
      "[Parallel(n_jobs=-1)]: Done 16664 tasks      | elapsed: 23.3min\n",
      "[Parallel(n_jobs=-1)]: Done 18514 tasks      | elapsed: 26.6min\n",
      "[Parallel(n_jobs=-1)]: Done 20464 tasks      | elapsed: 30.1min\n",
      "[Parallel(n_jobs=-1)]: Done 22514 tasks      | elapsed: 33.9min\n",
      "[Parallel(n_jobs=-1)]: Done 24664 tasks      | elapsed: 36.9min\n",
      "[Parallel(n_jobs=-1)]: Done 26914 tasks      | elapsed: 39.3min\n",
      "[Parallel(n_jobs=-1)]: Done 29264 tasks      | elapsed: 42.2min\n",
      "[Parallel(n_jobs=-1)]: Done 31714 tasks      | elapsed: 45.7min\n",
      "[Parallel(n_jobs=-1)]: Done 34264 tasks      | elapsed: 49.4min\n",
      "[Parallel(n_jobs=-1)]: Done 36914 tasks      | elapsed: 54.3min\n",
      "[Parallel(n_jobs=-1)]: Done 39664 tasks      | elapsed: 59.4min\n",
      "[Parallel(n_jobs=-1)]: Done 42514 tasks      | elapsed: 64.5min\n",
      "[Parallel(n_jobs=-1)]: Done 45464 tasks      | elapsed: 69.3min\n",
      "[Parallel(n_jobs=-1)]: Done 48020 out of 48020 | elapsed: 73.4min finished\n"
     ]
    }
   ],
   "source": [
    "# simple model KNN\n",
    "modelKNN = GridSearchCV(pipaKNN,parameterKNN,cv=5,n_jobs=-1,verbose=1)\n",
    "modelKNN.fit(X_train,y_train.values.ravel())\n",
    "\n",
    "tuning_terbaikKNN=modelKNN.best_params_\n",
    "\n",
    "latihan_akurasiKNN=modelKNN.score(X_train,y_train)\n",
    "ujian_akurasiKNN=modelKNN.score(X_test,y_test)\n",
    "predKNN=modelKNN.predict(X_test)\n",
    "reportKNN = classification_report(y_test,predKNN)\n"
   ]
  },
  {
   "cell_type": "code",
   "execution_count": 43,
   "metadata": {},
   "outputs": [],
   "source": [
    "filename = 'model/model_KNN3.sav'\n",
    "pickle.dump(modelKNN, open(filename, 'wb'))"
   ]
  },
  {
   "cell_type": "code",
   "execution_count": 44,
   "metadata": {},
   "outputs": [
    {
     "name": "stdout",
     "output_type": "stream",
     "text": [
      "\n",
      "Random Forest\n",
      "ini adalah tuning terbaik : {'rf__criterion': 'gini', 'rf__max_depth': 38, 'rf__max_features': 'sqrt', 'rf__min_samples_leaf': 2, 'rf__n_estimators': 500}\n",
      "ini adalah hasil testing 0.665648854961832\n",
      "ini adalah hasil training 1.0\n",
      "              precision    recall  f1-score   support\n",
      "\n",
      "           0       0.67      0.89      0.76       397\n",
      "           1       0.65      0.33      0.43       258\n",
      "\n",
      "    accuracy                           0.67       655\n",
      "   macro avg       0.66      0.61      0.60       655\n",
      "weighted avg       0.66      0.67      0.63       655\n",
      "\n",
      "==============================================\n",
      "\n",
      "Decision Tree\n",
      "ini adalah tuning terbaik : {'dt__criterion': 'gini', 'dt__max_depth': 6, 'dt__min_samples_leaf': 2}\n",
      "ini adalah hasil testing 0.6320610687022901\n",
      "ini adalah hasil training 0.7086092715231788\n",
      "              precision    recall  f1-score   support\n",
      "\n",
      "           0       0.64      0.90      0.75       397\n",
      "           1       0.59      0.21      0.31       258\n",
      "\n",
      "    accuracy                           0.63       655\n",
      "   macro avg       0.62      0.56      0.53       655\n",
      "weighted avg       0.62      0.63      0.58       655\n",
      "\n",
      "==============================================\n",
      "\n",
      "KNN\n",
      "ini adalah tuning terbaik : {'knn__algorithm': 'auto', 'knn__n_neighbors': 27, 'knn__p': 2}\n",
      "ini adalah hasil testing 0.6351145038167939\n",
      "ini adalah hasil training 0.6704024452368823\n",
      "              precision    recall  f1-score   support\n",
      "\n",
      "           0       0.63      0.94      0.76       397\n",
      "           1       0.64      0.17      0.27       258\n",
      "\n",
      "    accuracy                           0.64       655\n",
      "   macro avg       0.64      0.55      0.51       655\n",
      "weighted avg       0.64      0.64      0.56       655\n",
      "\n",
      "==============================================\n"
     ]
    }
   ],
   "source": [
    "print(\"\")\n",
    "print(\"Random Forest\")\n",
    "print('ini adalah tuning terbaik :', tuning_terbaikRF)\n",
    "print('ini adalah hasil testing',ujian_akurasiRF)\n",
    "print('ini adalah hasil training', latihan_akurasiRF)\n",
    "print(reportRF)\n",
    "print('==============================================')\n",
    "\n",
    "print(\"\")\n",
    "print(\"Decision Tree\")\n",
    "print('ini adalah tuning terbaik :', tuning_terbaikDT)\n",
    "print('ini adalah hasil testing',ujian_akurasiDT)\n",
    "print('ini adalah hasil training', latihan_akurasiDT)\n",
    "print(reportDT)\n",
    "print('==============================================')\n",
    "\n",
    "print(\"\")\n",
    "print(\"KNN\")\n",
    "print('ini adalah tuning terbaik :', tuning_terbaikKNN)\n",
    "print('ini adalah hasil testing',ujian_akurasiKNN)\n",
    "print('ini adalah hasil training', latihan_akurasiKNN)\n",
    "print(reportKNN)\n",
    "print('==============================================')"
   ]
  },
  {
   "cell_type": "code",
   "execution_count": 45,
   "metadata": {},
   "outputs": [],
   "source": [
    "outputs = pd.DataFrame ({ \"Models\": ['RandomForest', 'DecisionTree', 'KNNeighbours'], 'Accuracy' : [ujian_akurasiRF, ujian_akurasiDT, ujian_akurasiKNN] })\n",
    "\n"
   ]
  },
  {
   "cell_type": "code",
   "execution_count": 46,
   "metadata": {},
   "outputs": [
    {
     "data": {
      "text/html": [
       "<div>\n",
       "<style scoped>\n",
       "    .dataframe tbody tr th:only-of-type {\n",
       "        vertical-align: middle;\n",
       "    }\n",
       "\n",
       "    .dataframe tbody tr th {\n",
       "        vertical-align: top;\n",
       "    }\n",
       "\n",
       "    .dataframe thead th {\n",
       "        text-align: right;\n",
       "    }\n",
       "</style>\n",
       "<table border=\"1\" class=\"dataframe\">\n",
       "  <thead>\n",
       "    <tr style=\"text-align: right;\">\n",
       "      <th></th>\n",
       "      <th>Models</th>\n",
       "      <th>Accuracy</th>\n",
       "    </tr>\n",
       "  </thead>\n",
       "  <tbody>\n",
       "    <tr>\n",
       "      <th>0</th>\n",
       "      <td>RandomForest</td>\n",
       "      <td>0.665649</td>\n",
       "    </tr>\n",
       "    <tr>\n",
       "      <th>1</th>\n",
       "      <td>DecisionTree</td>\n",
       "      <td>0.632061</td>\n",
       "    </tr>\n",
       "    <tr>\n",
       "      <th>2</th>\n",
       "      <td>KNNeighbours</td>\n",
       "      <td>0.635115</td>\n",
       "    </tr>\n",
       "  </tbody>\n",
       "</table>\n",
       "</div>"
      ],
      "text/plain": [
       "         Models  Accuracy\n",
       "0  RandomForest  0.665649\n",
       "1  DecisionTree  0.632061\n",
       "2  KNNeighbours  0.635115"
      ]
     },
     "execution_count": 46,
     "metadata": {},
     "output_type": "execute_result"
    }
   ],
   "source": [
    "outputs.sort_values(by='Accuracy', ascending=False)\n",
    "outputs.head()"
   ]
  },
  {
   "cell_type": "code",
   "execution_count": 47,
   "metadata": {
    "scrolled": true
   },
   "outputs": [
    {
     "data": {
      "text/plain": [
       "<AxesSubplot:xlabel='Accuracy', ylabel='Models'>"
      ]
     },
     "execution_count": 47,
     "metadata": {},
     "output_type": "execute_result"
    },
    {
     "data": {
      "image/png": "[encoded data removed]",
      "text/plain": [
       "<Figure size 432x288 with 1 Axes>"
      ]
     },
     "metadata": {
      "needs_background": "light"
     },
     "output_type": "display_data"
    }
   ],
   "source": [
    "sns.barplot(x= 'Accuracy', y= 'Models', data= outputs)"
   ]
  },
  {
   "cell_type": "markdown",
   "metadata": {},
   "source": [
    "## 4_menggunakan Catagorical"
   ]
  },
  {
   "cell_type": "code",
   "execution_count": 3,
   "metadata": {},
   "outputs": [],
   "source": [
    "df=pd.read_csv(\"water_potability.csv\")"
   ]
  },
  {
   "cell_type": "code",
   "execution_count": 4,
   "metadata": {},
   "outputs": [],
   "source": [
    "df.Turbidity = pd.cut(df.Turbidity,[1,5,7], labels = ['layak','tinggi'])\n",
    "df.Trihalomethanes = pd.cut(df.Trihalomethanes,[0,80,125], labels = ['layak','tinggi'])\n",
    "df.Organic_carbon = pd.cut(df.Organic_carbon,[2,24,29], labels = ['layak','tinggi'])\n",
    "df.Conductivity = pd.cut(df.Conductivity,[181,400,754], labels = ['layak','tinggi'])\n",
    "df.Sulfate = pd.cut(df.Sulfate,[128,250,482], labels = ['layak','tinggi'])\n",
    "df.Chloramines = pd.cut(df.Chloramines,[0,5,14], labels = ['layak','tinggi'])\n",
    "df.Hardness = pd.cut(df.Hardness,[47,500], labels = ['layak'])\n",
    "df.ph = pd.cut(df.ph,[0,6.5,8.5,15], labels = ['basa','netral','asam'])"
   ]
  },
  {
   "cell_type": "code",
   "execution_count": 5,
   "metadata": {},
   "outputs": [],
   "source": [
    "X=df.drop(['Solids','Potability'],axis=1)\n",
    "# xx=df.filter(['Organic_carbon'])\n",
    "y=df.filter(['Potability'])\n",
    "\n",
    "X_train,X_test,y_train,y_test=train_test_split(X,y,test_size=0.2,random_state=42)\n",
    "X_train,X_val,y_train,y_val=train_test_split(X_train,y_train,test_size=0.25,random_state=42)"
   ]
  },
  {
   "cell_type": "code",
   "execution_count": 6,
   "metadata": {},
   "outputs": [
    {
     "name": "stdout",
     "output_type": "stream",
     "text": [
      "0       layak\n",
      "1       layak\n",
      "2       layak\n",
      "3       layak\n",
      "4       layak\n",
      "        ...  \n",
      "3268    layak\n",
      "3269    layak\n",
      "3270    layak\n",
      "3271    layak\n",
      "3272    layak\n",
      "Name: Organic_carbon, Length: 3273, dtype: category\n",
      "Categories (2, object): [layak < tinggi]\n"
     ]
    }
   ],
   "source": [
    "print(df.Organic_carbon)"
   ]
  },
  {
   "cell_type": "code",
   "execution_count": 7,
   "metadata": {},
   "outputs": [],
   "source": [
    "numeric_pipa=Pipeline([\n",
    "        (\"imputer\",SimpleImputer(strategy=\"median\")),\n",
    "        (\"scaler\",StandardScaler())\n",
    "    ])\n",
    "\n",
    "catagori_pipa=Pipeline([\n",
    "        (\"imputer\",SimpleImputer(strategy=\"most_frequent\")),\n",
    "        (\"onehot\",OneHotEncoder())\n",
    "    ])\n",
    "\n",
    "preposecor=ColumnTransformer([\n",
    "        (\"catagoric\",catagori_pipa,['ph','Hardness','Chloramines','Sulfate','Conductivity','Organic_carbon','Trihalomethanes','Turbidity'])\n",
    "])\n",
    "\n"
   ]
  },
  {
   "cell_type": "code",
   "execution_count": 8,
   "metadata": {},
   "outputs": [],
   "source": [
    "# random forest\n",
    "pipaRF=Pipeline([\n",
    "        (\"prep\",preposecor),\n",
    "        (\"rf\",RandomForestClassifier())\n",
    "    ])\n",
    "\n",
    "parameterRF={\n",
    "        \"rf__n_estimators\" : [500],\n",
    "        \"rf__min_samples_leaf\":[2],\n",
    "        \"rf__max_depth\":range(1,50),\n",
    "        \"rf__criterion\":[\"gini\",\"entropy\"],\n",
    "        \"rf__max_features\":[\"auto\",\"sqrt\",\"log2\"],\n",
    "    }\n",
    "\n",
    "# Decision tree\n",
    "pipaDT=Pipeline([\n",
    "        (\"prep\",preposecor),\n",
    "        (\"dt\",DecisionTreeClassifier())\n",
    "    ])\n",
    "\n",
    "parameterDT={\n",
    "        \"dt__min_samples_leaf\":[2],\n",
    "        \"dt__max_depth\":range(1,50),\n",
    "        \"dt__criterion\":[\"gini\",\"entropy\"],\n",
    "    }\n",
    "\n",
    "# KNN\n",
    "pipaKNN=Pipeline([\n",
    "        (\"prep\",preposecor),\n",
    "        (\"knn\",KNeighborsClassifier())\n",
    "    ])\n",
    "\n",
    "parameterKNN={\n",
    "        \"knn__n_neighbors\" : range(1,50),\n",
    "        \"knn__algorithm\" : ['auto', 'ball_tree', 'kd_tree', 'brute'],\n",
    "        \"knn__p\" : range(1,50),\n",
    "    }\n",
    "\n"
   ]
  },
  {
   "cell_type": "code",
   "execution_count": 10,
   "metadata": {},
   "outputs": [
    {
     "name": "stdout",
     "output_type": "stream",
     "text": [
      "Fitting 5 folds for each of 294 candidates, totalling 1470 fits\n"
     ]
    },
    {
     "name": "stderr",
     "output_type": "stream",
     "text": [
      "[Parallel(n_jobs=-1)]: Using backend LokyBackend with 8 concurrent workers.\n",
      "[Parallel(n_jobs=-1)]: Done  34 tasks      | elapsed:   21.2s\n",
      "[Parallel(n_jobs=-1)]: Done 184 tasks      | elapsed:  1.3min\n",
      "[Parallel(n_jobs=-1)]: Done 434 tasks      | elapsed:  3.1min\n",
      "[Parallel(n_jobs=-1)]: Done 784 tasks      | elapsed:  5.8min\n",
      "[Parallel(n_jobs=-1)]: Done 1234 tasks      | elapsed:  9.5min\n",
      "[Parallel(n_jobs=-1)]: Done 1470 out of 1470 | elapsed: 11.3min finished\n"
     ]
    }
   ],
   "source": [
    "# simple model Random Forest\n",
    "modelRF = GridSearchCV(pipaRF,parameterRF,cv=5,n_jobs=-1,verbose=1)\n",
    "modelRF.fit(X_train,y_train.values.ravel())\n",
    "\n",
    "tuning_terbaikRF=modelRF.best_params_\n",
    "\n",
    "latihan_akurasiRF=modelRF.score(X_train,y_train)\n",
    "ujian_akurasiRF=modelRF.score(X_test,y_test)\n",
    "predRF=modelRF.predict(X_test)\n",
    "reportRF = classification_report(y_test,predRF)\n"
   ]
  },
  {
   "cell_type": "code",
   "execution_count": 12,
   "metadata": {},
   "outputs": [],
   "source": [
    "filename = 'model/model_RF4.sav'\n",
    "pickle.dump(modelRF, open(filename, 'wb'))"
   ]
  },
  {
   "cell_type": "code",
   "execution_count": 13,
   "metadata": {
    "scrolled": true
   },
   "outputs": [
    {
     "name": "stdout",
     "output_type": "stream",
     "text": [
      "Fitting 5 folds for each of 98 candidates, totalling 490 fits\n"
     ]
    },
    {
     "name": "stderr",
     "output_type": "stream",
     "text": [
      "[Parallel(n_jobs=-1)]: Using backend LokyBackend with 8 concurrent workers.\n",
      "[Parallel(n_jobs=-1)]: Done  34 tasks      | elapsed:    3.4s\n",
      "[Parallel(n_jobs=-1)]: Done 440 tasks      | elapsed:    8.3s\n",
      "[Parallel(n_jobs=-1)]: Done 475 out of 490 | elapsed:    8.7s remaining:    0.2s\n",
      "[Parallel(n_jobs=-1)]: Done 490 out of 490 | elapsed:    8.8s finished\n"
     ]
    }
   ],
   "source": [
    "# simple model Decision Tree\n",
    "modelDT = GridSearchCV(pipaDT,parameterDT,cv=5,n_jobs=-1,verbose=1)\n",
    "modelDT.fit(X_train,y_train.values.ravel())\n",
    "\n",
    "tuning_terbaikDT=modelDT.best_params_\n",
    "\n",
    "latihan_akurasiDT=modelDT.score(X_train,y_train)\n",
    "ujian_akurasiDT=modelDT.score(X_test,y_test)\n",
    "predDT=modelDT.predict(X_test)\n",
    "reportDT = classification_report(y_test,predDT)"
   ]
  },
  {
   "cell_type": "code",
   "execution_count": 14,
   "metadata": {},
   "outputs": [],
   "source": [
    "filename = 'model/model_DT4.sav'\n",
    "pickle.dump(modelDT, open(filename, 'wb'))"
   ]
  },
  {
   "cell_type": "code",
   "execution_count": 15,
   "metadata": {},
   "outputs": [
    {
     "name": "stdout",
     "output_type": "stream",
     "text": [
      "Fitting 5 folds for each of 9604 candidates, totalling 48020 fits\n"
     ]
    },
    {
     "name": "stderr",
     "output_type": "stream",
     "text": [
      "[Parallel(n_jobs=-1)]: Using backend LokyBackend with 8 concurrent workers.\n",
      "[Parallel(n_jobs=-1)]: Done  52 tasks      | elapsed:    2.1s\n",
      "[Parallel(n_jobs=-1)]: Done 352 tasks      | elapsed:   10.7s\n",
      "[Parallel(n_jobs=-1)]: Done 762 tasks      | elapsed:   29.5s\n",
      "[Parallel(n_jobs=-1)]: Done 1112 tasks      | elapsed:   52.4s\n",
      "[Parallel(n_jobs=-1)]: Done 1562 tasks      | elapsed:  1.3min\n",
      "[Parallel(n_jobs=-1)]: Done 2112 tasks      | elapsed:  1.6min\n",
      "[Parallel(n_jobs=-1)]: Done 2762 tasks      | elapsed:  2.2min\n",
      "[Parallel(n_jobs=-1)]: Done 3512 tasks      | elapsed:  2.7min\n",
      "[Parallel(n_jobs=-1)]: Done 4362 tasks      | elapsed:  3.3min\n",
      "[Parallel(n_jobs=-1)]: Done 5312 tasks      | elapsed:  4.0min\n",
      "[Parallel(n_jobs=-1)]: Done 6362 tasks      | elapsed:  4.9min\n",
      "[Parallel(n_jobs=-1)]: Done 7512 tasks      | elapsed:  5.7min\n",
      "[Parallel(n_jobs=-1)]: Done 8762 tasks      | elapsed:  6.7min\n",
      "[Parallel(n_jobs=-1)]: Done 10112 tasks      | elapsed:  7.8min\n",
      "[Parallel(n_jobs=-1)]: Done 11562 tasks      | elapsed:  9.0min\n",
      "[Parallel(n_jobs=-1)]: Done 13112 tasks      | elapsed: 10.5min\n",
      "[Parallel(n_jobs=-1)]: Done 14762 tasks      | elapsed: 12.2min\n",
      "[Parallel(n_jobs=-1)]: Done 16512 tasks      | elapsed: 13.9min\n",
      "[Parallel(n_jobs=-1)]: Done 18362 tasks      | elapsed: 15.6min\n",
      "[Parallel(n_jobs=-1)]: Done 20312 tasks      | elapsed: 17.4min\n",
      "[Parallel(n_jobs=-1)]: Done 22362 tasks      | elapsed: 19.3min\n",
      "[Parallel(n_jobs=-1)]: Done 24512 tasks      | elapsed: 21.4min\n",
      "[Parallel(n_jobs=-1)]: Done 26762 tasks      | elapsed: 23.1min\n",
      "[Parallel(n_jobs=-1)]: Done 29112 tasks      | elapsed: 24.9min\n",
      "[Parallel(n_jobs=-1)]: Done 31562 tasks      | elapsed: 27.2min\n",
      "[Parallel(n_jobs=-1)]: Done 34112 tasks      | elapsed: 29.6min\n",
      "[Parallel(n_jobs=-1)]: Done 36762 tasks      | elapsed: 32.0min\n",
      "[Parallel(n_jobs=-1)]: Done 39512 tasks      | elapsed: 34.5min\n",
      "[Parallel(n_jobs=-1)]: Done 42362 tasks      | elapsed: 37.2min\n",
      "[Parallel(n_jobs=-1)]: Done 45312 tasks      | elapsed: 40.2min\n",
      "[Parallel(n_jobs=-1)]: Done 48020 out of 48020 | elapsed: 42.9min finished\n"
     ]
    }
   ],
   "source": [
    "# simple model KNN\n",
    "modelKNN = GridSearchCV(pipaKNN,parameterKNN,cv=5,n_jobs=-1,verbose=1)\n",
    "modelKNN.fit(X_train,y_train.values.ravel())\n",
    "\n",
    "tuning_terbaikKNN=modelKNN.best_params_\n",
    "\n",
    "latihan_akurasiKNN=modelKNN.score(X_train,y_train)\n",
    "ujian_akurasiKNN=modelKNN.score(X_test,y_test)\n",
    "predKNN=modelKNN.predict(X_test)\n",
    "reportKNN = classification_report(y_test,predKNN)\n"
   ]
  },
  {
   "cell_type": "code",
   "execution_count": 16,
   "metadata": {},
   "outputs": [],
   "source": [
    "filename = 'model/model_KNN4.sav'\n",
    "pickle.dump(modelKNN, open(filename, 'wb'))"
   ]
  },
  {
   "cell_type": "code",
   "execution_count": 17,
   "metadata": {},
   "outputs": [
    {
     "name": "stdout",
     "output_type": "stream",
     "text": [
      "\n",
      "Random Forest\n",
      "ini adalah tuning terbaik : {'rf__criterion': 'gini', 'rf__max_depth': 5, 'rf__max_features': 'auto', 'rf__min_samples_leaf': 2, 'rf__n_estimators': 500}\n",
      "ini adalah hasil testing 0.6610687022900763\n",
      "ini adalah hasil training 0.6230259806418746\n",
      "              precision    recall  f1-score   support\n",
      "\n",
      "           0       0.66      0.97      0.79       429\n",
      "           1       0.58      0.07      0.12       226\n",
      "\n",
      "    accuracy                           0.66       655\n",
      "   macro avg       0.62      0.52      0.45       655\n",
      "weighted avg       0.63      0.66      0.56       655\n",
      "\n",
      "==============================================\n",
      "\n",
      "Decision Tree\n",
      "ini adalah tuning terbaik : {'dt__criterion': 'gini', 'dt__max_depth': 5, 'dt__min_samples_leaf': 2}\n",
      "ini adalah hasil testing 0.6610687022900763\n",
      "ini adalah hasil training 0.6225165562913907\n",
      "              precision    recall  f1-score   support\n",
      "\n",
      "           0       0.66      0.98      0.79       429\n",
      "           1       0.58      0.06      0.11       226\n",
      "\n",
      "    accuracy                           0.66       655\n",
      "   macro avg       0.62      0.52      0.45       655\n",
      "weighted avg       0.64      0.66      0.56       655\n",
      "\n",
      "==============================================\n",
      "\n",
      "KNN\n",
      "ini adalah tuning terbaik : {'knn__algorithm': 'ball_tree', 'knn__n_neighbors': 26, 'knn__p': 5}\n",
      "ini adalah hasil testing 0.6442748091603053\n",
      "ini adalah hasil training 0.6220071319409067\n",
      "              precision    recall  f1-score   support\n",
      "\n",
      "           0       0.66      0.95      0.78       429\n",
      "           1       0.41      0.07      0.12       226\n",
      "\n",
      "    accuracy                           0.64       655\n",
      "   macro avg       0.53      0.51      0.45       655\n",
      "weighted avg       0.57      0.64      0.55       655\n",
      "\n",
      "==============================================\n"
     ]
    }
   ],
   "source": [
    "print(\"\")\n",
    "print(\"Random Forest\")\n",
    "print('ini adalah tuning terbaik :', tuning_terbaikRF)\n",
    "print('ini adalah hasil testing',ujian_akurasiRF)\n",
    "print('ini adalah hasil training', latihan_akurasiRF)\n",
    "print(reportRF)\n",
    "print('==============================================')\n",
    "\n",
    "print(\"\")\n",
    "print(\"Decision Tree\")\n",
    "print('ini adalah tuning terbaik :', tuning_terbaikDT)\n",
    "print('ini adalah hasil testing',ujian_akurasiDT)\n",
    "print('ini adalah hasil training', latihan_akurasiDT)\n",
    "print(reportDT)\n",
    "print('==============================================')\n",
    "\n",
    "print(\"\")\n",
    "print(\"KNN\")\n",
    "print('ini adalah tuning terbaik :', tuning_terbaikKNN)\n",
    "print('ini adalah hasil testing',ujian_akurasiKNN)\n",
    "print('ini adalah hasil training', latihan_akurasiKNN)\n",
    "print(reportKNN)\n",
    "print('==============================================')"
   ]
  },
  {
   "cell_type": "code",
   "execution_count": 18,
   "metadata": {},
   "outputs": [],
   "source": [
    "outputs = pd.DataFrame ({ \"Models\": ['RandomForest', 'DecisionTree', 'KNNeighbours'], 'Accuracy' : [ujian_akurasiRF, ujian_akurasiDT, ujian_akurasiKNN] })\n",
    "\n"
   ]
  },
  {
   "cell_type": "code",
   "execution_count": 19,
   "metadata": {},
   "outputs": [
    {
     "data": {
      "text/html": [
       "<div>\n",
       "<style scoped>\n",
       "    .dataframe tbody tr th:only-of-type {\n",
       "        vertical-align: middle;\n",
       "    }\n",
       "\n",
       "    .dataframe tbody tr th {\n",
       "        vertical-align: top;\n",
       "    }\n",
       "\n",
       "    .dataframe thead th {\n",
       "        text-align: right;\n",
       "    }\n",
       "</style>\n",
       "<table border=\"1\" class=\"dataframe\">\n",
       "  <thead>\n",
       "    <tr style=\"text-align: right;\">\n",
       "      <th></th>\n",
       "      <th>Models</th>\n",
       "      <th>Accuracy</th>\n",
       "    </tr>\n",
       "  </thead>\n",
       "  <tbody>\n",
       "    <tr>\n",
       "      <th>0</th>\n",
       "      <td>RandomForest</td>\n",
       "      <td>0.661069</td>\n",
       "    </tr>\n",
       "    <tr>\n",
       "      <th>1</th>\n",
       "      <td>DecisionTree</td>\n",
       "      <td>0.661069</td>\n",
       "    </tr>\n",
       "    <tr>\n",
       "      <th>2</th>\n",
       "      <td>KNNeighbours</td>\n",
       "      <td>0.644275</td>\n",
       "    </tr>\n",
       "  </tbody>\n",
       "</table>\n",
       "</div>"
      ],
      "text/plain": [
       "         Models  Accuracy\n",
       "0  RandomForest  0.661069\n",
       "1  DecisionTree  0.661069\n",
       "2  KNNeighbours  0.644275"
      ]
     },
     "execution_count": 19,
     "metadata": {},
     "output_type": "execute_result"
    }
   ],
   "source": [
    "outputs.sort_values(by='Accuracy', ascending=False)\n",
    "outputs.head()"
   ]
  },
  {
   "cell_type": "code",
   "execution_count": 20,
   "metadata": {
    "scrolled": true
   },
   "outputs": [
    {
     "data": {
      "text/plain": [
       "<matplotlib.axes._subplots.AxesSubplot at 0x207fefc1c48>"
      ]
     },
     "execution_count": 20,
     "metadata": {},
     "output_type": "execute_result"
    },
    {
     "data": {
      "image/png": "[encoded data removed]",
      "text/plain": [
       "<Figure size 432x288 with 1 Axes>"
      ]
     },
     "metadata": {
      "needs_background": "light"
     },
     "output_type": "display_data"
    }
   ],
   "source": [
    "sns.barplot(x= 'Accuracy', y= 'Models', data= outputs)"
   ]
  }
 ],
 "metadata": {
  "kernelspec": {
   "display_name": "Python 3",
   "language": "python",
   "name": "python3"
  },
  "language_info": {
   "codemirror_mode": {
    "name": "ipython",
    "version": 3
   },
   "file_extension": ".py",
   "mimetype": "text/x-python",
   "name": "python",
   "nbconvert_exporter": "python",
   "pygments_lexer": "ipython3",
   "version": "3.7.6"
  },
  "varInspector": {
   "cols": {
    "lenName": 16,
    "lenType": 16,
    "lenVar": 40
   },
   "kernels_config": {
    "python": {
     "delete_cmd_postfix": "",
     "delete_cmd_prefix": "del ",
     "library": "var_list.py",
     "varRefreshCmd": "print(var_dic_list())"
    },
    "r": {
     "delete_cmd_postfix": ") ",
     "delete_cmd_prefix": "rm(",
     "library": "var_list.r",
     "varRefreshCmd": "cat(var_dic_list()) "
    }
   },
   "types_to_exclude": [
    "module",
    "function",
    "builtin_function_or_method",
    "instance",
    "_Feature"
   ],
   "window_display": false
  }
 },
 "nbformat": 4,
 "nbformat_minor": 4
}
